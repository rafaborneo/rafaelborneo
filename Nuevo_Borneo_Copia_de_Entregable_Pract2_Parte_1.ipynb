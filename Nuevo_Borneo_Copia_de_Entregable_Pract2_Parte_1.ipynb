{
  "nbformat": 4,
  "nbformat_minor": 0,
  "metadata": {
    "colab": {
      "name": "Nuevo_Borneo_Copia_de_Entregable_Pract2_Parte_1.ipynb",
      "provenance": [],
      "collapsed_sections": [],
      "include_colab_link": true
    },
    "kernelspec": {
      "display_name": "Python 3",
      "language": "python",
      "name": "python3"
    },
    "language_info": {
      "codemirror_mode": {
        "name": "ipython",
        "version": 3
      },
      "file_extension": ".py",
      "mimetype": "text/x-python",
      "name": "python",
      "nbconvert_exporter": "python",
      "pygments_lexer": "ipython3",
      "version": "3.8.5"
    }
  },
  "cells": [
    {
      "cell_type": "markdown",
      "metadata": {
        "id": "view-in-github",
        "colab_type": "text"
      },
      "source": [
        "<a href=\"https://colab.research.google.com/github/rafaborneo/rafaelborneo/blob/master/Nuevo_Borneo_Copia_de_Entregable_Pract2_Parte_1.ipynb\" target=\"_parent\"><img src=\"https://colab.research.google.com/assets/colab-badge.svg\" alt=\"Open In Colab\"/></a>"
      ]
    },
    {
      "cell_type": "markdown",
      "metadata": {
        "id": "zO4bRoxr2Apy"
      },
      "source": [
        "**Diplomatura en Ciencia de Datos, Aprendizaje Automático y sus Aplicaciones**\n",
        "\n",
        "**Exploración y Curación de Datos**\n",
        "\n",
        "*Edición 2021*\n",
        "\n",
        "----\n",
        "\n",
        "# Trabajo práctico entregable - parte 1\n",
        "\n",
        "En esta notebook, vamos a cargar el conjunto de datos de [la compentencia Kaggle](https://www.kaggle.com/dansbecker/melbourne-housing-snapshot) sobre estimación de precios de ventas de propiedades en Melbourne, Australia.\n",
        "\n",
        "Utilizaremos el conjunto de datos reducido producido por [DanB](https://www.kaggle.com/dansbecker). Hemos subido una copia a un servidor de la Universidad Nacional de Córdoba para facilitar su acceso remoto."
      ]
    },
    {
      "cell_type": "code",
      "metadata": {
        "id": "4udjxjk1EtVU"
      },
      "source": [
        "import matplotlib.pyplot as plt\n",
        "import numpy as np\n",
        "import pandas as pd\n",
        "\n",
        "import seaborn as sns\n",
        "sns.set_context('talk')"
      ],
      "execution_count": null,
      "outputs": []
    },
    {
      "cell_type": "code",
      "metadata": {
        "colab": {
          "base_uri": "https://localhost:8080/",
          "height": 35
        },
        "id": "3XdIsB8hISis",
        "outputId": "5d82895b-2dff-4e69-b247-4d3d6f8211ad"
      },
      "source": [
        "import plotly\n",
        "plotly.__version__\n",
        "# Make sure it's 4.14.3"
      ],
      "execution_count": null,
      "outputs": [
        {
          "output_type": "execute_result",
          "data": {
            "application/vnd.google.colaboratory.intrinsic+json": {
              "type": "string"
            },
            "text/plain": [
              "'4.4.1'"
            ]
          },
          "metadata": {
            "tags": []
          },
          "execution_count": 97
        }
      ]
    },
    {
      "cell_type": "code",
      "metadata": {
        "colab": {
          "base_uri": "https://localhost:8080/",
          "height": 326
        },
        "id": "AhIpCcSLQo9L",
        "outputId": "b32f6036-3322-404c-d35d-a7f12266d6cf"
      },
      "source": [
        "pip install plotly --upgrade"
      ],
      "execution_count": null,
      "outputs": [
        {
          "output_type": "stream",
          "text": [
            "Collecting plotly\n",
            "\u001b[?25l  Downloading https://files.pythonhosted.org/packages/84/ff/cc3f54a0822987a5ac277de0deb018104f12aadd933cedd97b600894ebcc/plotly-5.0.0-py2.py3-none-any.whl (19.1MB)\n",
            "\u001b[K     |████████████████████████████████| 19.1MB 1.4MB/s \n",
            "\u001b[?25hCollecting tenacity>=6.2.0\n",
            "  Downloading https://files.pythonhosted.org/packages/41/ee/d6eddff86161c6a3a1753af4a66b06cbc508d3b77ca4698cd0374cd66531/tenacity-7.0.0-py2.py3-none-any.whl\n",
            "Requirement already satisfied, skipping upgrade: six in /usr/local/lib/python3.7/dist-packages (from plotly) (1.15.0)\n",
            "Installing collected packages: tenacity, plotly\n",
            "  Found existing installation: plotly 4.4.1\n",
            "    Uninstalling plotly-4.4.1:\n",
            "      Successfully uninstalled plotly-4.4.1\n",
            "Successfully installed plotly-5.0.0 tenacity-7.0.0\n"
          ],
          "name": "stdout"
        },
        {
          "output_type": "display_data",
          "data": {
            "application/vnd.colab-display-data+json": {
              "pip_warning": {
                "packages": [
                  "_plotly_utils",
                  "plotly"
                ]
              }
            }
          },
          "metadata": {
            "tags": []
          }
        }
      ]
    },
    {
      "cell_type": "code",
      "metadata": {
        "id": "i2nqY0GGIVn2"
      },
      "source": [
        "# To update plotly, uncomment and run the following line:\n",
        "#pip install plotly --upgrade"
      ],
      "execution_count": null,
      "outputs": []
    },
    {
      "cell_type": "code",
      "metadata": {
        "colab": {
          "base_uri": "https://localhost:8080/",
          "height": 444
        },
        "id": "_qeFN3GnEvMk",
        "scrolled": true,
        "outputId": "8a3f8c1b-4ea5-4e5c-d6c6-728d2c58f93e"
      },
      "source": [
        "melb_df = pd.read_csv(\n",
        "    'https://cs.famaf.unc.edu.ar/~mteruel/datasets/diplodatos/melb_data.csv')\n",
        "melb_df[:7]"
      ],
      "execution_count": null,
      "outputs": [
        {
          "output_type": "execute_result",
          "data": {
            "text/html": [
              "<div>\n",
              "<style scoped>\n",
              "    .dataframe tbody tr th:only-of-type {\n",
              "        vertical-align: middle;\n",
              "    }\n",
              "\n",
              "    .dataframe tbody tr th {\n",
              "        vertical-align: top;\n",
              "    }\n",
              "\n",
              "    .dataframe thead th {\n",
              "        text-align: right;\n",
              "    }\n",
              "</style>\n",
              "<table border=\"1\" class=\"dataframe\">\n",
              "  <thead>\n",
              "    <tr style=\"text-align: right;\">\n",
              "      <th></th>\n",
              "      <th>Suburb</th>\n",
              "      <th>Address</th>\n",
              "      <th>Rooms</th>\n",
              "      <th>Type</th>\n",
              "      <th>Price</th>\n",
              "      <th>Method</th>\n",
              "      <th>SellerG</th>\n",
              "      <th>Date</th>\n",
              "      <th>Distance</th>\n",
              "      <th>Postcode</th>\n",
              "      <th>Bedroom2</th>\n",
              "      <th>Bathroom</th>\n",
              "      <th>Car</th>\n",
              "      <th>Landsize</th>\n",
              "      <th>BuildingArea</th>\n",
              "      <th>YearBuilt</th>\n",
              "      <th>CouncilArea</th>\n",
              "      <th>Lattitude</th>\n",
              "      <th>Longtitude</th>\n",
              "      <th>Regionname</th>\n",
              "      <th>Propertycount</th>\n",
              "    </tr>\n",
              "  </thead>\n",
              "  <tbody>\n",
              "    <tr>\n",
              "      <th>0</th>\n",
              "      <td>Abbotsford</td>\n",
              "      <td>85 Turner St</td>\n",
              "      <td>2</td>\n",
              "      <td>h</td>\n",
              "      <td>1480000.0</td>\n",
              "      <td>S</td>\n",
              "      <td>Biggin</td>\n",
              "      <td>3/12/2016</td>\n",
              "      <td>2.5</td>\n",
              "      <td>3067.0</td>\n",
              "      <td>2.0</td>\n",
              "      <td>1.0</td>\n",
              "      <td>1.0</td>\n",
              "      <td>202.0</td>\n",
              "      <td>NaN</td>\n",
              "      <td>NaN</td>\n",
              "      <td>Yarra</td>\n",
              "      <td>-37.7996</td>\n",
              "      <td>144.9984</td>\n",
              "      <td>Northern Metropolitan</td>\n",
              "      <td>4019.0</td>\n",
              "    </tr>\n",
              "    <tr>\n",
              "      <th>1</th>\n",
              "      <td>Abbotsford</td>\n",
              "      <td>25 Bloomburg St</td>\n",
              "      <td>2</td>\n",
              "      <td>h</td>\n",
              "      <td>1035000.0</td>\n",
              "      <td>S</td>\n",
              "      <td>Biggin</td>\n",
              "      <td>4/02/2016</td>\n",
              "      <td>2.5</td>\n",
              "      <td>3067.0</td>\n",
              "      <td>2.0</td>\n",
              "      <td>1.0</td>\n",
              "      <td>0.0</td>\n",
              "      <td>156.0</td>\n",
              "      <td>79.0</td>\n",
              "      <td>1900.0</td>\n",
              "      <td>Yarra</td>\n",
              "      <td>-37.8079</td>\n",
              "      <td>144.9934</td>\n",
              "      <td>Northern Metropolitan</td>\n",
              "      <td>4019.0</td>\n",
              "    </tr>\n",
              "    <tr>\n",
              "      <th>2</th>\n",
              "      <td>Abbotsford</td>\n",
              "      <td>5 Charles St</td>\n",
              "      <td>3</td>\n",
              "      <td>h</td>\n",
              "      <td>1465000.0</td>\n",
              "      <td>SP</td>\n",
              "      <td>Biggin</td>\n",
              "      <td>4/03/2017</td>\n",
              "      <td>2.5</td>\n",
              "      <td>3067.0</td>\n",
              "      <td>3.0</td>\n",
              "      <td>2.0</td>\n",
              "      <td>0.0</td>\n",
              "      <td>134.0</td>\n",
              "      <td>150.0</td>\n",
              "      <td>1900.0</td>\n",
              "      <td>Yarra</td>\n",
              "      <td>-37.8093</td>\n",
              "      <td>144.9944</td>\n",
              "      <td>Northern Metropolitan</td>\n",
              "      <td>4019.0</td>\n",
              "    </tr>\n",
              "    <tr>\n",
              "      <th>3</th>\n",
              "      <td>Abbotsford</td>\n",
              "      <td>40 Federation La</td>\n",
              "      <td>3</td>\n",
              "      <td>h</td>\n",
              "      <td>850000.0</td>\n",
              "      <td>PI</td>\n",
              "      <td>Biggin</td>\n",
              "      <td>4/03/2017</td>\n",
              "      <td>2.5</td>\n",
              "      <td>3067.0</td>\n",
              "      <td>3.0</td>\n",
              "      <td>2.0</td>\n",
              "      <td>1.0</td>\n",
              "      <td>94.0</td>\n",
              "      <td>NaN</td>\n",
              "      <td>NaN</td>\n",
              "      <td>Yarra</td>\n",
              "      <td>-37.7969</td>\n",
              "      <td>144.9969</td>\n",
              "      <td>Northern Metropolitan</td>\n",
              "      <td>4019.0</td>\n",
              "    </tr>\n",
              "    <tr>\n",
              "      <th>4</th>\n",
              "      <td>Abbotsford</td>\n",
              "      <td>55a Park St</td>\n",
              "      <td>4</td>\n",
              "      <td>h</td>\n",
              "      <td>1600000.0</td>\n",
              "      <td>VB</td>\n",
              "      <td>Nelson</td>\n",
              "      <td>4/06/2016</td>\n",
              "      <td>2.5</td>\n",
              "      <td>3067.0</td>\n",
              "      <td>3.0</td>\n",
              "      <td>1.0</td>\n",
              "      <td>2.0</td>\n",
              "      <td>120.0</td>\n",
              "      <td>142.0</td>\n",
              "      <td>2014.0</td>\n",
              "      <td>Yarra</td>\n",
              "      <td>-37.8072</td>\n",
              "      <td>144.9941</td>\n",
              "      <td>Northern Metropolitan</td>\n",
              "      <td>4019.0</td>\n",
              "    </tr>\n",
              "    <tr>\n",
              "      <th>5</th>\n",
              "      <td>Abbotsford</td>\n",
              "      <td>129 Charles St</td>\n",
              "      <td>2</td>\n",
              "      <td>h</td>\n",
              "      <td>941000.0</td>\n",
              "      <td>S</td>\n",
              "      <td>Jellis</td>\n",
              "      <td>7/05/2016</td>\n",
              "      <td>2.5</td>\n",
              "      <td>3067.0</td>\n",
              "      <td>2.0</td>\n",
              "      <td>1.0</td>\n",
              "      <td>0.0</td>\n",
              "      <td>181.0</td>\n",
              "      <td>NaN</td>\n",
              "      <td>NaN</td>\n",
              "      <td>Yarra</td>\n",
              "      <td>-37.8041</td>\n",
              "      <td>144.9953</td>\n",
              "      <td>Northern Metropolitan</td>\n",
              "      <td>4019.0</td>\n",
              "    </tr>\n",
              "    <tr>\n",
              "      <th>6</th>\n",
              "      <td>Abbotsford</td>\n",
              "      <td>124 Yarra St</td>\n",
              "      <td>3</td>\n",
              "      <td>h</td>\n",
              "      <td>1876000.0</td>\n",
              "      <td>S</td>\n",
              "      <td>Nelson</td>\n",
              "      <td>7/05/2016</td>\n",
              "      <td>2.5</td>\n",
              "      <td>3067.0</td>\n",
              "      <td>4.0</td>\n",
              "      <td>2.0</td>\n",
              "      <td>0.0</td>\n",
              "      <td>245.0</td>\n",
              "      <td>210.0</td>\n",
              "      <td>1910.0</td>\n",
              "      <td>Yarra</td>\n",
              "      <td>-37.8024</td>\n",
              "      <td>144.9993</td>\n",
              "      <td>Northern Metropolitan</td>\n",
              "      <td>4019.0</td>\n",
              "    </tr>\n",
              "  </tbody>\n",
              "</table>\n",
              "</div>"
            ],
            "text/plain": [
              "       Suburb           Address  ...             Regionname Propertycount\n",
              "0  Abbotsford      85 Turner St  ...  Northern Metropolitan        4019.0\n",
              "1  Abbotsford   25 Bloomburg St  ...  Northern Metropolitan        4019.0\n",
              "2  Abbotsford      5 Charles St  ...  Northern Metropolitan        4019.0\n",
              "3  Abbotsford  40 Federation La  ...  Northern Metropolitan        4019.0\n",
              "4  Abbotsford       55a Park St  ...  Northern Metropolitan        4019.0\n",
              "5  Abbotsford    129 Charles St  ...  Northern Metropolitan        4019.0\n",
              "6  Abbotsford      124 Yarra St  ...  Northern Metropolitan        4019.0\n",
              "\n",
              "[7 rows x 21 columns]"
            ]
          },
          "metadata": {
            "tags": []
          },
          "execution_count": 100
        }
      ]
    },
    {
      "cell_type": "markdown",
      "metadata": {
        "id": "s-mixICN22kA"
      },
      "source": [
        "## Ejercicio 1: \n",
        "\n",
        "1. Eliminar los valores extremos que no sean relevantes para la predicción de valores de las propiedades.\n",
        "\n",
        "1. Investigar la distribución de las variables del conjunto de datos y seleccionar un subconjunto de columnas que les parezcan relevantes al problema de predicción del valor de la propiedad.\n",
        "  1. Justificar cada columna no seleccionada.\n",
        "  2. Para las variables categóricas seleccionadas, agrupe o combine las categorías poco frecuentes para asegurar que todos los grupos tengan un número mínimo de registros.\n",
        "\n",
        "2. Agregar información adicional respectiva al entorno de una propiedad a partir del [conjunto de datos de AirBnB](https://www.kaggle.com/tylerx/melbourne-airbnb-open-data?select=cleansed_listings_dec18.csv) utilizado en el práctico. \n",
        "  1. Seleccionar qué variables agregar y qué combinaciones aplicar a cada una. Por ejemplo, pueden utilizar solo la columna `price`, o aplicar múltiples transformaciones como la mediana o el mínimo.\n",
        "  1. Utilizar la variable zipcode para unir los conjuntos de datos. Sólo incluir los zipcodes que tengan una cantidad mínima de registros (a elección) como para que la información agregada sea relevante.\n",
        "  2. Investigar al menos otras 2 variables que puedan servir para combinar los datos, y justificar si serían adecuadas o no. Pueden asumir que cuentan con la ayuda de anotadores expertos para encontrar equivalencias entre barrios o direcciones, o que cuentan con algoritmos para encontrar las n ubicaciones más cercanas a una propiedad a partir de sus coordenadas geográficas. **NO** es necesario que realicen la implementación.\n",
        "\n",
        "Pueden leer otras columnas del conjunto de AirBnB además de las que están en `interesting_cols`, si les parecen relevantes.\n"
      ]
    },
    {
      "cell_type": "markdown",
      "metadata": {
        "id": "D5YHvP7kPW_p"
      },
      "source": [
        "# ***INSPECCION DEL DATA SET***"
      ]
    },
    {
      "cell_type": "code",
      "metadata": {
        "colab": {
          "base_uri": "https://localhost:8080/"
        },
        "id": "5Ax07va9RZ_z",
        "outputId": "2dbc95c1-0e7f-41af-fa1b-d44d717d104a"
      },
      "source": [
        "len(melb_df)"
      ],
      "execution_count": null,
      "outputs": [
        {
          "output_type": "execute_result",
          "data": {
            "text/plain": [
              "13580"
            ]
          },
          "metadata": {
            "tags": []
          },
          "execution_count": 101
        }
      ]
    },
    {
      "cell_type": "code",
      "metadata": {
        "colab": {
          "base_uri": "https://localhost:8080/"
        },
        "id": "rFhdiWjbrAZB",
        "outputId": "a766bb2e-a35f-48bb-f547-95cf688be76d"
      },
      "source": [
        "#NOMBRE DE LAS VARIABLES (COLUMNAS)\n",
        "melb_df.columns"
      ],
      "execution_count": null,
      "outputs": [
        {
          "output_type": "execute_result",
          "data": {
            "text/plain": [
              "Index(['Suburb', 'Address', 'Rooms', 'Type', 'Price', 'Method', 'SellerG',\n",
              "       'Date', 'Distance', 'Postcode', 'Bedroom2', 'Bathroom', 'Car',\n",
              "       'Landsize', 'BuildingArea', 'YearBuilt', 'CouncilArea', 'Lattitude',\n",
              "       'Longtitude', 'Regionname', 'Propertycount'],\n",
              "      dtype='object')"
            ]
          },
          "metadata": {
            "tags": []
          },
          "execution_count": 102
        }
      ]
    },
    {
      "cell_type": "code",
      "metadata": {
        "colab": {
          "base_uri": "https://localhost:8080/",
          "height": 319
        },
        "id": "_mW0uWWsPOaI",
        "outputId": "7de8b458-de0c-48e7-b91e-8f7949824225"
      },
      "source": [
        "melb_df.describe()"
      ],
      "execution_count": null,
      "outputs": [
        {
          "output_type": "execute_result",
          "data": {
            "text/html": [
              "<div>\n",
              "<style scoped>\n",
              "    .dataframe tbody tr th:only-of-type {\n",
              "        vertical-align: middle;\n",
              "    }\n",
              "\n",
              "    .dataframe tbody tr th {\n",
              "        vertical-align: top;\n",
              "    }\n",
              "\n",
              "    .dataframe thead th {\n",
              "        text-align: right;\n",
              "    }\n",
              "</style>\n",
              "<table border=\"1\" class=\"dataframe\">\n",
              "  <thead>\n",
              "    <tr style=\"text-align: right;\">\n",
              "      <th></th>\n",
              "      <th>Rooms</th>\n",
              "      <th>Price</th>\n",
              "      <th>Distance</th>\n",
              "      <th>Postcode</th>\n",
              "      <th>Bedroom2</th>\n",
              "      <th>Bathroom</th>\n",
              "      <th>Car</th>\n",
              "      <th>Landsize</th>\n",
              "      <th>BuildingArea</th>\n",
              "      <th>YearBuilt</th>\n",
              "      <th>Lattitude</th>\n",
              "      <th>Longtitude</th>\n",
              "      <th>Propertycount</th>\n",
              "    </tr>\n",
              "  </thead>\n",
              "  <tbody>\n",
              "    <tr>\n",
              "      <th>count</th>\n",
              "      <td>13580.000000</td>\n",
              "      <td>1.358000e+04</td>\n",
              "      <td>13580.000000</td>\n",
              "      <td>13580.000000</td>\n",
              "      <td>13580.000000</td>\n",
              "      <td>13580.000000</td>\n",
              "      <td>13518.000000</td>\n",
              "      <td>13580.000000</td>\n",
              "      <td>7130.000000</td>\n",
              "      <td>8205.000000</td>\n",
              "      <td>13580.000000</td>\n",
              "      <td>13580.000000</td>\n",
              "      <td>13580.000000</td>\n",
              "    </tr>\n",
              "    <tr>\n",
              "      <th>mean</th>\n",
              "      <td>2.937997</td>\n",
              "      <td>1.075684e+06</td>\n",
              "      <td>10.137776</td>\n",
              "      <td>3105.301915</td>\n",
              "      <td>2.914728</td>\n",
              "      <td>1.534242</td>\n",
              "      <td>1.610075</td>\n",
              "      <td>558.416127</td>\n",
              "      <td>151.967650</td>\n",
              "      <td>1964.684217</td>\n",
              "      <td>-37.809203</td>\n",
              "      <td>144.995216</td>\n",
              "      <td>7454.417378</td>\n",
              "    </tr>\n",
              "    <tr>\n",
              "      <th>std</th>\n",
              "      <td>0.955748</td>\n",
              "      <td>6.393107e+05</td>\n",
              "      <td>5.868725</td>\n",
              "      <td>90.676964</td>\n",
              "      <td>0.965921</td>\n",
              "      <td>0.691712</td>\n",
              "      <td>0.962634</td>\n",
              "      <td>3990.669241</td>\n",
              "      <td>541.014538</td>\n",
              "      <td>37.273762</td>\n",
              "      <td>0.079260</td>\n",
              "      <td>0.103916</td>\n",
              "      <td>4378.581772</td>\n",
              "    </tr>\n",
              "    <tr>\n",
              "      <th>min</th>\n",
              "      <td>1.000000</td>\n",
              "      <td>8.500000e+04</td>\n",
              "      <td>0.000000</td>\n",
              "      <td>3000.000000</td>\n",
              "      <td>0.000000</td>\n",
              "      <td>0.000000</td>\n",
              "      <td>0.000000</td>\n",
              "      <td>0.000000</td>\n",
              "      <td>0.000000</td>\n",
              "      <td>1196.000000</td>\n",
              "      <td>-38.182550</td>\n",
              "      <td>144.431810</td>\n",
              "      <td>249.000000</td>\n",
              "    </tr>\n",
              "    <tr>\n",
              "      <th>25%</th>\n",
              "      <td>2.000000</td>\n",
              "      <td>6.500000e+05</td>\n",
              "      <td>6.100000</td>\n",
              "      <td>3044.000000</td>\n",
              "      <td>2.000000</td>\n",
              "      <td>1.000000</td>\n",
              "      <td>1.000000</td>\n",
              "      <td>177.000000</td>\n",
              "      <td>93.000000</td>\n",
              "      <td>1940.000000</td>\n",
              "      <td>-37.856822</td>\n",
              "      <td>144.929600</td>\n",
              "      <td>4380.000000</td>\n",
              "    </tr>\n",
              "    <tr>\n",
              "      <th>50%</th>\n",
              "      <td>3.000000</td>\n",
              "      <td>9.030000e+05</td>\n",
              "      <td>9.200000</td>\n",
              "      <td>3084.000000</td>\n",
              "      <td>3.000000</td>\n",
              "      <td>1.000000</td>\n",
              "      <td>2.000000</td>\n",
              "      <td>440.000000</td>\n",
              "      <td>126.000000</td>\n",
              "      <td>1970.000000</td>\n",
              "      <td>-37.802355</td>\n",
              "      <td>145.000100</td>\n",
              "      <td>6555.000000</td>\n",
              "    </tr>\n",
              "    <tr>\n",
              "      <th>75%</th>\n",
              "      <td>3.000000</td>\n",
              "      <td>1.330000e+06</td>\n",
              "      <td>13.000000</td>\n",
              "      <td>3148.000000</td>\n",
              "      <td>3.000000</td>\n",
              "      <td>2.000000</td>\n",
              "      <td>2.000000</td>\n",
              "      <td>651.000000</td>\n",
              "      <td>174.000000</td>\n",
              "      <td>1999.000000</td>\n",
              "      <td>-37.756400</td>\n",
              "      <td>145.058305</td>\n",
              "      <td>10331.000000</td>\n",
              "    </tr>\n",
              "    <tr>\n",
              "      <th>max</th>\n",
              "      <td>10.000000</td>\n",
              "      <td>9.000000e+06</td>\n",
              "      <td>48.100000</td>\n",
              "      <td>3977.000000</td>\n",
              "      <td>20.000000</td>\n",
              "      <td>8.000000</td>\n",
              "      <td>10.000000</td>\n",
              "      <td>433014.000000</td>\n",
              "      <td>44515.000000</td>\n",
              "      <td>2018.000000</td>\n",
              "      <td>-37.408530</td>\n",
              "      <td>145.526350</td>\n",
              "      <td>21650.000000</td>\n",
              "    </tr>\n",
              "  </tbody>\n",
              "</table>\n",
              "</div>"
            ],
            "text/plain": [
              "              Rooms         Price  ...    Longtitude  Propertycount\n",
              "count  13580.000000  1.358000e+04  ...  13580.000000   13580.000000\n",
              "mean       2.937997  1.075684e+06  ...    144.995216    7454.417378\n",
              "std        0.955748  6.393107e+05  ...      0.103916    4378.581772\n",
              "min        1.000000  8.500000e+04  ...    144.431810     249.000000\n",
              "25%        2.000000  6.500000e+05  ...    144.929600    4380.000000\n",
              "50%        3.000000  9.030000e+05  ...    145.000100    6555.000000\n",
              "75%        3.000000  1.330000e+06  ...    145.058305   10331.000000\n",
              "max       10.000000  9.000000e+06  ...    145.526350   21650.000000\n",
              "\n",
              "[8 rows x 13 columns]"
            ]
          },
          "metadata": {
            "tags": []
          },
          "execution_count": 103
        }
      ]
    },
    {
      "cell_type": "code",
      "metadata": {
        "id": "cKG7a9AoPOT9"
      },
      "source": [
        ""
      ],
      "execution_count": null,
      "outputs": []
    },
    {
      "cell_type": "markdown",
      "metadata": {
        "id": "bnGYz7QmTlkp"
      },
      "source": [
        "# **Se puede notar que el count de cada variable es diferente a 13580 (numero de filas). por ejemplo la variable Car tiene 13518 (no muy diferente) pero la variable BuildingArea tiene 7130 (osea 48% datos faltantes) y la variable YearBuilt 8205 (39% datos faltantes).** "
      ]
    },
    {
      "cell_type": "markdown",
      "metadata": {
        "id": "nl-PH3e0Vl8r"
      },
      "source": [
        "### BUSCAMOS VALORES UNICOS"
      ]
    },
    {
      "cell_type": "code",
      "metadata": {
        "colab": {
          "base_uri": "https://localhost:8080/"
        },
        "id": "_WJtTTLpPOM6",
        "outputId": "1a0f6975-dd5b-45f5-81e3-fdd4e8059a37"
      },
      "source": [
        "#tipos de casa\n",
        "pd.unique(melb_df.Type)\n",
        "#h=House, u=Unit, t=Townhouse"
      ],
      "execution_count": null,
      "outputs": [
        {
          "output_type": "execute_result",
          "data": {
            "text/plain": [
              "array(['h', 'u', 't'], dtype=object)"
            ]
          },
          "metadata": {
            "tags": []
          },
          "execution_count": 104
        }
      ]
    },
    {
      "cell_type": "code",
      "metadata": {
        "colab": {
          "base_uri": "https://localhost:8080/"
        },
        "id": "7WVSvBnLPOF0",
        "outputId": "5eb09436-b7ee-45a4-b5b3-7c0e2e5ae620"
      },
      "source": [
        "#como se vendieron\n",
        "pd.unique(melb_df.Method)\n",
        "#S - property sold; SP - property sold prior; PI - property passed in;  \n",
        "#SN - sold not disclosed; VB - vendor bid;# \n",
        "#SA - sold after auction;\n"
      ],
      "execution_count": null,
      "outputs": [
        {
          "output_type": "execute_result",
          "data": {
            "text/plain": [
              "array(['S', 'SP', 'PI', 'VB', 'SA'], dtype=object)"
            ]
          },
          "metadata": {
            "tags": []
          },
          "execution_count": 105
        }
      ]
    },
    {
      "cell_type": "code",
      "metadata": {
        "colab": {
          "base_uri": "https://localhost:8080/"
        },
        "id": "Xpqj0e_bPN4w",
        "outputId": "4898bcca-035f-473e-88ee-255f150e29e6"
      },
      "source": [
        "#numero de habitaciones\n",
        "pd.unique(melb_df.Bedroom2.sort_values()) \n",
        "# Hay casas con lo que parece un numero excesivo de habitaciones (10?, 20?)"
      ],
      "execution_count": null,
      "outputs": [
        {
          "output_type": "execute_result",
          "data": {
            "text/plain": [
              "array([ 0.,  1.,  2.,  3.,  4.,  5.,  6.,  7.,  8.,  9., 10., 20.])"
            ]
          },
          "metadata": {
            "tags": []
          },
          "execution_count": 106
        }
      ]
    },
    {
      "cell_type": "code",
      "metadata": {
        "id": "6Rd5KbvPPNVM",
        "colab": {
          "base_uri": "https://localhost:8080/"
        },
        "outputId": "14ca41c6-dd8c-4c17-a194-701a5ab8b0ce"
      },
      "source": [
        "pd.unique(melb_df.Car.sort_values())\n",
        "#Tambien parece que hay casas con un numero exesivo de coheras (8,,9,10,20??--parees datos erroneos)"
      ],
      "execution_count": null,
      "outputs": [
        {
          "output_type": "execute_result",
          "data": {
            "text/plain": [
              "array([ 0.,  1.,  2.,  3.,  4.,  5.,  6.,  7.,  8.,  9., 10., nan])"
            ]
          },
          "metadata": {
            "tags": []
          },
          "execution_count": 107
        }
      ]
    },
    {
      "cell_type": "markdown",
      "metadata": {
        "id": "-Y9gmcJqZdwN"
      },
      "source": [
        "Landsize\tBuildingArea tienen valores MAXIMOS muy altos. sacamos un quantile 95% para ver que tan cierto pueden ser estos valores tan altos"
      ]
    },
    {
      "cell_type": "code",
      "metadata": {
        "colab": {
          "base_uri": "https://localhost:8080/"
        },
        "id": "vp_efpJKZLIo",
        "outputId": "db46e0d3-5cf4-42ea-f98c-654dc5ccbc5a"
      },
      "source": [
        "melb_df.Landsize.quantile(0.95), melb_df.BuildingArea.quantile(0.95)\n",
        "#puede verseque con quantiles de 95% el valor de las variables dsiminuye considerablemente por lo que PARECE que hay datos erroneos"
      ],
      "execution_count": null,
      "outputs": [
        {
          "output_type": "execute_result",
          "data": {
            "text/plain": [
              "(995.0, 294.0)"
            ]
          },
          "metadata": {
            "tags": []
          },
          "execution_count": 108
        }
      ]
    },
    {
      "cell_type": "markdown",
      "metadata": {
        "id": "jp-sDEG7czI_"
      },
      "source": [
        "### **explorar variables con datos raros** Y NOS QUEDAMOS CON VALORES MAS LOGICOS"
      ]
    },
    {
      "cell_type": "code",
      "metadata": {
        "colab": {
          "base_uri": "https://localhost:8080/",
          "height": 297
        },
        "id": "UfztmUHeZLHH",
        "outputId": "3cd33557-8e70-4193-c3df-67ddf9029e2a"
      },
      "source": [
        "melb_df.YearBuilt.hist(bins=100)\n",
        "#AÑO DE CONSTRUCCION: GRAFICO MUESTRA que la mayoria fue construida despues de 1850\n",
        "#se PUEDE ELIMANR DATOS MENORES A 1850"
      ],
      "execution_count": null,
      "outputs": [
        {
          "output_type": "execute_result",
          "data": {
            "text/plain": [
              "<matplotlib.axes._subplots.AxesSubplot at 0x7ff65f76c850>"
            ]
          },
          "metadata": {
            "tags": []
          },
          "execution_count": 109
        },
        {
          "output_type": "display_data",
          "data": {
            "image/png": "[encoded data removed]",
            "text/plain": [
              "<Figure size 432x288 with 1 Axes>"
            ]
          },
          "metadata": {
            "tags": [],
            "needs_background": "light"
          }
        }
      ]
    },
    {
      "cell_type": "code",
      "metadata": {
        "id": "OI-bZL0jZLBT"
      },
      "source": [
        "melb_df.drop(melb_df.query('YearBuilt < 1850').index, inplace=True)"
      ],
      "execution_count": null,
      "outputs": []
    },
    {
      "cell_type": "code",
      "metadata": {
        "colab": {
          "base_uri": "https://localhost:8080/",
          "height": 297
        },
        "id": "UTgEblApZK_y",
        "outputId": "f75ff8ae-ab08-4a6b-f8d7-d79828596fd7"
      },
      "source": [
        "melb_df.YearBuilt.hist(bins=50)"
      ],
      "execution_count": null,
      "outputs": [
        {
          "output_type": "execute_result",
          "data": {
            "text/plain": [
              "<matplotlib.axes._subplots.AxesSubplot at 0x7ff65f7b3390>"
            ]
          },
          "metadata": {
            "tags": []
          },
          "execution_count": 111
        },
        {
          "output_type": "display_data",
          "data": {
            "image/png": "[encoded data removed]",
            "text/plain": [
              "<Figure size 432x288 with 1 Axes>"
            ]
          },
          "metadata": {
            "tags": [],
            "needs_background": "light"
          }
        }
      ]
    },
    {
      "cell_type": "code",
      "metadata": {
        "colab": {
          "base_uri": "https://localhost:8080/"
        },
        "id": "xzlhhjHzZK59",
        "outputId": "93b6ed9f-4496-41e5-c93a-9e4d5c01ff10"
      },
      "source": [
        "#variable COCHERAS\n",
        "melb_df.Car.value_counts()\n",
        "# hAY propiedades con 7,8,9,10 COCHERAS\n"
      ],
      "execution_count": null,
      "outputs": [
        {
          "output_type": "execute_result",
          "data": {
            "text/plain": [
              "2.0     5591\n",
              "1.0     5508\n",
              "0.0     1026\n",
              "3.0      748\n",
              "4.0      505\n",
              "5.0       63\n",
              "6.0       54\n",
              "8.0        9\n",
              "7.0        8\n",
              "10.0       3\n",
              "9.0        1\n",
              "Name: Car, dtype: int64"
            ]
          },
          "metadata": {
            "tags": []
          },
          "execution_count": 112
        }
      ]
    },
    {
      "cell_type": "code",
      "metadata": {
        "colab": {
          "base_uri": "https://localhost:8080/"
        },
        "id": "eKC3GGWeZK4i",
        "outputId": "13aed930-ca3d-4589-990f-9abb74005386"
      },
      "source": [
        "#se pueden ELIMINAR DATOS CON  MAS DE 6 COCHERAS (PARECEN RAROS/ERRONEOS)\n",
        "melb_df = melb_df.query('Car < 7')\n",
        "melb_df.Car.value_counts()"
      ],
      "execution_count": null,
      "outputs": [
        {
          "output_type": "execute_result",
          "data": {
            "text/plain": [
              "2.0    5591\n",
              "1.0    5508\n",
              "0.0    1026\n",
              "3.0     748\n",
              "4.0     505\n",
              "5.0      63\n",
              "6.0      54\n",
              "Name: Car, dtype: int64"
            ]
          },
          "metadata": {
            "tags": []
          },
          "execution_count": 113
        }
      ]
    },
    {
      "cell_type": "code",
      "metadata": {
        "colab": {
          "base_uri": "https://localhost:8080/"
        },
        "id": "F-hbP0P3ZKyr",
        "outputId": "e658e765-fc03-4423-acfb-2b7307ff47d9"
      },
      "source": [
        "#variable habitaciones\n",
        "melb_df.Bedroom2.value_counts()"
      ],
      "execution_count": null,
      "outputs": [
        {
          "output_type": "execute_result",
          "data": {
            "text/plain": [
              "3.0     5859\n",
              "2.0     3710\n",
              "4.0     2586\n",
              "1.0      688\n",
              "5.0      555\n",
              "6.0       62\n",
              "0.0       16\n",
              "7.0       10\n",
              "8.0        5\n",
              "9.0        2\n",
              "10.0       1\n",
              "20.0       1\n",
              "Name: Bedroom2, dtype: int64"
            ]
          },
          "metadata": {
            "tags": []
          },
          "execution_count": 114
        }
      ]
    },
    {
      "cell_type": "code",
      "metadata": {
        "colab": {
          "base_uri": "https://localhost:8080/"
        },
        "id": "g3V70AZLgOrX",
        "outputId": "a8b256d2-a06d-404d-826c-d64ac91ecc79"
      },
      "source": [
        "#eliminamos propiedades con cero y mas de 5\n",
        "melb_df = melb_df.query(' (Bedroom2 < 6) & (Bedroom2 > 0)')\n",
        "melb_df.Bedroom2.value_counts()\n"
      ],
      "execution_count": null,
      "outputs": [
        {
          "output_type": "execute_result",
          "data": {
            "text/plain": [
              "3.0    5859\n",
              "2.0    3710\n",
              "4.0    2586\n",
              "1.0     688\n",
              "5.0     555\n",
              "Name: Bedroom2, dtype: int64"
            ]
          },
          "metadata": {
            "tags": []
          },
          "execution_count": 115
        }
      ]
    },
    {
      "cell_type": "code",
      "metadata": {
        "colab": {
          "base_uri": "https://localhost:8080/"
        },
        "id": "y6EWipYLgOm1",
        "outputId": "e0d2a93c-df94-439d-bca1-099fd57a7102"
      },
      "source": [
        "#hacemos lo mismo con el numero de baños; eliminamos cero baños y solo quedan aquellos con 5 BAÑOS O MENOS\n",
        "melb_df = melb_df.query('(Bathroom > 0) & (Bathroom < 6)')\n",
        "melb_df.Bathroom.value_counts()"
      ],
      "execution_count": null,
      "outputs": [
        {
          "output_type": "execute_result",
          "data": {
            "text/plain": [
              "1.0    7450\n",
              "2.0    4922\n",
              "3.0     875\n",
              "4.0      91\n",
              "5.0      28\n",
              "Name: Bathroom, dtype: int64"
            ]
          },
          "metadata": {
            "tags": []
          },
          "execution_count": 116
        }
      ]
    },
    {
      "cell_type": "markdown",
      "metadata": {
        "id": "5TjQoIWZiq_3"
      },
      "source": [
        "### ***SELECCIONAR COLUMNAS (CON LAS QUE NOS QUEDAMOS)***"
      ]
    },
    {
      "cell_type": "markdown",
      "metadata": {
        "id": "9VQdsBrkiq8k"
      },
      "source": [
        ""
      ]
    },
    {
      "cell_type": "code",
      "metadata": {
        "colab": {
          "base_uri": "https://localhost:8080/"
        },
        "id": "M6f3By8Si3Z-",
        "outputId": "d9586bb0-7532-497b-f984-ab101dc1b4eb"
      },
      "source": [
        "#que VARIABLES TENEMOS EN EL DATASET ORIGINAL?\n",
        "melb_df.columns"
      ],
      "execution_count": null,
      "outputs": [
        {
          "output_type": "execute_result",
          "data": {
            "text/plain": [
              "Index(['Suburb', 'Address', 'Rooms', 'Type', 'Price', 'Method', 'SellerG',\n",
              "       'Date', 'Distance', 'Postcode', 'Bedroom2', 'Bathroom', 'Car',\n",
              "       'Landsize', 'BuildingArea', 'YearBuilt', 'CouncilArea', 'Lattitude',\n",
              "       'Longtitude', 'Regionname', 'Propertycount'],\n",
              "      dtype='object')"
            ]
          },
          "metadata": {
            "tags": []
          },
          "execution_count": 117
        }
      ]
    },
    {
      "cell_type": "markdown",
      "metadata": {
        "id": "RE077-ETznSP"
      },
      "source": [
        "poner que significa cada variables"
      ]
    },
    {
      "cell_type": "code",
      "metadata": {
        "id": "xfAB4gzCi3Vu"
      },
      "source": [
        "#UN ANALISIS RAPIDO (INTUITIVO) NOS LLEVA A PENSAR QUE :\n",
        "\n",
        "#LA VARIABLE SellerG NO PARECE ESTAR REFERIDA A LA PROPIEDAD SINO AL NOMBRE DEL VENDEDOR PORLO QUE\n",
        "#NO CREEMOS QUE TENGA EFECTO SOBRE EL PRECIO DE LA PROPIEDAD\n",
        "#LA VARIABLE 'Address' ES MUY ESPECIFICA, \n",
        "##eN CLASE VIMOS QUE LA VARIABLE bedroom2 ESTA MUY ASOCIADA A RoomS POR LO QUE SE PODRIA ELIMINAR\n",
        "#LA VARIABLE METODO DE VENTA ESTA MUY DESBALANCEADA (CASI TODO SE VENDIO VENTA DIRECTA) POR LO QUE A PRIORI SE PODRIA ELIMINAR (MAS ADELANTE VER GRAFICO)\n",
        "#POR LO QUE A PRIORI ELIMINAMOS LAS COLUMNAS 'Address', 'SellerG', 'Method'\n",
        "#LAS VARIABLES COUNCILNAME Y PRPERTYCOUNT podrian EJERCER EFECTO SOBRE EL PRECIO POR LA RAZON DE \n",
        "#\"DONDE ESTE LA PROPIEDAD (\"COUNCILNAME\") Y LA DENSIDAD DE PROPIEDADES EN UNA AREA DETERMINADA (PROPERTY COUNT)\n",
        "#NOS PARECE QUE EL SUBURBIO ((suburb) DEBE TENER EFECTO SOBRE EL PRECIO (\"barrios mas seguros\", \"barrios con mas/menos parques, barrios con mas/menos servicios\" etc etc)\n",
        "#lAS VARIABLES LONGITUD Y LATITUD ES MUY NUMEROSA PERO LA DEJAMOS PARA USARLAS COMO BASE/METODO PARA COMPLEMENTAR (MERGE) EL DATA SET CON EL DATASET DEL airbnb"
      ],
      "execution_count": null,
      "outputs": []
    },
    {
      "cell_type": "code",
      "metadata": {
        "id": "lSPvyPAFfnem"
      },
      "source": [
        "#VEAMOS LA RELACION DE LA VARIABLE PRECIO CON ALGUNAS VARIABLES POSIBLES A ELIMINAR "
      ],
      "execution_count": null,
      "outputs": []
    },
    {
      "cell_type": "code",
      "metadata": {
        "colab": {
          "base_uri": "https://localhost:8080/",
          "height": 755
        },
        "id": "otJNJPVifnQX",
        "outputId": "10e45804-ed8d-4baa-d427-341752657ee8"
      },
      "source": [
        "#PRECIO VS TAMAÑO TERRENO Y TIPO DE PROPIEDAD\n",
        "plt.figure(figsize=(10,10))\n",
        "sns.scatterplot(melb_df.Landsize,melb_df.Price,hue=melb_df.Type)\n",
        "plt.xlim(0,1000)"
      ],
      "execution_count": null,
      "outputs": [
        {
          "output_type": "stream",
          "text": [
            "/usr/local/lib/python3.7/dist-packages/seaborn/_decorators.py:43: FutureWarning:\n",
            "\n",
            "Pass the following variables as keyword args: x, y. From version 0.12, the only valid positional argument will be `data`, and passing other arguments without an explicit keyword will result in an error or misinterpretation.\n",
            "\n"
          ],
          "name": "stderr"
        },
        {
          "output_type": "execute_result",
          "data": {
            "text/plain": [
              "(0.0, 1000.0)"
            ]
          },
          "metadata": {
            "tags": []
          },
          "execution_count": 120
        },
        {
          "output_type": "display_data",
          "data": {
            "image/png": "[encoded data removed]",
            "text/plain": [
              "<Figure size 720x720 with 1 Axes>"
            ]
          },
          "metadata": {
            "tags": [],
            "needs_background": "light"
          }
        }
      ]
    },
    {
      "cell_type": "markdown",
      "metadata": {
        "id": "iqHiLOoFiJZx"
      },
      "source": [
        "### CONCLUSION: PRECIO PARECE NO DEPENDER DEL TAMAÑO DE PROPIEDAD, INCLUSO DENTRO DE CADA TIPO DE PROPIEDAD. ESTA COLUMNA SE PODRIA ELIMINAR"
      ]
    },
    {
      "cell_type": "code",
      "metadata": {
        "colab": {
          "base_uri": "https://localhost:8080/",
          "height": 608
        },
        "id": "LD0-LffofnDZ",
        "outputId": "bb2c55fc-eb90-4e53-c279-456436f51d99"
      },
      "source": [
        "#PRECIO VS TIPO DE PROPIEDAD\n",
        "sns.catplot(data=melb_df, y='Price',\n",
        "                x='Type', height=8, aspect=1) "
      ],
      "execution_count": null,
      "outputs": [
        {
          "output_type": "execute_result",
          "data": {
            "text/plain": [
              "<seaborn.axisgrid.FacetGrid at 0x7ff65efc9b50>"
            ]
          },
          "metadata": {
            "tags": []
          },
          "execution_count": 121
        },
        {
          "output_type": "display_data",
          "data": {
            "image/png": "[encoded data removed]",
            "text/plain": [
              "<Figure size 576x576 with 1 Axes>"
            ]
          },
          "metadata": {
            "tags": [],
            "needs_background": "light"
          }
        }
      ]
    },
    {
      "cell_type": "markdown",
      "metadata": {
        "id": "pjeqIIhijPf7"
      },
      "source": [
        "### EL TIPO de propiedad si parece tener efecto sobre el precio. las casas (h) prece tener precios mas altos "
      ]
    },
    {
      "cell_type": "code",
      "metadata": {
        "colab": {
          "base_uri": "https://localhost:8080/",
          "height": 662
        },
        "id": "IaU90iiLfm1x",
        "outputId": "c71e2ed1-ac81-4840-e17f-79460fa102c9"
      },
      "source": [
        "#PRECIO CON NUMERO DE HABITACIONES (ROOMS)\n",
        "\n",
        "plt.figure(figsize=(10,10))\n",
        "sns.barplot(y=melb_df.Price,x=melb_df.Rooms) "
      ],
      "execution_count": null,
      "outputs": [
        {
          "output_type": "execute_result",
          "data": {
            "text/plain": [
              "<matplotlib.axes._subplots.AxesSubplot at 0x7ff65f080ed0>"
            ]
          },
          "metadata": {
            "tags": []
          },
          "execution_count": 122
        },
        {
          "output_type": "display_data",
          "data": {
            "image/png": "[encoded data removed]",
            "text/plain": [
              "<Figure size 720x720 with 1 Axes>"
            ]
          },
          "metadata": {
            "tags": [],
            "needs_background": "light"
          }
        }
      ]
    },
    {
      "cell_type": "markdown",
      "metadata": {
        "id": "8JntmkEhkk3u"
      },
      "source": [
        "### ROOMS SI"
      ]
    },
    {
      "cell_type": "code",
      "metadata": {
        "colab": {
          "base_uri": "https://localhost:8080/",
          "height": 662
        },
        "id": "NCVClR07fmoq",
        "outputId": "b71ee1ca-e775-4c28-e66f-84750c732629"
      },
      "source": [
        "#PRECIO VS NUMERO DE BAÑOS\n",
        "\n",
        "plt.figure(figsize=(10,10))\n",
        "sns.barplot(y=melb_df.Price,x=melb_df.Bathroom) \n"
      ],
      "execution_count": null,
      "outputs": [
        {
          "output_type": "execute_result",
          "data": {
            "text/plain": [
              "<matplotlib.axes._subplots.AxesSubplot at 0x7ff65efa2550>"
            ]
          },
          "metadata": {
            "tags": []
          },
          "execution_count": 123
        },
        {
          "output_type": "display_data",
          "data": {
            "image/png": "[encoded data removed]",
            "text/plain": [
              "<Figure size 720x720 with 1 Axes>"
            ]
          },
          "metadata": {
            "tags": [],
            "needs_background": "light"
          }
        }
      ]
    },
    {
      "cell_type": "markdown",
      "metadata": {
        "id": "J0GZ0LRmlUEd"
      },
      "source": [
        "### BAÑOS SI"
      ]
    },
    {
      "cell_type": "code",
      "metadata": {
        "colab": {
          "base_uri": "https://localhost:8080/",
          "height": 1000
        },
        "id": "Ee7pGtnOlT2J",
        "outputId": "e9aef301-523a-4324-d142-4adf15726c52"
      },
      "source": [
        "#PRECIO VS REGIONNAME\n",
        "\n",
        "plt.figure(figsize=(10,15))\n",
        "sns.barplot(y=melb_df.Price,x=melb_df.Regionname) \n",
        "plt.xticks(rotation=90)\n",
        "#SI HAY RELACION; NOS QUEDAMOS CON ESTA COLUMNA\n",
        "\n"
      ],
      "execution_count": null,
      "outputs": [
        {
          "output_type": "execute_result",
          "data": {
            "text/plain": [
              "(array([0, 1, 2, 3, 4, 5, 6, 7]), <a list of 8 Text major ticklabel objects>)"
            ]
          },
          "metadata": {
            "tags": []
          },
          "execution_count": 124
        },
        {
          "output_type": "display_data",
          "data": {
            "image/png": "[encoded data removed]",
            "text/plain": [
              "<Figure size 720x1080 with 1 Axes>"
            ]
          },
          "metadata": {
            "tags": [],
            "needs_background": "light"
          }
        }
      ]
    },
    {
      "cell_type": "code",
      "metadata": {
        "colab": {
          "base_uri": "https://localhost:8080/",
          "height": 662
        },
        "id": "P9b7o2VmlTxA",
        "outputId": "142323e5-b156-40da-e022-c9d4cc64ea71"
      },
      "source": [
        "#PRECIO VS METODO DE VENTA\n",
        "\n",
        "plt.figure(figsize=(10,10))\n",
        "sns.barplot(y=melb_df.Price,x=melb_df.Method) \n",
        "\n",
        "#NO PARECE HABER RELACION; SE PUEDE ELIMINAR ESTA COLUMNA"
      ],
      "execution_count": null,
      "outputs": [
        {
          "output_type": "execute_result",
          "data": {
            "text/plain": [
              "<matplotlib.axes._subplots.AxesSubplot at 0x7ff65f600290>"
            ]
          },
          "metadata": {
            "tags": []
          },
          "execution_count": 125
        },
        {
          "output_type": "display_data",
          "data": {
            "image/png": "[encoded data removed]",
            "text/plain": [
              "<Figure size 720x720 with 1 Axes>"
            ]
          },
          "metadata": {
            "tags": [],
            "needs_background": "light"
          }
        }
      ]
    },
    {
      "cell_type": "code",
      "metadata": {
        "colab": {
          "base_uri": "https://localhost:8080/",
          "height": 662
        },
        "id": "0-GZXRoElTvL",
        "outputId": "6ba3e011-e791-4c59-d5c2-4d4b69d2f420"
      },
      "source": [
        "#PRECIO VS DISTANCIA AL CENTRO\n",
        "plt.figure(figsize=(10,10))\n",
        "sns.barplot(y=melb_df.Price,x=melb_df.Distance) \n",
        "#ESTA MUY FEO NO SE ENTIENDE, VEAMOS CON UN LINEPLOT (PROXIMA CELDA)\n",
        "\n"
      ],
      "execution_count": null,
      "outputs": [
        {
          "output_type": "execute_result",
          "data": {
            "text/plain": [
              "<matplotlib.axes._subplots.AxesSubplot at 0x7ff664959a10>"
            ]
          },
          "metadata": {
            "tags": []
          },
          "execution_count": 126
        },
        {
          "output_type": "display_data",
          "data": {
            "image/png": "[encoded data removed]",
            "text/plain": [
              "<Figure size 720x720 with 1 Axes>"
            ]
          },
          "metadata": {
            "tags": [],
            "needs_background": "light"
          }
        }
      ]
    },
    {
      "cell_type": "code",
      "metadata": {
        "colab": {
          "base_uri": "https://localhost:8080/",
          "height": 662
        },
        "id": "uJ-ALD9vlTpn",
        "outputId": "218bc0b9-398b-4b49-c131-9bb7f5721114"
      },
      "source": [
        "plt.figure(figsize=(15,10))\n",
        "sns.lineplot(y=melb_df.Price,x=melb_df.Distance)\n",
        "#EXCEPTO por valores raros, el precio de la propiedad parece dependder de distancia al cenro NOS QUEDAMOS CON ESTA VARIABLE"
      ],
      "execution_count": null,
      "outputs": [
        {
          "output_type": "execute_result",
          "data": {
            "text/plain": [
              "<matplotlib.axes._subplots.AxesSubplot at 0x7ff65efa3f90>"
            ]
          },
          "metadata": {
            "tags": []
          },
          "execution_count": 127
        },
        {
          "output_type": "display_data",
          "data": {
            "image/png": "[encoded data removed]",
            "text/plain": [
              "<Figure size 1080x720 with 1 Axes>"
            ]
          },
          "metadata": {
            "tags": [],
            "needs_background": "light"
          }
        }
      ]
    },
    {
      "cell_type": "markdown",
      "metadata": {
        "id": "FcFtfc0zt8mO"
      },
      "source": [
        "**texto en negrita**###  **texto en negrita**\n",
        " \n",
        "\n"
      ]
    },
    {
      "cell_type": "markdown",
      "metadata": {
        "id": "6U1dngYKw9oj"
      },
      "source": [
        "## **EN BASE AL ANALISIS ANTERIOR (INTUICION Y GRAFICOS) NOS QUEDAMOS CON LAS VARIABLES (COLUMNAS): \n",
        " 'BuildingArea', 'YearBuilt', 'CouncilArea', 'Regionname', 'Suburb', 'Type','Rooms', 'Car','Distance', 'Postcode', 'Bathroom', , 'Lattitude',  Longtitude',  \n",
        "'Price',**"
      ]
    },
    {
      "cell_type": "markdown",
      "metadata": {
        "id": "PMz0AKIg0eFZ"
      },
      "source": [
        "### **NUEVO DATASET (CURADO)**"
      ]
    },
    {
      "cell_type": "code",
      "metadata": {
        "id": "H0SfLUH3fmCx"
      },
      "source": [
        ""
      ],
      "execution_count": null,
      "outputs": []
    },
    {
      "cell_type": "code",
      "metadata": {
        "id": "uGlOvACIlbJR"
      },
      "source": [
        "melb_df_nuevo = melb_df.copy()\n",
        "#hago una copia"
      ],
      "execution_count": null,
      "outputs": []
    },
    {
      "cell_type": "code",
      "metadata": {
        "colab": {
          "base_uri": "https://localhost:8080/",
          "height": 666
        },
        "id": "w7sjpnXPlXZv",
        "outputId": "69d86ae9-d8b0-4724-af81-9cebb205c010"
      },
      "source": [
        "melb_df_nuevo"
      ],
      "execution_count": null,
      "outputs": [
        {
          "output_type": "execute_result",
          "data": {
            "text/html": [
              "<div>\n",
              "<style scoped>\n",
              "    .dataframe tbody tr th:only-of-type {\n",
              "        vertical-align: middle;\n",
              "    }\n",
              "\n",
              "    .dataframe tbody tr th {\n",
              "        vertical-align: top;\n",
              "    }\n",
              "\n",
              "    .dataframe thead th {\n",
              "        text-align: right;\n",
              "    }\n",
              "</style>\n",
              "<table border=\"1\" class=\"dataframe\">\n",
              "  <thead>\n",
              "    <tr style=\"text-align: right;\">\n",
              "      <th></th>\n",
              "      <th>Suburb</th>\n",
              "      <th>Address</th>\n",
              "      <th>Rooms</th>\n",
              "      <th>Type</th>\n",
              "      <th>Price</th>\n",
              "      <th>Method</th>\n",
              "      <th>SellerG</th>\n",
              "      <th>Date</th>\n",
              "      <th>Distance</th>\n",
              "      <th>Postcode</th>\n",
              "      <th>Bedroom2</th>\n",
              "      <th>Bathroom</th>\n",
              "      <th>Car</th>\n",
              "      <th>Landsize</th>\n",
              "      <th>BuildingArea</th>\n",
              "      <th>YearBuilt</th>\n",
              "      <th>CouncilArea</th>\n",
              "      <th>Lattitude</th>\n",
              "      <th>Longtitude</th>\n",
              "      <th>Regionname</th>\n",
              "      <th>Propertycount</th>\n",
              "    </tr>\n",
              "  </thead>\n",
              "  <tbody>\n",
              "    <tr>\n",
              "      <th>0</th>\n",
              "      <td>Abbotsford</td>\n",
              "      <td>85 Turner St</td>\n",
              "      <td>2</td>\n",
              "      <td>h</td>\n",
              "      <td>1480000.0</td>\n",
              "      <td>S</td>\n",
              "      <td>Biggin</td>\n",
              "      <td>3/12/2016</td>\n",
              "      <td>2.5</td>\n",
              "      <td>3067.0</td>\n",
              "      <td>2.0</td>\n",
              "      <td>1.0</td>\n",
              "      <td>1.0</td>\n",
              "      <td>202.0</td>\n",
              "      <td>NaN</td>\n",
              "      <td>NaN</td>\n",
              "      <td>Yarra</td>\n",
              "      <td>-37.79960</td>\n",
              "      <td>144.99840</td>\n",
              "      <td>Northern Metropolitan</td>\n",
              "      <td>4019.0</td>\n",
              "    </tr>\n",
              "    <tr>\n",
              "      <th>1</th>\n",
              "      <td>Abbotsford</td>\n",
              "      <td>25 Bloomburg St</td>\n",
              "      <td>2</td>\n",
              "      <td>h</td>\n",
              "      <td>1035000.0</td>\n",
              "      <td>S</td>\n",
              "      <td>Biggin</td>\n",
              "      <td>4/02/2016</td>\n",
              "      <td>2.5</td>\n",
              "      <td>3067.0</td>\n",
              "      <td>2.0</td>\n",
              "      <td>1.0</td>\n",
              "      <td>0.0</td>\n",
              "      <td>156.0</td>\n",
              "      <td>79.0</td>\n",
              "      <td>1900.0</td>\n",
              "      <td>Yarra</td>\n",
              "      <td>-37.80790</td>\n",
              "      <td>144.99340</td>\n",
              "      <td>Northern Metropolitan</td>\n",
              "      <td>4019.0</td>\n",
              "    </tr>\n",
              "    <tr>\n",
              "      <th>2</th>\n",
              "      <td>Abbotsford</td>\n",
              "      <td>5 Charles St</td>\n",
              "      <td>3</td>\n",
              "      <td>h</td>\n",
              "      <td>1465000.0</td>\n",
              "      <td>SP</td>\n",
              "      <td>Biggin</td>\n",
              "      <td>4/03/2017</td>\n",
              "      <td>2.5</td>\n",
              "      <td>3067.0</td>\n",
              "      <td>3.0</td>\n",
              "      <td>2.0</td>\n",
              "      <td>0.0</td>\n",
              "      <td>134.0</td>\n",
              "      <td>150.0</td>\n",
              "      <td>1900.0</td>\n",
              "      <td>Yarra</td>\n",
              "      <td>-37.80930</td>\n",
              "      <td>144.99440</td>\n",
              "      <td>Northern Metropolitan</td>\n",
              "      <td>4019.0</td>\n",
              "    </tr>\n",
              "    <tr>\n",
              "      <th>3</th>\n",
              "      <td>Abbotsford</td>\n",
              "      <td>40 Federation La</td>\n",
              "      <td>3</td>\n",
              "      <td>h</td>\n",
              "      <td>850000.0</td>\n",
              "      <td>PI</td>\n",
              "      <td>Biggin</td>\n",
              "      <td>4/03/2017</td>\n",
              "      <td>2.5</td>\n",
              "      <td>3067.0</td>\n",
              "      <td>3.0</td>\n",
              "      <td>2.0</td>\n",
              "      <td>1.0</td>\n",
              "      <td>94.0</td>\n",
              "      <td>NaN</td>\n",
              "      <td>NaN</td>\n",
              "      <td>Yarra</td>\n",
              "      <td>-37.79690</td>\n",
              "      <td>144.99690</td>\n",
              "      <td>Northern Metropolitan</td>\n",
              "      <td>4019.0</td>\n",
              "    </tr>\n",
              "    <tr>\n",
              "      <th>4</th>\n",
              "      <td>Abbotsford</td>\n",
              "      <td>55a Park St</td>\n",
              "      <td>4</td>\n",
              "      <td>h</td>\n",
              "      <td>1600000.0</td>\n",
              "      <td>VB</td>\n",
              "      <td>Nelson</td>\n",
              "      <td>4/06/2016</td>\n",
              "      <td>2.5</td>\n",
              "      <td>3067.0</td>\n",
              "      <td>3.0</td>\n",
              "      <td>1.0</td>\n",
              "      <td>2.0</td>\n",
              "      <td>120.0</td>\n",
              "      <td>142.0</td>\n",
              "      <td>2014.0</td>\n",
              "      <td>Yarra</td>\n",
              "      <td>-37.80720</td>\n",
              "      <td>144.99410</td>\n",
              "      <td>Northern Metropolitan</td>\n",
              "      <td>4019.0</td>\n",
              "    </tr>\n",
              "    <tr>\n",
              "      <th>...</th>\n",
              "      <td>...</td>\n",
              "      <td>...</td>\n",
              "      <td>...</td>\n",
              "      <td>...</td>\n",
              "      <td>...</td>\n",
              "      <td>...</td>\n",
              "      <td>...</td>\n",
              "      <td>...</td>\n",
              "      <td>...</td>\n",
              "      <td>...</td>\n",
              "      <td>...</td>\n",
              "      <td>...</td>\n",
              "      <td>...</td>\n",
              "      <td>...</td>\n",
              "      <td>...</td>\n",
              "      <td>...</td>\n",
              "      <td>...</td>\n",
              "      <td>...</td>\n",
              "      <td>...</td>\n",
              "      <td>...</td>\n",
              "      <td>...</td>\n",
              "    </tr>\n",
              "    <tr>\n",
              "      <th>13575</th>\n",
              "      <td>Wheelers Hill</td>\n",
              "      <td>12 Strada Cr</td>\n",
              "      <td>4</td>\n",
              "      <td>h</td>\n",
              "      <td>1245000.0</td>\n",
              "      <td>S</td>\n",
              "      <td>Barry</td>\n",
              "      <td>26/08/2017</td>\n",
              "      <td>16.7</td>\n",
              "      <td>3150.0</td>\n",
              "      <td>4.0</td>\n",
              "      <td>2.0</td>\n",
              "      <td>2.0</td>\n",
              "      <td>652.0</td>\n",
              "      <td>NaN</td>\n",
              "      <td>1981.0</td>\n",
              "      <td>NaN</td>\n",
              "      <td>-37.90562</td>\n",
              "      <td>145.16761</td>\n",
              "      <td>South-Eastern Metropolitan</td>\n",
              "      <td>7392.0</td>\n",
              "    </tr>\n",
              "    <tr>\n",
              "      <th>13576</th>\n",
              "      <td>Williamstown</td>\n",
              "      <td>77 Merrett Dr</td>\n",
              "      <td>3</td>\n",
              "      <td>h</td>\n",
              "      <td>1031000.0</td>\n",
              "      <td>SP</td>\n",
              "      <td>Williams</td>\n",
              "      <td>26/08/2017</td>\n",
              "      <td>6.8</td>\n",
              "      <td>3016.0</td>\n",
              "      <td>3.0</td>\n",
              "      <td>2.0</td>\n",
              "      <td>2.0</td>\n",
              "      <td>333.0</td>\n",
              "      <td>133.0</td>\n",
              "      <td>1995.0</td>\n",
              "      <td>NaN</td>\n",
              "      <td>-37.85927</td>\n",
              "      <td>144.87904</td>\n",
              "      <td>Western Metropolitan</td>\n",
              "      <td>6380.0</td>\n",
              "    </tr>\n",
              "    <tr>\n",
              "      <th>13577</th>\n",
              "      <td>Williamstown</td>\n",
              "      <td>83 Power St</td>\n",
              "      <td>3</td>\n",
              "      <td>h</td>\n",
              "      <td>1170000.0</td>\n",
              "      <td>S</td>\n",
              "      <td>Raine</td>\n",
              "      <td>26/08/2017</td>\n",
              "      <td>6.8</td>\n",
              "      <td>3016.0</td>\n",
              "      <td>3.0</td>\n",
              "      <td>2.0</td>\n",
              "      <td>4.0</td>\n",
              "      <td>436.0</td>\n",
              "      <td>NaN</td>\n",
              "      <td>1997.0</td>\n",
              "      <td>NaN</td>\n",
              "      <td>-37.85274</td>\n",
              "      <td>144.88738</td>\n",
              "      <td>Western Metropolitan</td>\n",
              "      <td>6380.0</td>\n",
              "    </tr>\n",
              "    <tr>\n",
              "      <th>13578</th>\n",
              "      <td>Williamstown</td>\n",
              "      <td>96 Verdon St</td>\n",
              "      <td>4</td>\n",
              "      <td>h</td>\n",
              "      <td>2500000.0</td>\n",
              "      <td>PI</td>\n",
              "      <td>Sweeney</td>\n",
              "      <td>26/08/2017</td>\n",
              "      <td>6.8</td>\n",
              "      <td>3016.0</td>\n",
              "      <td>4.0</td>\n",
              "      <td>1.0</td>\n",
              "      <td>5.0</td>\n",
              "      <td>866.0</td>\n",
              "      <td>157.0</td>\n",
              "      <td>1920.0</td>\n",
              "      <td>NaN</td>\n",
              "      <td>-37.85908</td>\n",
              "      <td>144.89299</td>\n",
              "      <td>Western Metropolitan</td>\n",
              "      <td>6380.0</td>\n",
              "    </tr>\n",
              "    <tr>\n",
              "      <th>13579</th>\n",
              "      <td>Yarraville</td>\n",
              "      <td>6 Agnes St</td>\n",
              "      <td>4</td>\n",
              "      <td>h</td>\n",
              "      <td>1285000.0</td>\n",
              "      <td>SP</td>\n",
              "      <td>Village</td>\n",
              "      <td>26/08/2017</td>\n",
              "      <td>6.3</td>\n",
              "      <td>3013.0</td>\n",
              "      <td>4.0</td>\n",
              "      <td>1.0</td>\n",
              "      <td>1.0</td>\n",
              "      <td>362.0</td>\n",
              "      <td>112.0</td>\n",
              "      <td>1920.0</td>\n",
              "      <td>NaN</td>\n",
              "      <td>-37.81188</td>\n",
              "      <td>144.88449</td>\n",
              "      <td>Western Metropolitan</td>\n",
              "      <td>6543.0</td>\n",
              "    </tr>\n",
              "  </tbody>\n",
              "</table>\n",
              "<p>13366 rows × 21 columns</p>\n",
              "</div>"
            ],
            "text/plain": [
              "              Suburb  ... Propertycount\n",
              "0         Abbotsford  ...        4019.0\n",
              "1         Abbotsford  ...        4019.0\n",
              "2         Abbotsford  ...        4019.0\n",
              "3         Abbotsford  ...        4019.0\n",
              "4         Abbotsford  ...        4019.0\n",
              "...              ...  ...           ...\n",
              "13575  Wheelers Hill  ...        7392.0\n",
              "13576   Williamstown  ...        6380.0\n",
              "13577   Williamstown  ...        6380.0\n",
              "13578   Williamstown  ...        6380.0\n",
              "13579     Yarraville  ...        6543.0\n",
              "\n",
              "[13366 rows x 21 columns]"
            ]
          },
          "metadata": {
            "tags": []
          },
          "execution_count": 129
        }
      ]
    },
    {
      "cell_type": "code",
      "metadata": {
        "id": "jTF0HRIAi3Qx",
        "colab": {
          "base_uri": "https://localhost:8080/",
          "height": 632
        },
        "outputId": "3359e997-5936-4ddb-9a31-e542ded9eb34"
      },
      "source": [
        "melb_df_nuevo = melb_df[['Type','Rooms', 'Price', 'Suburb', 'Bathroom', 'Car','BuildingArea', 'YearBuilt', 'CouncilArea',\n",
        "        'Regionname','Distance', 'Postcode','Lattitude', 'Longtitude']]\n",
        "        ##SELECCIONO COLUMNAS \n",
        "\n",
        "melb_df_nuevo\n",
        "\n",
        "#SE REDUJO A 14 VARIABLES EN LUGAR DE LAS 21 ORIGINALES, tambien se redujo el numero de filas"
      ],
      "execution_count": null,
      "outputs": [
        {
          "output_type": "execute_result",
          "data": {
            "text/html": [
              "<div>\n",
              "<style scoped>\n",
              "    .dataframe tbody tr th:only-of-type {\n",
              "        vertical-align: middle;\n",
              "    }\n",
              "\n",
              "    .dataframe tbody tr th {\n",
              "        vertical-align: top;\n",
              "    }\n",
              "\n",
              "    .dataframe thead th {\n",
              "        text-align: right;\n",
              "    }\n",
              "</style>\n",
              "<table border=\"1\" class=\"dataframe\">\n",
              "  <thead>\n",
              "    <tr style=\"text-align: right;\">\n",
              "      <th></th>\n",
              "      <th>Type</th>\n",
              "      <th>Rooms</th>\n",
              "      <th>Price</th>\n",
              "      <th>Suburb</th>\n",
              "      <th>Bathroom</th>\n",
              "      <th>Car</th>\n",
              "      <th>BuildingArea</th>\n",
              "      <th>YearBuilt</th>\n",
              "      <th>CouncilArea</th>\n",
              "      <th>Regionname</th>\n",
              "      <th>Distance</th>\n",
              "      <th>Postcode</th>\n",
              "      <th>Lattitude</th>\n",
              "      <th>Longtitude</th>\n",
              "    </tr>\n",
              "  </thead>\n",
              "  <tbody>\n",
              "    <tr>\n",
              "      <th>0</th>\n",
              "      <td>h</td>\n",
              "      <td>2</td>\n",
              "      <td>1480000.0</td>\n",
              "      <td>Abbotsford</td>\n",
              "      <td>1.0</td>\n",
              "      <td>1.0</td>\n",
              "      <td>NaN</td>\n",
              "      <td>NaN</td>\n",
              "      <td>Yarra</td>\n",
              "      <td>Northern Metropolitan</td>\n",
              "      <td>2.5</td>\n",
              "      <td>3067.0</td>\n",
              "      <td>-37.79960</td>\n",
              "      <td>144.99840</td>\n",
              "    </tr>\n",
              "    <tr>\n",
              "      <th>1</th>\n",
              "      <td>h</td>\n",
              "      <td>2</td>\n",
              "      <td>1035000.0</td>\n",
              "      <td>Abbotsford</td>\n",
              "      <td>1.0</td>\n",
              "      <td>0.0</td>\n",
              "      <td>79.0</td>\n",
              "      <td>1900.0</td>\n",
              "      <td>Yarra</td>\n",
              "      <td>Northern Metropolitan</td>\n",
              "      <td>2.5</td>\n",
              "      <td>3067.0</td>\n",
              "      <td>-37.80790</td>\n",
              "      <td>144.99340</td>\n",
              "    </tr>\n",
              "    <tr>\n",
              "      <th>2</th>\n",
              "      <td>h</td>\n",
              "      <td>3</td>\n",
              "      <td>1465000.0</td>\n",
              "      <td>Abbotsford</td>\n",
              "      <td>2.0</td>\n",
              "      <td>0.0</td>\n",
              "      <td>150.0</td>\n",
              "      <td>1900.0</td>\n",
              "      <td>Yarra</td>\n",
              "      <td>Northern Metropolitan</td>\n",
              "      <td>2.5</td>\n",
              "      <td>3067.0</td>\n",
              "      <td>-37.80930</td>\n",
              "      <td>144.99440</td>\n",
              "    </tr>\n",
              "    <tr>\n",
              "      <th>3</th>\n",
              "      <td>h</td>\n",
              "      <td>3</td>\n",
              "      <td>850000.0</td>\n",
              "      <td>Abbotsford</td>\n",
              "      <td>2.0</td>\n",
              "      <td>1.0</td>\n",
              "      <td>NaN</td>\n",
              "      <td>NaN</td>\n",
              "      <td>Yarra</td>\n",
              "      <td>Northern Metropolitan</td>\n",
              "      <td>2.5</td>\n",
              "      <td>3067.0</td>\n",
              "      <td>-37.79690</td>\n",
              "      <td>144.99690</td>\n",
              "    </tr>\n",
              "    <tr>\n",
              "      <th>4</th>\n",
              "      <td>h</td>\n",
              "      <td>4</td>\n",
              "      <td>1600000.0</td>\n",
              "      <td>Abbotsford</td>\n",
              "      <td>1.0</td>\n",
              "      <td>2.0</td>\n",
              "      <td>142.0</td>\n",
              "      <td>2014.0</td>\n",
              "      <td>Yarra</td>\n",
              "      <td>Northern Metropolitan</td>\n",
              "      <td>2.5</td>\n",
              "      <td>3067.0</td>\n",
              "      <td>-37.80720</td>\n",
              "      <td>144.99410</td>\n",
              "    </tr>\n",
              "    <tr>\n",
              "      <th>...</th>\n",
              "      <td>...</td>\n",
              "      <td>...</td>\n",
              "      <td>...</td>\n",
              "      <td>...</td>\n",
              "      <td>...</td>\n",
              "      <td>...</td>\n",
              "      <td>...</td>\n",
              "      <td>...</td>\n",
              "      <td>...</td>\n",
              "      <td>...</td>\n",
              "      <td>...</td>\n",
              "      <td>...</td>\n",
              "      <td>...</td>\n",
              "      <td>...</td>\n",
              "    </tr>\n",
              "    <tr>\n",
              "      <th>13575</th>\n",
              "      <td>h</td>\n",
              "      <td>4</td>\n",
              "      <td>1245000.0</td>\n",
              "      <td>Wheelers Hill</td>\n",
              "      <td>2.0</td>\n",
              "      <td>2.0</td>\n",
              "      <td>NaN</td>\n",
              "      <td>1981.0</td>\n",
              "      <td>NaN</td>\n",
              "      <td>South-Eastern Metropolitan</td>\n",
              "      <td>16.7</td>\n",
              "      <td>3150.0</td>\n",
              "      <td>-37.90562</td>\n",
              "      <td>145.16761</td>\n",
              "    </tr>\n",
              "    <tr>\n",
              "      <th>13576</th>\n",
              "      <td>h</td>\n",
              "      <td>3</td>\n",
              "      <td>1031000.0</td>\n",
              "      <td>Williamstown</td>\n",
              "      <td>2.0</td>\n",
              "      <td>2.0</td>\n",
              "      <td>133.0</td>\n",
              "      <td>1995.0</td>\n",
              "      <td>NaN</td>\n",
              "      <td>Western Metropolitan</td>\n",
              "      <td>6.8</td>\n",
              "      <td>3016.0</td>\n",
              "      <td>-37.85927</td>\n",
              "      <td>144.87904</td>\n",
              "    </tr>\n",
              "    <tr>\n",
              "      <th>13577</th>\n",
              "      <td>h</td>\n",
              "      <td>3</td>\n",
              "      <td>1170000.0</td>\n",
              "      <td>Williamstown</td>\n",
              "      <td>2.0</td>\n",
              "      <td>4.0</td>\n",
              "      <td>NaN</td>\n",
              "      <td>1997.0</td>\n",
              "      <td>NaN</td>\n",
              "      <td>Western Metropolitan</td>\n",
              "      <td>6.8</td>\n",
              "      <td>3016.0</td>\n",
              "      <td>-37.85274</td>\n",
              "      <td>144.88738</td>\n",
              "    </tr>\n",
              "    <tr>\n",
              "      <th>13578</th>\n",
              "      <td>h</td>\n",
              "      <td>4</td>\n",
              "      <td>2500000.0</td>\n",
              "      <td>Williamstown</td>\n",
              "      <td>1.0</td>\n",
              "      <td>5.0</td>\n",
              "      <td>157.0</td>\n",
              "      <td>1920.0</td>\n",
              "      <td>NaN</td>\n",
              "      <td>Western Metropolitan</td>\n",
              "      <td>6.8</td>\n",
              "      <td>3016.0</td>\n",
              "      <td>-37.85908</td>\n",
              "      <td>144.89299</td>\n",
              "    </tr>\n",
              "    <tr>\n",
              "      <th>13579</th>\n",
              "      <td>h</td>\n",
              "      <td>4</td>\n",
              "      <td>1285000.0</td>\n",
              "      <td>Yarraville</td>\n",
              "      <td>1.0</td>\n",
              "      <td>1.0</td>\n",
              "      <td>112.0</td>\n",
              "      <td>1920.0</td>\n",
              "      <td>NaN</td>\n",
              "      <td>Western Metropolitan</td>\n",
              "      <td>6.3</td>\n",
              "      <td>3013.0</td>\n",
              "      <td>-37.81188</td>\n",
              "      <td>144.88449</td>\n",
              "    </tr>\n",
              "  </tbody>\n",
              "</table>\n",
              "<p>13366 rows × 14 columns</p>\n",
              "</div>"
            ],
            "text/plain": [
              "      Type  Rooms      Price  ... Postcode  Lattitude  Longtitude\n",
              "0        h      2  1480000.0  ...   3067.0  -37.79960   144.99840\n",
              "1        h      2  1035000.0  ...   3067.0  -37.80790   144.99340\n",
              "2        h      3  1465000.0  ...   3067.0  -37.80930   144.99440\n",
              "3        h      3   850000.0  ...   3067.0  -37.79690   144.99690\n",
              "4        h      4  1600000.0  ...   3067.0  -37.80720   144.99410\n",
              "...    ...    ...        ...  ...      ...        ...         ...\n",
              "13575    h      4  1245000.0  ...   3150.0  -37.90562   145.16761\n",
              "13576    h      3  1031000.0  ...   3016.0  -37.85927   144.87904\n",
              "13577    h      3  1170000.0  ...   3016.0  -37.85274   144.88738\n",
              "13578    h      4  2500000.0  ...   3016.0  -37.85908   144.89299\n",
              "13579    h      4  1285000.0  ...   3013.0  -37.81188   144.88449\n",
              "\n",
              "[13366 rows x 14 columns]"
            ]
          },
          "metadata": {
            "tags": []
          },
          "execution_count": 130
        }
      ]
    },
    {
      "cell_type": "code",
      "metadata": {
        "id": "OcI390iXi3L8"
      },
      "source": [
        ""
      ],
      "execution_count": null,
      "outputs": []
    },
    {
      "cell_type": "markdown",
      "metadata": {
        "id": "PNW6cL1AhQuk"
      },
      "source": [
        "# **Agregar información adicional respectiva al entorno de una propiedad a partir del conjunto de datos de AirBnB utilizado en el práctico**."
      ]
    },
    {
      "cell_type": "code",
      "metadata": {
        "id": "ksKI0m7si3IG"
      },
      "source": [
        ""
      ],
      "execution_count": null,
      "outputs": []
    },
    {
      "cell_type": "code",
      "metadata": {
        "colab": {
          "base_uri": "https://localhost:8080/"
        },
        "id": "k3Z2vxNHJfJK",
        "outputId": "c0fbaae5-9b36-43d1-fee1-d692f6936cb2"
      },
      "source": [
        "# data source:\n",
        "# https://www.kaggle.com/tylerx/melbourne-airbnb-open-data?select=cleansed_listings_dec18.csv\n",
        "interesting_cols = [\n",
        "  'description', 'neighborhood_overview',\n",
        "  'street', 'neighborhood', 'city', 'suburb', 'state', 'zipcode',\n",
        "  'price', 'weekly_price', 'monthly_price', 'review_scores_location',\n",
        "  'latitude', 'longitude',\n",
        "]\n",
        "airbnb_df = pd.read_csv(\n",
        "    'https://cs.famaf.unc.edu.ar/~mteruel/datasets/diplodatos/cleansed_listings_dec18.csv',\n",
        "    usecols=interesting_cols)"
      ],
      "execution_count": null,
      "outputs": [
        {
          "output_type": "stream",
          "text": [
            "/usr/local/lib/python3.7/dist-packages/IPython/core/interactiveshell.py:2718: DtypeWarning:\n",
            "\n",
            "Columns (35) have mixed types.Specify dtype option on import or set low_memory=False.\n",
            "\n"
          ],
          "name": "stderr"
        }
      ]
    },
    {
      "cell_type": "code",
      "metadata": {
        "colab": {
          "base_uri": "https://localhost:8080/",
          "height": 485
        },
        "id": "bc55TFlhF6tP",
        "outputId": "34062903-1d07-4720-96df-9c4f524fee1d"
      },
      "source": [
        "airbnb_df[:5]"
      ],
      "execution_count": null,
      "outputs": [
        {
          "output_type": "execute_result",
          "data": {
            "text/html": [
              "<div>\n",
              "<style scoped>\n",
              "    .dataframe tbody tr th:only-of-type {\n",
              "        vertical-align: middle;\n",
              "    }\n",
              "\n",
              "    .dataframe tbody tr th {\n",
              "        vertical-align: top;\n",
              "    }\n",
              "\n",
              "    .dataframe thead th {\n",
              "        text-align: right;\n",
              "    }\n",
              "</style>\n",
              "<table border=\"1\" class=\"dataframe\">\n",
              "  <thead>\n",
              "    <tr style=\"text-align: right;\">\n",
              "      <th></th>\n",
              "      <th>description</th>\n",
              "      <th>neighborhood_overview</th>\n",
              "      <th>street</th>\n",
              "      <th>neighborhood</th>\n",
              "      <th>city</th>\n",
              "      <th>suburb</th>\n",
              "      <th>state</th>\n",
              "      <th>zipcode</th>\n",
              "      <th>latitude</th>\n",
              "      <th>longitude</th>\n",
              "      <th>price</th>\n",
              "      <th>weekly_price</th>\n",
              "      <th>monthly_price</th>\n",
              "      <th>review_scores_location</th>\n",
              "    </tr>\n",
              "  </thead>\n",
              "  <tbody>\n",
              "    <tr>\n",
              "      <th>0</th>\n",
              "      <td>House: Clean, New, Modern, Quite, Safe. 10Km f...</td>\n",
              "      <td>Very safe! Family oriented. Older age group.</td>\n",
              "      <td>Bulleen, VIC, Australia</td>\n",
              "      <td>Balwyn North</td>\n",
              "      <td>Manningham</td>\n",
              "      <td>Bulleen</td>\n",
              "      <td>VIC</td>\n",
              "      <td>3105</td>\n",
              "      <td>-37.772684</td>\n",
              "      <td>145.092133</td>\n",
              "      <td>60</td>\n",
              "      <td>NaN</td>\n",
              "      <td>NaN</td>\n",
              "      <td>9.0</td>\n",
              "    </tr>\n",
              "    <tr>\n",
              "      <th>1</th>\n",
              "      <td>A large air conditioned room with queen spring...</td>\n",
              "      <td>This hip area is a crossroads between two grea...</td>\n",
              "      <td>Brunswick East, VIC, Australia</td>\n",
              "      <td>Brunswick</td>\n",
              "      <td>Moreland</td>\n",
              "      <td>Brunswick East</td>\n",
              "      <td>VIC</td>\n",
              "      <td>3057</td>\n",
              "      <td>-37.766505</td>\n",
              "      <td>144.980736</td>\n",
              "      <td>35</td>\n",
              "      <td>200.0</td>\n",
              "      <td>803.0</td>\n",
              "      <td>9.0</td>\n",
              "    </tr>\n",
              "    <tr>\n",
              "      <th>2</th>\n",
              "      <td>RIGHT IN THE HEART OF ST KILDA! It doesn't get...</td>\n",
              "      <td>A stay at our apartment means you can enjoy so...</td>\n",
              "      <td>St Kilda, VIC, Australia</td>\n",
              "      <td>St Kilda</td>\n",
              "      <td>Port Phillip</td>\n",
              "      <td>St Kilda</td>\n",
              "      <td>VIC</td>\n",
              "      <td>3182</td>\n",
              "      <td>-37.859755</td>\n",
              "      <td>144.977369</td>\n",
              "      <td>159</td>\n",
              "      <td>1253.0</td>\n",
              "      <td>4452.0</td>\n",
              "      <td>9.0</td>\n",
              "    </tr>\n",
              "    <tr>\n",
              "      <th>3</th>\n",
              "      <td>Comfortable, relaxed house, a home away from  ...</td>\n",
              "      <td>This is a great neighbourhood – it is quiet, y...</td>\n",
              "      <td>Thornbury, VIC, Australia</td>\n",
              "      <td>Thornbury</td>\n",
              "      <td>Darebin</td>\n",
              "      <td>Thornbury</td>\n",
              "      <td>VIC</td>\n",
              "      <td>3071</td>\n",
              "      <td>-37.758971</td>\n",
              "      <td>144.989228</td>\n",
              "      <td>50</td>\n",
              "      <td>250.0</td>\n",
              "      <td>920.0</td>\n",
              "      <td>9.0</td>\n",
              "    </tr>\n",
              "    <tr>\n",
              "      <th>4</th>\n",
              "      <td>We offer comfortable accommodation in Inner Me...</td>\n",
              "      <td>NaN</td>\n",
              "      <td>St Kilda East, VIC, Australia</td>\n",
              "      <td>St Kilda East</td>\n",
              "      <td>Port Phillip</td>\n",
              "      <td>St Kilda East</td>\n",
              "      <td>VIC</td>\n",
              "      <td>3183</td>\n",
              "      <td>-37.864530</td>\n",
              "      <td>144.992238</td>\n",
              "      <td>69</td>\n",
              "      <td>400.0</td>\n",
              "      <td>1900.0</td>\n",
              "      <td>10.0</td>\n",
              "    </tr>\n",
              "  </tbody>\n",
              "</table>\n",
              "</div>"
            ],
            "text/plain": [
              "                                         description  ... review_scores_location\n",
              "0  House: Clean, New, Modern, Quite, Safe. 10Km f...  ...                    9.0\n",
              "1  A large air conditioned room with queen spring...  ...                    9.0\n",
              "2  RIGHT IN THE HEART OF ST KILDA! It doesn't get...  ...                    9.0\n",
              "3  Comfortable, relaxed house, a home away from  ...  ...                    9.0\n",
              "4  We offer comfortable accommodation in Inner Me...  ...                   10.0\n",
              "\n",
              "[5 rows x 14 columns]"
            ]
          },
          "metadata": {
            "tags": []
          },
          "execution_count": 132
        }
      ]
    },
    {
      "cell_type": "code",
      "metadata": {
        "colab": {
          "base_uri": "https://localhost:8080/"
        },
        "id": "J58fn9OGiSyu",
        "outputId": "8fde7d25-8da4-414c-82aa-05bd7861219a"
      },
      "source": [
        "#VEAMOS DE QUE SE TRATATEL DATA SET AIRBNB\n",
        "airbnb_df.info()\n",
        "#TIENEN 13 COLUMNAS (VARIABLES) Y 22985 FILAS \n",
        "#LAS VARIABLES SUBURB O ZIPCODE SE PODRIAN USAR PARA UN MERGE, LO MISMO LATITUD Y LONGITUD? "
      ],
      "execution_count": null,
      "outputs": [
        {
          "output_type": "stream",
          "text": [
            "<class 'pandas.core.frame.DataFrame'>\n",
            "RangeIndex: 22895 entries, 0 to 22894\n",
            "Data columns (total 14 columns):\n",
            " #   Column                  Non-Null Count  Dtype  \n",
            "---  ------                  --------------  -----  \n",
            " 0   description             22563 non-null  object \n",
            " 1   neighborhood_overview   14424 non-null  object \n",
            " 2   street                  22895 non-null  object \n",
            " 3   neighborhood            17082 non-null  object \n",
            " 4   city                    22895 non-null  object \n",
            " 5   suburb                  22872 non-null  object \n",
            " 6   state                   22834 non-null  object \n",
            " 7   zipcode                 22753 non-null  object \n",
            " 8   latitude                22895 non-null  float64\n",
            " 9   longitude               22895 non-null  float64\n",
            " 10  price                   22895 non-null  int64  \n",
            " 11  weekly_price            2524 non-null   float64\n",
            " 12  monthly_price           1891 non-null   float64\n",
            " 13  review_scores_location  17162 non-null  float64\n",
            "dtypes: float64(5), int64(1), object(8)\n",
            "memory usage: 2.4+ MB\n"
          ],
          "name": "stdout"
        }
      ]
    },
    {
      "cell_type": "code",
      "metadata": {
        "colab": {
          "base_uri": "https://localhost:8080/",
          "height": 299
        },
        "id": "AMCniI2Pi2pQ",
        "outputId": "d919551e-9b9a-4577-8265-b1422719e8dd"
      },
      "source": [
        "#INSPECCION RAPIDA DEL DATASET CON DESCRIBE\n",
        "airbnb_df.describe()\n",
        "#solo aparecen variables numericas\n",
        "#ES RARAO QUE HAYA UN MINIMO DE CERO Y MAXIMO DE 12624 EN EL PRECIO DE RENTA DE AIRBNB? \n"
      ],
      "execution_count": null,
      "outputs": [
        {
          "output_type": "execute_result",
          "data": {
            "text/html": [
              "<div>\n",
              "<style scoped>\n",
              "    .dataframe tbody tr th:only-of-type {\n",
              "        vertical-align: middle;\n",
              "    }\n",
              "\n",
              "    .dataframe tbody tr th {\n",
              "        vertical-align: top;\n",
              "    }\n",
              "\n",
              "    .dataframe thead th {\n",
              "        text-align: right;\n",
              "    }\n",
              "</style>\n",
              "<table border=\"1\" class=\"dataframe\">\n",
              "  <thead>\n",
              "    <tr style=\"text-align: right;\">\n",
              "      <th></th>\n",
              "      <th>latitude</th>\n",
              "      <th>longitude</th>\n",
              "      <th>price</th>\n",
              "      <th>weekly_price</th>\n",
              "      <th>monthly_price</th>\n",
              "      <th>review_scores_location</th>\n",
              "    </tr>\n",
              "  </thead>\n",
              "  <tbody>\n",
              "    <tr>\n",
              "      <th>count</th>\n",
              "      <td>22895.000000</td>\n",
              "      <td>22895.000000</td>\n",
              "      <td>22895.000000</td>\n",
              "      <td>2524.000000</td>\n",
              "      <td>1891.000000</td>\n",
              "      <td>17162.000000</td>\n",
              "    </tr>\n",
              "    <tr>\n",
              "      <th>mean</th>\n",
              "      <td>-37.826827</td>\n",
              "      <td>145.008457</td>\n",
              "      <td>148.004368</td>\n",
              "      <td>906.976228</td>\n",
              "      <td>3234.346906</td>\n",
              "      <td>9.714078</td>\n",
              "    </tr>\n",
              "    <tr>\n",
              "      <th>std</th>\n",
              "      <td>0.066747</td>\n",
              "      <td>0.127711</td>\n",
              "      <td>210.883253</td>\n",
              "      <td>821.223782</td>\n",
              "      <td>2808.092144</td>\n",
              "      <td>0.697961</td>\n",
              "    </tr>\n",
              "    <tr>\n",
              "      <th>min</th>\n",
              "      <td>-38.224427</td>\n",
              "      <td>144.484326</td>\n",
              "      <td>0.000000</td>\n",
              "      <td>91.000000</td>\n",
              "      <td>400.000000</td>\n",
              "      <td>2.000000</td>\n",
              "    </tr>\n",
              "    <tr>\n",
              "      <th>25%</th>\n",
              "      <td>-37.852665</td>\n",
              "      <td>144.957692</td>\n",
              "      <td>71.000000</td>\n",
              "      <td>450.000000</td>\n",
              "      <td>1700.000000</td>\n",
              "      <td>10.000000</td>\n",
              "    </tr>\n",
              "    <tr>\n",
              "      <th>50%</th>\n",
              "      <td>-37.817855</td>\n",
              "      <td>144.978402</td>\n",
              "      <td>111.000000</td>\n",
              "      <td>750.000000</td>\n",
              "      <td>2800.000000</td>\n",
              "      <td>10.000000</td>\n",
              "    </tr>\n",
              "    <tr>\n",
              "      <th>75%</th>\n",
              "      <td>-37.803176</td>\n",
              "      <td>145.013441</td>\n",
              "      <td>165.000000</td>\n",
              "      <td>1066.000000</td>\n",
              "      <td>3912.500000</td>\n",
              "      <td>10.000000</td>\n",
              "    </tr>\n",
              "    <tr>\n",
              "      <th>max</th>\n",
              "      <td>-37.482595</td>\n",
              "      <td>145.839127</td>\n",
              "      <td>12624.000000</td>\n",
              "      <td>11536.000000</td>\n",
              "      <td>54258.000000</td>\n",
              "      <td>10.000000</td>\n",
              "    </tr>\n",
              "  </tbody>\n",
              "</table>\n",
              "</div>"
            ],
            "text/plain": [
              "           latitude     longitude  ...  monthly_price  review_scores_location\n",
              "count  22895.000000  22895.000000  ...    1891.000000            17162.000000\n",
              "mean     -37.826827    145.008457  ...    3234.346906                9.714078\n",
              "std        0.066747      0.127711  ...    2808.092144                0.697961\n",
              "min      -38.224427    144.484326  ...     400.000000                2.000000\n",
              "25%      -37.852665    144.957692  ...    1700.000000               10.000000\n",
              "50%      -37.817855    144.978402  ...    2800.000000               10.000000\n",
              "75%      -37.803176    145.013441  ...    3912.500000               10.000000\n",
              "max      -37.482595    145.839127  ...   54258.000000               10.000000\n",
              "\n",
              "[8 rows x 6 columns]"
            ]
          },
          "metadata": {
            "tags": []
          },
          "execution_count": 134
        }
      ]
    },
    {
      "cell_type": "markdown",
      "metadata": {
        "id": "Wmtir6y7jjcG"
      },
      "source": [
        "## **OUTLIERS? ELIMINACION DE LOS MISMOS?**"
      ]
    },
    {
      "cell_type": "code",
      "metadata": {
        "id": "GvRxJyoPk0uq"
      },
      "source": [
        ""
      ],
      "execution_count": null,
      "outputs": []
    },
    {
      "cell_type": "code",
      "metadata": {
        "colab": {
          "base_uri": "https://localhost:8080/"
        },
        "id": "EF8B_UbzjiUA",
        "outputId": "2634e440-3210-4d16-f6e2-c4f272e1a648"
      },
      "source": [
        "airbnb_df.price.min(), airbnb_df.price.max()\n",
        "#efctivamente precios muy raros hay que eliminar Outliers"
      ],
      "execution_count": null,
      "outputs": [
        {
          "output_type": "execute_result",
          "data": {
            "text/plain": [
              "(0, 12624)"
            ]
          },
          "metadata": {
            "tags": []
          },
          "execution_count": 135
        }
      ]
    },
    {
      "cell_type": "code",
      "metadata": {
        "colab": {
          "base_uri": "https://localhost:8080/",
          "height": 299
        },
        "id": "QI5coVU3k6FV",
        "outputId": "afe7d14b-c174-4be2-fe32-42e3a926973b"
      },
      "source": [
        "#CREAMOS UN NUEVO DATSET SIN OUTLIERS (airbnb_df_so)-95% DATOS\n",
        "airbnb_df_so = airbnb_df[(airbnb_df.price >= airbnb_df.price.quantile(.05)) & (airbnb_df.price <= airbnb_df.price.quantile(.95))]\n",
        "airbnb_df_so.describe()\n",
        "#vemos que e numero de filas a bajado un poco (20730 vs +o-22000 ) Ahora hay un minimo de 37 y max de 352 (valores mas CREIBLES)"
      ],
      "execution_count": null,
      "outputs": [
        {
          "output_type": "execute_result",
          "data": {
            "text/html": [
              "<div>\n",
              "<style scoped>\n",
              "    .dataframe tbody tr th:only-of-type {\n",
              "        vertical-align: middle;\n",
              "    }\n",
              "\n",
              "    .dataframe tbody tr th {\n",
              "        vertical-align: top;\n",
              "    }\n",
              "\n",
              "    .dataframe thead th {\n",
              "        text-align: right;\n",
              "    }\n",
              "</style>\n",
              "<table border=\"1\" class=\"dataframe\">\n",
              "  <thead>\n",
              "    <tr style=\"text-align: right;\">\n",
              "      <th></th>\n",
              "      <th>latitude</th>\n",
              "      <th>longitude</th>\n",
              "      <th>price</th>\n",
              "      <th>weekly_price</th>\n",
              "      <th>monthly_price</th>\n",
              "      <th>review_scores_location</th>\n",
              "    </tr>\n",
              "  </thead>\n",
              "  <tbody>\n",
              "    <tr>\n",
              "      <th>count</th>\n",
              "      <td>20730.000000</td>\n",
              "      <td>20730.000000</td>\n",
              "      <td>20730.000000</td>\n",
              "      <td>2327.000000</td>\n",
              "      <td>1752.000000</td>\n",
              "      <td>15859.000000</td>\n",
              "    </tr>\n",
              "    <tr>\n",
              "      <th>mean</th>\n",
              "      <td>-37.827305</td>\n",
              "      <td>145.007301</td>\n",
              "      <td>124.780463</td>\n",
              "      <td>819.156425</td>\n",
              "      <td>3005.409247</td>\n",
              "      <td>9.731004</td>\n",
              "    </tr>\n",
              "    <tr>\n",
              "      <th>std</th>\n",
              "      <td>0.065208</td>\n",
              "      <td>0.124295</td>\n",
              "      <td>66.162851</td>\n",
              "      <td>525.016924</td>\n",
              "      <td>2043.811296</td>\n",
              "      <td>0.669332</td>\n",
              "    </tr>\n",
              "    <tr>\n",
              "      <th>min</th>\n",
              "      <td>-38.224427</td>\n",
              "      <td>144.484326</td>\n",
              "      <td>37.000000</td>\n",
              "      <td>100.000000</td>\n",
              "      <td>400.000000</td>\n",
              "      <td>2.000000</td>\n",
              "    </tr>\n",
              "    <tr>\n",
              "      <th>25%</th>\n",
              "      <td>-37.852201</td>\n",
              "      <td>144.957748</td>\n",
              "      <td>75.000000</td>\n",
              "      <td>460.000000</td>\n",
              "      <td>1799.750000</td>\n",
              "      <td>10.000000</td>\n",
              "    </tr>\n",
              "    <tr>\n",
              "      <th>50%</th>\n",
              "      <td>-37.817715</td>\n",
              "      <td>144.978161</td>\n",
              "      <td>109.000000</td>\n",
              "      <td>726.000000</td>\n",
              "      <td>2800.000000</td>\n",
              "      <td>10.000000</td>\n",
              "    </tr>\n",
              "    <tr>\n",
              "      <th>75%</th>\n",
              "      <td>-37.803725</td>\n",
              "      <td>145.010109</td>\n",
              "      <td>159.000000</td>\n",
              "      <td>1002.000000</td>\n",
              "      <td>3800.000000</td>\n",
              "      <td>10.000000</td>\n",
              "    </tr>\n",
              "    <tr>\n",
              "      <th>max</th>\n",
              "      <td>-37.482595</td>\n",
              "      <td>145.831408</td>\n",
              "      <td>352.000000</td>\n",
              "      <td>9899.000000</td>\n",
              "      <td>54258.000000</td>\n",
              "      <td>10.000000</td>\n",
              "    </tr>\n",
              "  </tbody>\n",
              "</table>\n",
              "</div>"
            ],
            "text/plain": [
              "           latitude     longitude  ...  monthly_price  review_scores_location\n",
              "count  20730.000000  20730.000000  ...    1752.000000            15859.000000\n",
              "mean     -37.827305    145.007301  ...    3005.409247                9.731004\n",
              "std        0.065208      0.124295  ...    2043.811296                0.669332\n",
              "min      -38.224427    144.484326  ...     400.000000                2.000000\n",
              "25%      -37.852201    144.957748  ...    1799.750000               10.000000\n",
              "50%      -37.817715    144.978161  ...    2800.000000               10.000000\n",
              "75%      -37.803725    145.010109  ...    3800.000000               10.000000\n",
              "max      -37.482595    145.831408  ...   54258.000000               10.000000\n",
              "\n",
              "[8 rows x 6 columns]"
            ]
          },
          "metadata": {
            "tags": []
          },
          "execution_count": 136
        }
      ]
    },
    {
      "cell_type": "code",
      "metadata": {
        "colab": {
          "base_uri": "https://localhost:8080/"
        },
        "id": "DdjZI_zWn2zM",
        "outputId": "c881f7c0-b330-4fd0-841b-f62cd73aa409"
      },
      "source": [
        "airbnb_df['zipcode']\n",
        "#zipcodecomo objetosPASAR A NUMEROS"
      ],
      "execution_count": null,
      "outputs": [
        {
          "output_type": "execute_result",
          "data": {
            "text/plain": [
              "0        3105\n",
              "1        3057\n",
              "2        3182\n",
              "3        3071\n",
              "4        3183\n",
              "         ... \n",
              "22890    3053\n",
              "22891    3338\n",
              "22892    3150\n",
              "22893    3006\n",
              "22894    3053\n",
              "Name: zipcode, Length: 22895, dtype: object"
            ]
          },
          "metadata": {
            "tags": []
          },
          "execution_count": 137
        }
      ]
    },
    {
      "cell_type": "code",
      "metadata": {
        "id": "OdKLzAmQnaFH",
        "colab": {
          "base_uri": "https://localhost:8080/"
        },
        "outputId": "9ee16258-f689-486f-c3ca-f1620dcc34d7"
      },
      "source": [
        "#HACENOS COERCE SOBRE ZIPcode en el datafra sin outliers\n",
        "airbnb_df_so['zipcode'] = pd.to_numeric(airbnb_df_so.zipcode, errors='coerce')\n",
        "#warniing?? Ignorar??\n"
      ],
      "execution_count": null,
      "outputs": [
        {
          "output_type": "stream",
          "text": [
            "/usr/local/lib/python3.7/dist-packages/ipykernel_launcher.py:2: SettingWithCopyWarning:\n",
            "\n",
            "\n",
            "A value is trying to be set on a copy of a slice from a DataFrame.\n",
            "Try using .loc[row_indexer,col_indexer] = value instead\n",
            "\n",
            "See the caveats in the documentation: https://pandas.pydata.org/pandas-docs/stable/user_guide/indexing.html#returning-a-view-versus-a-copy\n",
            "\n"
          ],
          "name": "stderr"
        }
      ]
    },
    {
      "cell_type": "markdown",
      "metadata": {
        "id": "IXYo8TtwnY2m"
      },
      "source": [
        ""
      ]
    },
    {
      "cell_type": "code",
      "metadata": {
        "colab": {
          "base_uri": "https://localhost:8080/"
        },
        "id": "rRqh-gbFoZ6o",
        "outputId": "c7ff501f-5495-4b23-b329-723972f73a4b"
      },
      "source": [
        "# Eliminar zipcodes nulos\n",
        "airbnb_df_so = airbnb_df_so[~airbnb_df_so['zipcode'].isna()]\n",
        "airbnb_df_so['zipcode']"
      ],
      "execution_count": null,
      "outputs": [
        {
          "output_type": "execute_result",
          "data": {
            "text/plain": [
              "0        3105.0\n",
              "2        3182.0\n",
              "3        3071.0\n",
              "4        3183.0\n",
              "5        3806.0\n",
              "          ...  \n",
              "22890    3053.0\n",
              "22891    3338.0\n",
              "22892    3150.0\n",
              "22893    3006.0\n",
              "22894    3053.0\n",
              "Name: zipcode, Length: 20604, dtype: float64"
            ]
          },
          "metadata": {
            "tags": []
          },
          "execution_count": 139
        }
      ]
    },
    {
      "cell_type": "code",
      "metadata": {
        "colab": {
          "base_uri": "https://localhost:8080/",
          "height": 485
        },
        "id": "WuaSN5auq_xC",
        "outputId": "dc376a78-a289-43f5-f74c-9499a11ed531"
      },
      "source": [
        "airbnb_df_so[:5]"
      ],
      "execution_count": null,
      "outputs": [
        {
          "output_type": "execute_result",
          "data": {
            "text/html": [
              "<div>\n",
              "<style scoped>\n",
              "    .dataframe tbody tr th:only-of-type {\n",
              "        vertical-align: middle;\n",
              "    }\n",
              "\n",
              "    .dataframe tbody tr th {\n",
              "        vertical-align: top;\n",
              "    }\n",
              "\n",
              "    .dataframe thead th {\n",
              "        text-align: right;\n",
              "    }\n",
              "</style>\n",
              "<table border=\"1\" class=\"dataframe\">\n",
              "  <thead>\n",
              "    <tr style=\"text-align: right;\">\n",
              "      <th></th>\n",
              "      <th>description</th>\n",
              "      <th>neighborhood_overview</th>\n",
              "      <th>street</th>\n",
              "      <th>neighborhood</th>\n",
              "      <th>city</th>\n",
              "      <th>suburb</th>\n",
              "      <th>state</th>\n",
              "      <th>zipcode</th>\n",
              "      <th>latitude</th>\n",
              "      <th>longitude</th>\n",
              "      <th>price</th>\n",
              "      <th>weekly_price</th>\n",
              "      <th>monthly_price</th>\n",
              "      <th>review_scores_location</th>\n",
              "    </tr>\n",
              "  </thead>\n",
              "  <tbody>\n",
              "    <tr>\n",
              "      <th>0</th>\n",
              "      <td>House: Clean, New, Modern, Quite, Safe. 10Km f...</td>\n",
              "      <td>Very safe! Family oriented. Older age group.</td>\n",
              "      <td>Bulleen, VIC, Australia</td>\n",
              "      <td>Balwyn North</td>\n",
              "      <td>Manningham</td>\n",
              "      <td>Bulleen</td>\n",
              "      <td>VIC</td>\n",
              "      <td>3105.0</td>\n",
              "      <td>-37.772684</td>\n",
              "      <td>145.092133</td>\n",
              "      <td>60</td>\n",
              "      <td>NaN</td>\n",
              "      <td>NaN</td>\n",
              "      <td>9.0</td>\n",
              "    </tr>\n",
              "    <tr>\n",
              "      <th>2</th>\n",
              "      <td>RIGHT IN THE HEART OF ST KILDA! It doesn't get...</td>\n",
              "      <td>A stay at our apartment means you can enjoy so...</td>\n",
              "      <td>St Kilda, VIC, Australia</td>\n",
              "      <td>St Kilda</td>\n",
              "      <td>Port Phillip</td>\n",
              "      <td>St Kilda</td>\n",
              "      <td>VIC</td>\n",
              "      <td>3182.0</td>\n",
              "      <td>-37.859755</td>\n",
              "      <td>144.977369</td>\n",
              "      <td>159</td>\n",
              "      <td>1253.0</td>\n",
              "      <td>4452.0</td>\n",
              "      <td>9.0</td>\n",
              "    </tr>\n",
              "    <tr>\n",
              "      <th>3</th>\n",
              "      <td>Comfortable, relaxed house, a home away from  ...</td>\n",
              "      <td>This is a great neighbourhood – it is quiet, y...</td>\n",
              "      <td>Thornbury, VIC, Australia</td>\n",
              "      <td>Thornbury</td>\n",
              "      <td>Darebin</td>\n",
              "      <td>Thornbury</td>\n",
              "      <td>VIC</td>\n",
              "      <td>3071.0</td>\n",
              "      <td>-37.758971</td>\n",
              "      <td>144.989228</td>\n",
              "      <td>50</td>\n",
              "      <td>250.0</td>\n",
              "      <td>920.0</td>\n",
              "      <td>9.0</td>\n",
              "    </tr>\n",
              "    <tr>\n",
              "      <th>4</th>\n",
              "      <td>We offer comfortable accommodation in Inner Me...</td>\n",
              "      <td>NaN</td>\n",
              "      <td>St Kilda East, VIC, Australia</td>\n",
              "      <td>St Kilda East</td>\n",
              "      <td>Port Phillip</td>\n",
              "      <td>St Kilda East</td>\n",
              "      <td>VIC</td>\n",
              "      <td>3183.0</td>\n",
              "      <td>-37.864530</td>\n",
              "      <td>144.992238</td>\n",
              "      <td>69</td>\n",
              "      <td>400.0</td>\n",
              "      <td>1900.0</td>\n",
              "      <td>10.0</td>\n",
              "    </tr>\n",
              "    <tr>\n",
              "      <th>5</th>\n",
              "      <td>Please note: No booking will be accepted with ...</td>\n",
              "      <td>Our street is quiet &amp; secluded but within walk...</td>\n",
              "      <td>Berwick, VIC, Australia</td>\n",
              "      <td>NaN</td>\n",
              "      <td>Casey</td>\n",
              "      <td>Berwick</td>\n",
              "      <td>VIC</td>\n",
              "      <td>3806.0</td>\n",
              "      <td>-38.057254</td>\n",
              "      <td>145.339356</td>\n",
              "      <td>98</td>\n",
              "      <td>540.0</td>\n",
              "      <td>NaN</td>\n",
              "      <td>10.0</td>\n",
              "    </tr>\n",
              "  </tbody>\n",
              "</table>\n",
              "</div>"
            ],
            "text/plain": [
              "                                         description  ... review_scores_location\n",
              "0  House: Clean, New, Modern, Quite, Safe. 10Km f...  ...                    9.0\n",
              "2  RIGHT IN THE HEART OF ST KILDA! It doesn't get...  ...                    9.0\n",
              "3  Comfortable, relaxed house, a home away from  ...  ...                    9.0\n",
              "4  We offer comfortable accommodation in Inner Me...  ...                   10.0\n",
              "5  Please note: No booking will be accepted with ...  ...                   10.0\n",
              "\n",
              "[5 rows x 14 columns]"
            ]
          },
          "metadata": {
            "tags": []
          },
          "execution_count": 140
        }
      ]
    },
    {
      "cell_type": "code",
      "metadata": {
        "colab": {
          "base_uri": "https://localhost:8080/"
        },
        "id": "s5H8x4BW80rA",
        "outputId": "34ceda69-34fa-4c54-91b8-7538b9fdfe28"
      },
      "source": [
        "airbnb_df_so.columns"
      ],
      "execution_count": null,
      "outputs": [
        {
          "output_type": "execute_result",
          "data": {
            "text/plain": [
              "Index(['description', 'neighborhood_overview', 'street', 'neighborhood',\n",
              "       'city', 'suburb', 'state', 'zipcode', 'latitude', 'longitude', 'price',\n",
              "       'weekly_price', 'monthly_price', 'review_scores_location'],\n",
              "      dtype='object')"
            ]
          },
          "metadata": {
            "tags": []
          },
          "execution_count": 141
        }
      ]
    },
    {
      "cell_type": "code",
      "metadata": {
        "colab": {
          "base_uri": "https://localhost:8080/",
          "height": 205
        },
        "id": "xbUTH_Kb850J",
        "outputId": "25c1cf80-801e-44b0-e50b-fe85b3ae1991"
      },
      "source": [
        "airbnb_df_so = airbnb_df_so[['price', 'city', 'zipcode']]\n",
        "airbnb_df_so[:5]"
      ],
      "execution_count": null,
      "outputs": [
        {
          "output_type": "execute_result",
          "data": {
            "text/html": [
              "<div>\n",
              "<style scoped>\n",
              "    .dataframe tbody tr th:only-of-type {\n",
              "        vertical-align: middle;\n",
              "    }\n",
              "\n",
              "    .dataframe tbody tr th {\n",
              "        vertical-align: top;\n",
              "    }\n",
              "\n",
              "    .dataframe thead th {\n",
              "        text-align: right;\n",
              "    }\n",
              "</style>\n",
              "<table border=\"1\" class=\"dataframe\">\n",
              "  <thead>\n",
              "    <tr style=\"text-align: right;\">\n",
              "      <th></th>\n",
              "      <th>price</th>\n",
              "      <th>city</th>\n",
              "      <th>zipcode</th>\n",
              "    </tr>\n",
              "  </thead>\n",
              "  <tbody>\n",
              "    <tr>\n",
              "      <th>0</th>\n",
              "      <td>60</td>\n",
              "      <td>Manningham</td>\n",
              "      <td>3105.0</td>\n",
              "    </tr>\n",
              "    <tr>\n",
              "      <th>2</th>\n",
              "      <td>159</td>\n",
              "      <td>Port Phillip</td>\n",
              "      <td>3182.0</td>\n",
              "    </tr>\n",
              "    <tr>\n",
              "      <th>3</th>\n",
              "      <td>50</td>\n",
              "      <td>Darebin</td>\n",
              "      <td>3071.0</td>\n",
              "    </tr>\n",
              "    <tr>\n",
              "      <th>4</th>\n",
              "      <td>69</td>\n",
              "      <td>Port Phillip</td>\n",
              "      <td>3183.0</td>\n",
              "    </tr>\n",
              "    <tr>\n",
              "      <th>5</th>\n",
              "      <td>98</td>\n",
              "      <td>Casey</td>\n",
              "      <td>3806.0</td>\n",
              "    </tr>\n",
              "  </tbody>\n",
              "</table>\n",
              "</div>"
            ],
            "text/plain": [
              "   price          city  zipcode\n",
              "0     60    Manningham   3105.0\n",
              "2    159  Port Phillip   3182.0\n",
              "3     50       Darebin   3071.0\n",
              "4     69  Port Phillip   3183.0\n",
              "5     98         Casey   3806.0"
            ]
          },
          "metadata": {
            "tags": []
          },
          "execution_count": 142
        }
      ]
    },
    {
      "cell_type": "code",
      "metadata": {
        "id": "URSrueus85p8"
      },
      "source": [
        "airbnb_df_paramerge = airbnb_df_so.groupby('zipcode', as_index=False).agg(cantidad=('city','count'), council=('city','unique'), price_mean=('price', 'mean') ).sort_values('cantidad', ascending=False)"
      ],
      "execution_count": null,
      "outputs": []
    },
    {
      "cell_type": "code",
      "metadata": {
        "colab": {
          "base_uri": "https://localhost:8080/",
          "height": 422
        },
        "id": "rsaKlveT85Vb",
        "outputId": "cbdeb470-2758-4d08-bc18-abe76b5d52ef"
      },
      "source": [
        "airbnb_df_paramerge"
      ],
      "execution_count": null,
      "outputs": [
        {
          "output_type": "execute_result",
          "data": {
            "text/html": [
              "<div>\n",
              "<style scoped>\n",
              "    .dataframe tbody tr th:only-of-type {\n",
              "        vertical-align: middle;\n",
              "    }\n",
              "\n",
              "    .dataframe tbody tr th {\n",
              "        vertical-align: top;\n",
              "    }\n",
              "\n",
              "    .dataframe thead th {\n",
              "        text-align: right;\n",
              "    }\n",
              "</style>\n",
              "<table border=\"1\" class=\"dataframe\">\n",
              "  <thead>\n",
              "    <tr style=\"text-align: right;\">\n",
              "      <th></th>\n",
              "      <th>zipcode</th>\n",
              "      <th>cantidad</th>\n",
              "      <th>council</th>\n",
              "      <th>price_mean</th>\n",
              "    </tr>\n",
              "  </thead>\n",
              "  <tbody>\n",
              "    <tr>\n",
              "      <th>3</th>\n",
              "      <td>3000.0</td>\n",
              "      <td>3171</td>\n",
              "      <td>[Melbourne, Yarra, Port Phillip, Moreland, Cas...</td>\n",
              "      <td>134.541470</td>\n",
              "    </tr>\n",
              "    <tr>\n",
              "      <th>8</th>\n",
              "      <td>3006.0</td>\n",
              "      <td>1151</td>\n",
              "      <td>[Melbourne, Port Phillip, Yarra]</td>\n",
              "      <td>147.434405</td>\n",
              "    </tr>\n",
              "    <tr>\n",
              "      <th>154</th>\n",
              "      <td>3182.0</td>\n",
              "      <td>1077</td>\n",
              "      <td>[Port Phillip, Stonnington]</td>\n",
              "      <td>126.389044</td>\n",
              "    </tr>\n",
              "    <tr>\n",
              "      <th>116</th>\n",
              "      <td>3141.0</td>\n",
              "      <td>830</td>\n",
              "      <td>[Melbourne, Stonnington]</td>\n",
              "      <td>126.431325</td>\n",
              "    </tr>\n",
              "    <tr>\n",
              "      <th>7</th>\n",
              "      <td>3004.0</td>\n",
              "      <td>678</td>\n",
              "      <td>[Melbourne, Port Phillip, Maribyrnong, Stonnin...</td>\n",
              "      <td>140.060472</td>\n",
              "    </tr>\n",
              "    <tr>\n",
              "      <th>...</th>\n",
              "      <td>...</td>\n",
              "      <td>...</td>\n",
              "      <td>...</td>\n",
              "      <td>...</td>\n",
              "    </tr>\n",
              "    <tr>\n",
              "      <th>1</th>\n",
              "      <td>2134.0</td>\n",
              "      <td>1</td>\n",
              "      <td>[Yarra]</td>\n",
              "      <td>50.000000</td>\n",
              "    </tr>\n",
              "    <tr>\n",
              "      <th>79</th>\n",
              "      <td>3096.0</td>\n",
              "      <td>1</td>\n",
              "      <td>[Nillumbik]</td>\n",
              "      <td>100.000000</td>\n",
              "    </tr>\n",
              "    <tr>\n",
              "      <th>29</th>\n",
              "      <td>3034.0</td>\n",
              "      <td>1</td>\n",
              "      <td>[Moonee Valley]</td>\n",
              "      <td>50.000000</td>\n",
              "    </tr>\n",
              "    <tr>\n",
              "      <th>2</th>\n",
              "      <td>2582.0</td>\n",
              "      <td>1</td>\n",
              "      <td>[Hume]</td>\n",
              "      <td>104.000000</td>\n",
              "    </tr>\n",
              "    <tr>\n",
              "      <th>246</th>\n",
              "      <td>30122.0</td>\n",
              "      <td>1</td>\n",
              "      <td>[Boroondara]</td>\n",
              "      <td>75.000000</td>\n",
              "    </tr>\n",
              "  </tbody>\n",
              "</table>\n",
              "<p>247 rows × 4 columns</p>\n",
              "</div>"
            ],
            "text/plain": [
              "     zipcode  ...  price_mean\n",
              "3     3000.0  ...  134.541470\n",
              "8     3006.0  ...  147.434405\n",
              "154   3182.0  ...  126.389044\n",
              "116   3141.0  ...  126.431325\n",
              "7     3004.0  ...  140.060472\n",
              "..       ...  ...         ...\n",
              "1     2134.0  ...   50.000000\n",
              "79    3096.0  ...  100.000000\n",
              "29    3034.0  ...   50.000000\n",
              "2     2582.0  ...  104.000000\n",
              "246  30122.0  ...   75.000000\n",
              "\n",
              "[247 rows x 4 columns]"
            ]
          },
          "metadata": {
            "tags": []
          },
          "execution_count": 144
        }
      ]
    },
    {
      "cell_type": "code",
      "metadata": {
        "colab": {
          "base_uri": "https://localhost:8080/",
          "height": 422
        },
        "id": "P2n3mbJ-_v7h",
        "outputId": "0a33a0e3-5143-46d5-aec6-2a6e6826a37a"
      },
      "source": [
        "airbnb_df_paramerge['count_councils'] = airbnb_df_paramerge.council.apply(len)\n",
        "airbnb_df_paramerge\n",
        "#HAY ZIPCODES CAN VARIOS COUNCILS??????"
      ],
      "execution_count": null,
      "outputs": [
        {
          "output_type": "execute_result",
          "data": {
            "text/html": [
              "<div>\n",
              "<style scoped>\n",
              "    .dataframe tbody tr th:only-of-type {\n",
              "        vertical-align: middle;\n",
              "    }\n",
              "\n",
              "    .dataframe tbody tr th {\n",
              "        vertical-align: top;\n",
              "    }\n",
              "\n",
              "    .dataframe thead th {\n",
              "        text-align: right;\n",
              "    }\n",
              "</style>\n",
              "<table border=\"1\" class=\"dataframe\">\n",
              "  <thead>\n",
              "    <tr style=\"text-align: right;\">\n",
              "      <th></th>\n",
              "      <th>zipcode</th>\n",
              "      <th>cantidad</th>\n",
              "      <th>council</th>\n",
              "      <th>price_mean</th>\n",
              "      <th>count_councils</th>\n",
              "    </tr>\n",
              "  </thead>\n",
              "  <tbody>\n",
              "    <tr>\n",
              "      <th>3</th>\n",
              "      <td>3000.0</td>\n",
              "      <td>3171</td>\n",
              "      <td>[Melbourne, Yarra, Port Phillip, Moreland, Cas...</td>\n",
              "      <td>134.541470</td>\n",
              "      <td>6</td>\n",
              "    </tr>\n",
              "    <tr>\n",
              "      <th>8</th>\n",
              "      <td>3006.0</td>\n",
              "      <td>1151</td>\n",
              "      <td>[Melbourne, Port Phillip, Yarra]</td>\n",
              "      <td>147.434405</td>\n",
              "      <td>3</td>\n",
              "    </tr>\n",
              "    <tr>\n",
              "      <th>154</th>\n",
              "      <td>3182.0</td>\n",
              "      <td>1077</td>\n",
              "      <td>[Port Phillip, Stonnington]</td>\n",
              "      <td>126.389044</td>\n",
              "      <td>2</td>\n",
              "    </tr>\n",
              "    <tr>\n",
              "      <th>116</th>\n",
              "      <td>3141.0</td>\n",
              "      <td>830</td>\n",
              "      <td>[Melbourne, Stonnington]</td>\n",
              "      <td>126.431325</td>\n",
              "      <td>2</td>\n",
              "    </tr>\n",
              "    <tr>\n",
              "      <th>7</th>\n",
              "      <td>3004.0</td>\n",
              "      <td>678</td>\n",
              "      <td>[Melbourne, Port Phillip, Maribyrnong, Stonnin...</td>\n",
              "      <td>140.060472</td>\n",
              "      <td>7</td>\n",
              "    </tr>\n",
              "    <tr>\n",
              "      <th>...</th>\n",
              "      <td>...</td>\n",
              "      <td>...</td>\n",
              "      <td>...</td>\n",
              "      <td>...</td>\n",
              "      <td>...</td>\n",
              "    </tr>\n",
              "    <tr>\n",
              "      <th>1</th>\n",
              "      <td>2134.0</td>\n",
              "      <td>1</td>\n",
              "      <td>[Yarra]</td>\n",
              "      <td>50.000000</td>\n",
              "      <td>1</td>\n",
              "    </tr>\n",
              "    <tr>\n",
              "      <th>79</th>\n",
              "      <td>3096.0</td>\n",
              "      <td>1</td>\n",
              "      <td>[Nillumbik]</td>\n",
              "      <td>100.000000</td>\n",
              "      <td>1</td>\n",
              "    </tr>\n",
              "    <tr>\n",
              "      <th>29</th>\n",
              "      <td>3034.0</td>\n",
              "      <td>1</td>\n",
              "      <td>[Moonee Valley]</td>\n",
              "      <td>50.000000</td>\n",
              "      <td>1</td>\n",
              "    </tr>\n",
              "    <tr>\n",
              "      <th>2</th>\n",
              "      <td>2582.0</td>\n",
              "      <td>1</td>\n",
              "      <td>[Hume]</td>\n",
              "      <td>104.000000</td>\n",
              "      <td>1</td>\n",
              "    </tr>\n",
              "    <tr>\n",
              "      <th>246</th>\n",
              "      <td>30122.0</td>\n",
              "      <td>1</td>\n",
              "      <td>[Boroondara]</td>\n",
              "      <td>75.000000</td>\n",
              "      <td>1</td>\n",
              "    </tr>\n",
              "  </tbody>\n",
              "</table>\n",
              "<p>247 rows × 5 columns</p>\n",
              "</div>"
            ],
            "text/plain": [
              "     zipcode  cantidad  ...  price_mean  count_councils\n",
              "3     3000.0      3171  ...  134.541470               6\n",
              "8     3006.0      1151  ...  147.434405               3\n",
              "154   3182.0      1077  ...  126.389044               2\n",
              "116   3141.0       830  ...  126.431325               2\n",
              "7     3004.0       678  ...  140.060472               7\n",
              "..       ...       ...  ...         ...             ...\n",
              "1     2134.0         1  ...   50.000000               1\n",
              "79    3096.0         1  ...  100.000000               1\n",
              "29    3034.0         1  ...   50.000000               1\n",
              "2     2582.0         1  ...  104.000000               1\n",
              "246  30122.0         1  ...   75.000000               1\n",
              "\n",
              "[247 rows x 5 columns]"
            ]
          },
          "metadata": {
            "tags": []
          },
          "execution_count": 145
        }
      ]
    },
    {
      "cell_type": "code",
      "metadata": {
        "id": "PD-231z-Dopn",
        "colab": {
          "base_uri": "https://localhost:8080/",
          "height": 422
        },
        "outputId": "a7653426-dd09-48ee-dfa1-b775309747aa"
      },
      "source": [
        "#QUEDARSE CON UNO?\n",
        "airbnb_paramerge1 =  airbnb_df_paramerge[airbnb_df_paramerge.count_councils == 1][['zipcode', 'council']]\n",
        "airbnb_paramerge1['council'] = airbnb_paramerge1['council'].apply(lambda x:x[0])\n",
        "airbnb_paramerge1\n",
        "\n"
      ],
      "execution_count": null,
      "outputs": [
        {
          "output_type": "execute_result",
          "data": {
            "text/html": [
              "<div>\n",
              "<style scoped>\n",
              "    .dataframe tbody tr th:only-of-type {\n",
              "        vertical-align: middle;\n",
              "    }\n",
              "\n",
              "    .dataframe tbody tr th {\n",
              "        vertical-align: top;\n",
              "    }\n",
              "\n",
              "    .dataframe thead th {\n",
              "        text-align: right;\n",
              "    }\n",
              "</style>\n",
              "<table border=\"1\" class=\"dataframe\">\n",
              "  <thead>\n",
              "    <tr style=\"text-align: right;\">\n",
              "      <th></th>\n",
              "      <th>zipcode</th>\n",
              "      <th>council</th>\n",
              "    </tr>\n",
              "  </thead>\n",
              "  <tbody>\n",
              "    <tr>\n",
              "      <th>9</th>\n",
              "      <td>3008.0</td>\n",
              "      <td>Melbourne</td>\n",
              "    </tr>\n",
              "    <tr>\n",
              "      <th>43</th>\n",
              "      <td>3051.0</td>\n",
              "      <td>Melbourne</td>\n",
              "    </tr>\n",
              "    <tr>\n",
              "      <th>56</th>\n",
              "      <td>3066.0</td>\n",
              "      <td>Yarra</td>\n",
              "    </tr>\n",
              "    <tr>\n",
              "      <th>6</th>\n",
              "      <td>3003.0</td>\n",
              "      <td>Melbourne</td>\n",
              "    </tr>\n",
              "    <tr>\n",
              "      <th>103</th>\n",
              "      <td>3128.0</td>\n",
              "      <td>Whitehorse</td>\n",
              "    </tr>\n",
              "    <tr>\n",
              "      <th>...</th>\n",
              "      <td>...</td>\n",
              "      <td>...</td>\n",
              "    </tr>\n",
              "    <tr>\n",
              "      <th>1</th>\n",
              "      <td>2134.0</td>\n",
              "      <td>Yarra</td>\n",
              "    </tr>\n",
              "    <tr>\n",
              "      <th>79</th>\n",
              "      <td>3096.0</td>\n",
              "      <td>Nillumbik</td>\n",
              "    </tr>\n",
              "    <tr>\n",
              "      <th>29</th>\n",
              "      <td>3034.0</td>\n",
              "      <td>Moonee Valley</td>\n",
              "    </tr>\n",
              "    <tr>\n",
              "      <th>2</th>\n",
              "      <td>2582.0</td>\n",
              "      <td>Hume</td>\n",
              "    </tr>\n",
              "    <tr>\n",
              "      <th>246</th>\n",
              "      <td>30122.0</td>\n",
              "      <td>Boroondara</td>\n",
              "    </tr>\n",
              "  </tbody>\n",
              "</table>\n",
              "<p>153 rows × 2 columns</p>\n",
              "</div>"
            ],
            "text/plain": [
              "     zipcode        council\n",
              "9     3008.0      Melbourne\n",
              "43    3051.0      Melbourne\n",
              "56    3066.0          Yarra\n",
              "6     3003.0      Melbourne\n",
              "103   3128.0     Whitehorse\n",
              "..       ...            ...\n",
              "1     2134.0          Yarra\n",
              "79    3096.0      Nillumbik\n",
              "29    3034.0  Moonee Valley\n",
              "2     2582.0           Hume\n",
              "246  30122.0     Boroondara\n",
              "\n",
              "[153 rows x 2 columns]"
            ]
          },
          "metadata": {
            "tags": []
          },
          "execution_count": 149
        }
      ]
    },
    {
      "cell_type": "code",
      "metadata": {
        "colab": {
          "base_uri": "https://localhost:8080/",
          "height": 329
        },
        "id": "6KE_d0OJK21m",
        "outputId": "5343fbf0-64e8-4649-bae2-40cfe7669787"
      },
      "source": [
        "#MERGE????\n",
        "melb_df_nuevo = melb_df_nuevo.merge(airbnb_paramerge1, how='left', left_on='Postcode', right_on='zipcode')\n",
        "#AGREGAR PRECIOS?\n",
        "airbnb_price_paramerge =  airbnb_df_paramerge[['zipcode', 'price_mean']]\n",
        "melb_df_nuevo = melb_df_nuevo.merge(airbnb_df_paramerge, how='left', left_on='Postcode', right_on='zipcode')\n",
        "\n",
        "melb_df_nuevo.sample(5)\n",
        "#HAY COLUMNAS EXTRAS?? QUE SE HACE????????\n",
        "\n"
      ],
      "execution_count": null,
      "outputs": [
        {
          "output_type": "execute_result",
          "data": {
            "text/html": [
              "<div>\n",
              "<style scoped>\n",
              "    .dataframe tbody tr th:only-of-type {\n",
              "        vertical-align: middle;\n",
              "    }\n",
              "\n",
              "    .dataframe tbody tr th {\n",
              "        vertical-align: top;\n",
              "    }\n",
              "\n",
              "    .dataframe thead th {\n",
              "        text-align: right;\n",
              "    }\n",
              "</style>\n",
              "<table border=\"1\" class=\"dataframe\">\n",
              "  <thead>\n",
              "    <tr style=\"text-align: right;\">\n",
              "      <th></th>\n",
              "      <th>Type</th>\n",
              "      <th>Rooms</th>\n",
              "      <th>Price</th>\n",
              "      <th>Suburb</th>\n",
              "      <th>Bathroom</th>\n",
              "      <th>Car</th>\n",
              "      <th>BuildingArea</th>\n",
              "      <th>YearBuilt</th>\n",
              "      <th>CouncilArea</th>\n",
              "      <th>Regionname</th>\n",
              "      <th>Distance</th>\n",
              "      <th>Postcode</th>\n",
              "      <th>Lattitude</th>\n",
              "      <th>Longtitude</th>\n",
              "      <th>zipcode_x</th>\n",
              "      <th>council_x</th>\n",
              "      <th>zipcode_y</th>\n",
              "      <th>council_y</th>\n",
              "      <th>zipcode_x</th>\n",
              "      <th>council_x</th>\n",
              "      <th>zipcode_y</th>\n",
              "      <th>council_y</th>\n",
              "      <th>zipcode_x</th>\n",
              "      <th>council_x</th>\n",
              "      <th>zipcode_y</th>\n",
              "      <th>cantidad</th>\n",
              "      <th>council_y</th>\n",
              "      <th>price_mean</th>\n",
              "      <th>count_councils</th>\n",
              "    </tr>\n",
              "  </thead>\n",
              "  <tbody>\n",
              "    <tr>\n",
              "      <th>9877</th>\n",
              "      <td>h</td>\n",
              "      <td>3</td>\n",
              "      <td>1590000.0</td>\n",
              "      <td>Northcote</td>\n",
              "      <td>1.0</td>\n",
              "      <td>1.0</td>\n",
              "      <td>NaN</td>\n",
              "      <td>NaN</td>\n",
              "      <td>Darebin</td>\n",
              "      <td>Northern Metropolitan</td>\n",
              "      <td>5.3</td>\n",
              "      <td>3070.0</td>\n",
              "      <td>-37.76557</td>\n",
              "      <td>145.01052</td>\n",
              "      <td>NaN</td>\n",
              "      <td>NaN</td>\n",
              "      <td>NaN</td>\n",
              "      <td>NaN</td>\n",
              "      <td>NaN</td>\n",
              "      <td>NaN</td>\n",
              "      <td>NaN</td>\n",
              "      <td>NaN</td>\n",
              "      <td>NaN</td>\n",
              "      <td>NaN</td>\n",
              "      <td>3070.0</td>\n",
              "      <td>265.0</td>\n",
              "      <td>[Darebin, Yarra]</td>\n",
              "      <td>108.384906</td>\n",
              "      <td>2.0</td>\n",
              "    </tr>\n",
              "    <tr>\n",
              "      <th>12578</th>\n",
              "      <td>t</td>\n",
              "      <td>2</td>\n",
              "      <td>875000.0</td>\n",
              "      <td>Hampton East</td>\n",
              "      <td>1.0</td>\n",
              "      <td>1.0</td>\n",
              "      <td>NaN</td>\n",
              "      <td>NaN</td>\n",
              "      <td>NaN</td>\n",
              "      <td>Southern Metropolitan</td>\n",
              "      <td>13.8</td>\n",
              "      <td>3188.0</td>\n",
              "      <td>-37.93522</td>\n",
              "      <td>145.02837</td>\n",
              "      <td>3188.0</td>\n",
              "      <td>Bayside</td>\n",
              "      <td>3188.0</td>\n",
              "      <td>Bayside</td>\n",
              "      <td>3188.0</td>\n",
              "      <td>Bayside</td>\n",
              "      <td>3188.0</td>\n",
              "      <td>Bayside</td>\n",
              "      <td>3188.0</td>\n",
              "      <td>Bayside</td>\n",
              "      <td>3188.0</td>\n",
              "      <td>55.0</td>\n",
              "      <td>[Bayside]</td>\n",
              "      <td>153.727273</td>\n",
              "      <td>1.0</td>\n",
              "    </tr>\n",
              "    <tr>\n",
              "      <th>673</th>\n",
              "      <td>h</td>\n",
              "      <td>3</td>\n",
              "      <td>1770000.0</td>\n",
              "      <td>Balwyn North</td>\n",
              "      <td>2.0</td>\n",
              "      <td>1.0</td>\n",
              "      <td>147.0</td>\n",
              "      <td>1955.0</td>\n",
              "      <td>Boroondara</td>\n",
              "      <td>Southern Metropolitan</td>\n",
              "      <td>9.2</td>\n",
              "      <td>3104.0</td>\n",
              "      <td>-37.79380</td>\n",
              "      <td>145.08380</td>\n",
              "      <td>3104.0</td>\n",
              "      <td>Boroondara</td>\n",
              "      <td>3104.0</td>\n",
              "      <td>Boroondara</td>\n",
              "      <td>3104.0</td>\n",
              "      <td>Boroondara</td>\n",
              "      <td>3104.0</td>\n",
              "      <td>Boroondara</td>\n",
              "      <td>3104.0</td>\n",
              "      <td>Boroondara</td>\n",
              "      <td>3104.0</td>\n",
              "      <td>39.0</td>\n",
              "      <td>[Boroondara]</td>\n",
              "      <td>85.974359</td>\n",
              "      <td>1.0</td>\n",
              "    </tr>\n",
              "    <tr>\n",
              "      <th>7061</th>\n",
              "      <td>h</td>\n",
              "      <td>3</td>\n",
              "      <td>1420000.0</td>\n",
              "      <td>Murrumbeena</td>\n",
              "      <td>1.0</td>\n",
              "      <td>1.0</td>\n",
              "      <td>NaN</td>\n",
              "      <td>NaN</td>\n",
              "      <td>Glen Eira</td>\n",
              "      <td>Southern Metropolitan</td>\n",
              "      <td>12.1</td>\n",
              "      <td>3163.0</td>\n",
              "      <td>-37.88870</td>\n",
              "      <td>145.07180</td>\n",
              "      <td>NaN</td>\n",
              "      <td>NaN</td>\n",
              "      <td>NaN</td>\n",
              "      <td>NaN</td>\n",
              "      <td>NaN</td>\n",
              "      <td>NaN</td>\n",
              "      <td>NaN</td>\n",
              "      <td>NaN</td>\n",
              "      <td>NaN</td>\n",
              "      <td>NaN</td>\n",
              "      <td>3163.0</td>\n",
              "      <td>142.0</td>\n",
              "      <td>[Glen Eira, Stonnington, Monash]</td>\n",
              "      <td>92.535211</td>\n",
              "      <td>3.0</td>\n",
              "    </tr>\n",
              "    <tr>\n",
              "      <th>1048</th>\n",
              "      <td>t</td>\n",
              "      <td>3</td>\n",
              "      <td>1475000.0</td>\n",
              "      <td>Brighton</td>\n",
              "      <td>2.0</td>\n",
              "      <td>2.0</td>\n",
              "      <td>163.0</td>\n",
              "      <td>2000.0</td>\n",
              "      <td>Bayside</td>\n",
              "      <td>Southern Metropolitan</td>\n",
              "      <td>11.2</td>\n",
              "      <td>3186.0</td>\n",
              "      <td>-37.89430</td>\n",
              "      <td>144.99070</td>\n",
              "      <td>NaN</td>\n",
              "      <td>NaN</td>\n",
              "      <td>NaN</td>\n",
              "      <td>NaN</td>\n",
              "      <td>NaN</td>\n",
              "      <td>NaN</td>\n",
              "      <td>NaN</td>\n",
              "      <td>NaN</td>\n",
              "      <td>NaN</td>\n",
              "      <td>NaN</td>\n",
              "      <td>3186.0</td>\n",
              "      <td>93.0</td>\n",
              "      <td>[Bayside, Glen Eira]</td>\n",
              "      <td>144.881720</td>\n",
              "      <td>2.0</td>\n",
              "    </tr>\n",
              "  </tbody>\n",
              "</table>\n",
              "</div>"
            ],
            "text/plain": [
              "      Type  Rooms  ...  price_mean count_councils\n",
              "9877     h      3  ...  108.384906            2.0\n",
              "12578    t      2  ...  153.727273            1.0\n",
              "673      h      3  ...   85.974359            1.0\n",
              "7061     h      3  ...   92.535211            3.0\n",
              "1048     t      3  ...  144.881720            2.0\n",
              "\n",
              "[5 rows x 29 columns]"
            ]
          },
          "metadata": {
            "tags": []
          },
          "execution_count": 156
        }
      ]
    },
    {
      "cell_type": "markdown",
      "metadata": {
        "id": "ismngxPcfoWb"
      },
      "source": [
        "## Ejercicio 2: Imputación\n",
        "\n",
        "1. Imputar los valores faltantes de la columna CouncilArea en base a la información presente en Suburb. (Si en el punto anterior no seleccionó ninguna de estas variables, agréguelas ahora el conjunto de datos).\n",
        "\n",
        "2. Imputar los valores faltantes de la(s) columna(s) que se agregaron a partir del conjunto de datos de AirBnB.\n",
        "\n"
      ]
    },
    {
      "cell_type": "code",
      "metadata": {
        "id": "CGJjtBCKOZSQ"
      },
      "source": [
        ""
      ],
      "execution_count": null,
      "outputs": []
    },
    {
      "cell_type": "code",
      "metadata": {
        "id": "xZA4RIpTOZmj"
      },
      "source": [
        ""
      ],
      "execution_count": null,
      "outputs": []
    },
    {
      "cell_type": "code",
      "metadata": {
        "id": "DnbsFyy_iQt5"
      },
      "source": [
        "len(melb_df_nuevo[melb_df_nuevo.CouncilArea.isna()])\n",
        "#HAY 1369 NaN"
      ],
      "execution_count": null,
      "outputs": []
    },
    {
      "cell_type": "markdown",
      "metadata": {
        "id": "NBN7-5OIxjJW"
      },
      "source": [
        "## Ejercicio 3\n",
        "\n",
        "Crear y guardar un nuevo conjunto de datos con todas las transformaciones realizadas anteriormente."
      ]
    },
    {
      "cell_type": "code",
      "metadata": {
        "id": "DfchYPgTxvQ4"
      },
      "source": [
        ""
      ],
      "execution_count": null,
      "outputs": []
    },
    {
      "cell_type": "markdown",
      "metadata": {
        "id": "Bq7nuPg2HIYx"
      },
      "source": [
        ""
      ]
    }
  ]
}