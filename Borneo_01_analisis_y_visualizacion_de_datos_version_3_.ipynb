{
  "nbformat": 4,
  "nbformat_minor": 0,
  "metadata": {
    "kernelspec": {
      "display_name": "Python 3",
      "language": "python",
      "name": "python3"
    },
    "language_info": {
      "codemirror_mode": {
        "name": "ipython",
        "version": 3
      },
      "file_extension": ".py",
      "mimetype": "text/x-python",
      "name": "python",
      "nbconvert_exporter": "python",
      "pygments_lexer": "ipython3",
      "version": "3.8.5"
    },
    "colab": {
      "name": "Borneo_01_analisis_y_visualizacion_de_datos_version_3-.ipynb",
      "provenance": [],
      "include_colab_link": true
    }
  },
  "cells": [
    {
      "cell_type": "markdown",
      "metadata": {
        "id": "view-in-github",
        "colab_type": "text"
      },
      "source": [
        "<a href=\"https://colab.research.google.com/github/rafaborneo/rafaelborneo/blob/master/Borneo_01_analisis_y_visualizacion_de_datos_version_3_.ipynb\" target=\"_parent\"><img src=\"https://colab.research.google.com/assets/colab-badge.svg\" alt=\"Open In Colab\"/></a>"
      ]
    },
    {
      "cell_type": "markdown",
      "metadata": {
        "id": "f9FQn2qpWAZQ"
      },
      "source": [
        "# Práctico Análisis y Visualización de Datos \n",
        "\n",
        "\n",
        "**Objetivo y alcance:**\n",
        "\n",
        "Se introducirá la miscelánea disponible para la inspección y visualización de la estadística descriptiva, estadística inferencial y probabilidad conjunta para cada una de las variables físicas de las galaxias, herramientas suficientes para determinar la distribución y estadisticos de las cantidades físicas que caracterizan al dataset y como éstas están relacionadas.\n",
        "\n",
        "**Método:**\n",
        "El objetivo será hecho a través de las librerías de python dedicadas a la examinación y visualización, principalmente con librerías como: pandas, numpy, seaborn, matplotlib y scipy. En la parte estadística se estudiarán los intercuartiles, valores extremos, *outliers* y las distribuciones que sigue cada una de las variables ajustadas a la distribución normal, las mismas tambien se visualizarán a través de histogramas y boxplots.  Usando métodos probabilisticos como el teorema de Bayes, chi-cuadrado y el intervalo de confianza de la mediana en los boxplots se verá la correlación entre estas variables.\n",
        "\n",
        "\n",
        "Estructura del informe:\n",
        "- Presentación de los datos;\n",
        "- Visualización de datos categóricos y numéricos;\n",
        "- Valores explícitos característicos de la distribución de algunas de las variables;\n",
        "- Vizualización de la distribución con los valores característicos de la misma;\n",
        "- Ajuste de la distribución a una Normal;\n",
        "- Examinación de distribuciones de probabilidades discretas y continuas;\n",
        "- Correlación entre las variables;\n",
        "- Visualización de correlación entre variables usando mapas de calor;\n",
        "- Conclusiones."
      ]
    },
    {
      "cell_type": "markdown",
      "metadata": {
        "id": "aXEKvkIXWAZT"
      },
      "source": [
        "El *dataset* contiene las siguientes columnas:\n",
        "\n",
        "- **rac y dec** = Posición angular, rac de 0 a 360 y dec de -90 a 90\n",
        "- **Mag_u,Mag_g,Mag_r,Mag_i,Mag_z**= Estas variables representan una fracción de la luz total que observamos de las galaxias según su frecuencia (como por ejemplo, la frecuencia de radio, para más información [wiki](https://es.wikipedia.org/wiki/Espectro_visible))\n",
        "- **z** = Es una medida de la distancia a la que se encuentra la galaxia\n",
        "- **R** = Es una medida del tamaño de la galaxia\n",
        "- **color**= Como su nombre lo indica es el color más predominante en la galaxia\n",
        "- **elíptica, espiral, irregular**= Estas columnas identifican el tipo de morfología de las galaxias. Si el valor de una de estas tres columnas es 1, entonces la galaxia tiene esa morfología y las dos restantes tendran el valor 0. "
      ]
    },
    {
      "cell_type": "markdown",
      "metadata": {
        "id": "Nqi0jx1bWAZV"
      },
      "source": [
        "# Paquetes "
      ]
    },
    {
      "cell_type": "code",
      "metadata": {
        "id": "YH0X4JXqWAZW"
      },
      "source": [
        "import pandas as pd\n",
        "import matplotlib.pyplot as plt\n",
        "import seaborn\n",
        "import scipy as sp\n",
        "import numpy as np\n",
        "import matplotlib.patches as mpatches\n"
      ],
      "execution_count": null,
      "outputs": []
    },
    {
      "cell_type": "markdown",
      "metadata": {
        "id": "-rOIYXsqWAZX"
      },
      "source": [
        "# Carga de Datos"
      ]
    },
    {
      "cell_type": "code",
      "metadata": {
        "id": "PnCaryB4WAZX"
      },
      "source": [
        "data = pd.read_csv('galaxias.csv', sep=',')"
      ],
      "execution_count": null,
      "outputs": []
    },
    {
      "cell_type": "code",
      "metadata": {
        "id": "vcrmQTfXWAZY",
        "outputId": "81e297cf-1eb5-4f52-d0a7-e2e64fc4ec07"
      },
      "source": [
        "display('Head',data.head(6))\n",
        "display('Tamaño',data.shape)\n",
        "display('Valores faltantes',data.notnull().all().to_frame())\n",
        "display('Estadísticos del dataset',data.describe())"
      ],
      "execution_count": null,
      "outputs": [
        {
          "output_type": "display_data",
          "data": {
            "text/plain": [
              "'Head'"
            ]
          },
          "metadata": {
            "tags": []
          }
        },
        {
          "output_type": "display_data",
          "data": {
            "text/html": [
              "<div>\n",
              "<style scoped>\n",
              "    .dataframe tbody tr th:only-of-type {\n",
              "        vertical-align: middle;\n",
              "    }\n",
              "\n",
              "    .dataframe tbody tr th {\n",
              "        vertical-align: top;\n",
              "    }\n",
              "\n",
              "    .dataframe thead th {\n",
              "        text-align: right;\n",
              "    }\n",
              "</style>\n",
              "<table border=\"1\" class=\"dataframe\">\n",
              "  <thead>\n",
              "    <tr style=\"text-align: right;\">\n",
              "      <th></th>\n",
              "      <th>ra</th>\n",
              "      <th>dec</th>\n",
              "      <th>Mag_u</th>\n",
              "      <th>Mag_g</th>\n",
              "      <th>Mag_r</th>\n",
              "      <th>Mag_i</th>\n",
              "      <th>Mag_z</th>\n",
              "      <th>R</th>\n",
              "      <th>z</th>\n",
              "      <th>color</th>\n",
              "      <th>eliptica</th>\n",
              "      <th>espiral</th>\n",
              "      <th>irregular</th>\n",
              "    </tr>\n",
              "  </thead>\n",
              "  <tbody>\n",
              "    <tr>\n",
              "      <th>0</th>\n",
              "      <td>124.681690</td>\n",
              "      <td>51.782638</td>\n",
              "      <td>18.88496</td>\n",
              "      <td>17.75081</td>\n",
              "      <td>17.43881</td>\n",
              "      <td>17.23038</td>\n",
              "      <td>17.13276</td>\n",
              "      <td>6.112216</td>\n",
              "      <td>0.042512</td>\n",
              "      <td>-1.446144</td>\n",
              "      <td>0</td>\n",
              "      <td>0</td>\n",
              "      <td>1</td>\n",
              "    </tr>\n",
              "    <tr>\n",
              "      <th>1</th>\n",
              "      <td>128.676351</td>\n",
              "      <td>51.973910</td>\n",
              "      <td>20.20252</td>\n",
              "      <td>18.14648</td>\n",
              "      <td>17.51353</td>\n",
              "      <td>17.13207</td>\n",
              "      <td>16.83231</td>\n",
              "      <td>6.618816</td>\n",
              "      <td>0.049901</td>\n",
              "      <td>-2.688982</td>\n",
              "      <td>0</td>\n",
              "      <td>1</td>\n",
              "      <td>0</td>\n",
              "    </tr>\n",
              "    <tr>\n",
              "      <th>2</th>\n",
              "      <td>131.396389</td>\n",
              "      <td>53.550571</td>\n",
              "      <td>18.85028</td>\n",
              "      <td>17.48945</td>\n",
              "      <td>16.96463</td>\n",
              "      <td>16.68431</td>\n",
              "      <td>16.50479</td>\n",
              "      <td>10.350600</td>\n",
              "      <td>0.045041</td>\n",
              "      <td>-1.885653</td>\n",
              "      <td>0</td>\n",
              "      <td>1</td>\n",
              "      <td>0</td>\n",
              "    </tr>\n",
              "    <tr>\n",
              "      <th>3</th>\n",
              "      <td>129.384163</td>\n",
              "      <td>55.251341</td>\n",
              "      <td>19.29007</td>\n",
              "      <td>17.38153</td>\n",
              "      <td>16.52590</td>\n",
              "      <td>16.11502</td>\n",
              "      <td>15.78828</td>\n",
              "      <td>5.981402</td>\n",
              "      <td>0.045485</td>\n",
              "      <td>-2.764166</td>\n",
              "      <td>0</td>\n",
              "      <td>0</td>\n",
              "      <td>1</td>\n",
              "    </tr>\n",
              "    <tr>\n",
              "      <th>4</th>\n",
              "      <td>129.945145</td>\n",
              "      <td>55.628530</td>\n",
              "      <td>18.08747</td>\n",
              "      <td>16.73876</td>\n",
              "      <td>16.16752</td>\n",
              "      <td>15.83606</td>\n",
              "      <td>15.55770</td>\n",
              "      <td>8.978182</td>\n",
              "      <td>0.035336</td>\n",
              "      <td>-1.919950</td>\n",
              "      <td>0</td>\n",
              "      <td>1</td>\n",
              "      <td>0</td>\n",
              "    </tr>\n",
              "    <tr>\n",
              "      <th>5</th>\n",
              "      <td>131.328756</td>\n",
              "      <td>55.842499</td>\n",
              "      <td>18.93437</td>\n",
              "      <td>17.23941</td>\n",
              "      <td>16.45432</td>\n",
              "      <td>16.02061</td>\n",
              "      <td>15.70122</td>\n",
              "      <td>5.162340</td>\n",
              "      <td>0.044426</td>\n",
              "      <td>-2.480055</td>\n",
              "      <td>0</td>\n",
              "      <td>1</td>\n",
              "      <td>0</td>\n",
              "    </tr>\n",
              "  </tbody>\n",
              "</table>\n",
              "</div>"
            ],
            "text/plain": [
              "           ra        dec     Mag_u     Mag_g     Mag_r     Mag_i     Mag_z  \\\n",
              "0  124.681690  51.782638  18.88496  17.75081  17.43881  17.23038  17.13276   \n",
              "1  128.676351  51.973910  20.20252  18.14648  17.51353  17.13207  16.83231   \n",
              "2  131.396389  53.550571  18.85028  17.48945  16.96463  16.68431  16.50479   \n",
              "3  129.384163  55.251341  19.29007  17.38153  16.52590  16.11502  15.78828   \n",
              "4  129.945145  55.628530  18.08747  16.73876  16.16752  15.83606  15.55770   \n",
              "5  131.328756  55.842499  18.93437  17.23941  16.45432  16.02061  15.70122   \n",
              "\n",
              "           R         z     color  eliptica  espiral  irregular  \n",
              "0   6.112216  0.042512 -1.446144         0        0          1  \n",
              "1   6.618816  0.049901 -2.688982         0        1          0  \n",
              "2  10.350600  0.045041 -1.885653         0        1          0  \n",
              "3   5.981402  0.045485 -2.764166         0        0          1  \n",
              "4   8.978182  0.035336 -1.919950         0        1          0  \n",
              "5   5.162340  0.044426 -2.480055         0        1          0  "
            ]
          },
          "metadata": {
            "tags": []
          }
        },
        {
          "output_type": "display_data",
          "data": {
            "text/plain": [
              "'Tamaño'"
            ]
          },
          "metadata": {
            "tags": []
          }
        },
        {
          "output_type": "display_data",
          "data": {
            "text/plain": [
              "(92102, 13)"
            ]
          },
          "metadata": {
            "tags": []
          }
        },
        {
          "output_type": "display_data",
          "data": {
            "text/plain": [
              "'Valores faltantes'"
            ]
          },
          "metadata": {
            "tags": []
          }
        },
        {
          "output_type": "display_data",
          "data": {
            "text/html": [
              "<div>\n",
              "<style scoped>\n",
              "    .dataframe tbody tr th:only-of-type {\n",
              "        vertical-align: middle;\n",
              "    }\n",
              "\n",
              "    .dataframe tbody tr th {\n",
              "        vertical-align: top;\n",
              "    }\n",
              "\n",
              "    .dataframe thead th {\n",
              "        text-align: right;\n",
              "    }\n",
              "</style>\n",
              "<table border=\"1\" class=\"dataframe\">\n",
              "  <thead>\n",
              "    <tr style=\"text-align: right;\">\n",
              "      <th></th>\n",
              "      <th>0</th>\n",
              "    </tr>\n",
              "  </thead>\n",
              "  <tbody>\n",
              "    <tr>\n",
              "      <th>ra</th>\n",
              "      <td>True</td>\n",
              "    </tr>\n",
              "    <tr>\n",
              "      <th>dec</th>\n",
              "      <td>True</td>\n",
              "    </tr>\n",
              "    <tr>\n",
              "      <th>Mag_u</th>\n",
              "      <td>True</td>\n",
              "    </tr>\n",
              "    <tr>\n",
              "      <th>Mag_g</th>\n",
              "      <td>True</td>\n",
              "    </tr>\n",
              "    <tr>\n",
              "      <th>Mag_r</th>\n",
              "      <td>True</td>\n",
              "    </tr>\n",
              "    <tr>\n",
              "      <th>Mag_i</th>\n",
              "      <td>True</td>\n",
              "    </tr>\n",
              "    <tr>\n",
              "      <th>Mag_z</th>\n",
              "      <td>True</td>\n",
              "    </tr>\n",
              "    <tr>\n",
              "      <th>R</th>\n",
              "      <td>True</td>\n",
              "    </tr>\n",
              "    <tr>\n",
              "      <th>z</th>\n",
              "      <td>True</td>\n",
              "    </tr>\n",
              "    <tr>\n",
              "      <th>color</th>\n",
              "      <td>True</td>\n",
              "    </tr>\n",
              "    <tr>\n",
              "      <th>eliptica</th>\n",
              "      <td>True</td>\n",
              "    </tr>\n",
              "    <tr>\n",
              "      <th>espiral</th>\n",
              "      <td>True</td>\n",
              "    </tr>\n",
              "    <tr>\n",
              "      <th>irregular</th>\n",
              "      <td>True</td>\n",
              "    </tr>\n",
              "  </tbody>\n",
              "</table>\n",
              "</div>"
            ],
            "text/plain": [
              "              0\n",
              "ra         True\n",
              "dec        True\n",
              "Mag_u      True\n",
              "Mag_g      True\n",
              "Mag_r      True\n",
              "Mag_i      True\n",
              "Mag_z      True\n",
              "R          True\n",
              "z          True\n",
              "color      True\n",
              "eliptica   True\n",
              "espiral    True\n",
              "irregular  True"
            ]
          },
          "metadata": {
            "tags": []
          }
        },
        {
          "output_type": "display_data",
          "data": {
            "text/plain": [
              "'Estadísticos del dataset'"
            ]
          },
          "metadata": {
            "tags": []
          }
        },
        {
          "output_type": "display_data",
          "data": {
            "text/html": [
              "<div>\n",
              "<style scoped>\n",
              "    .dataframe tbody tr th:only-of-type {\n",
              "        vertical-align: middle;\n",
              "    }\n",
              "\n",
              "    .dataframe tbody tr th {\n",
              "        vertical-align: top;\n",
              "    }\n",
              "\n",
              "    .dataframe thead th {\n",
              "        text-align: right;\n",
              "    }\n",
              "</style>\n",
              "<table border=\"1\" class=\"dataframe\">\n",
              "  <thead>\n",
              "    <tr style=\"text-align: right;\">\n",
              "      <th></th>\n",
              "      <th>ra</th>\n",
              "      <th>dec</th>\n",
              "      <th>Mag_u</th>\n",
              "      <th>Mag_g</th>\n",
              "      <th>Mag_r</th>\n",
              "      <th>Mag_i</th>\n",
              "      <th>Mag_z</th>\n",
              "      <th>R</th>\n",
              "      <th>z</th>\n",
              "      <th>color</th>\n",
              "      <th>eliptica</th>\n",
              "      <th>espiral</th>\n",
              "      <th>irregular</th>\n",
              "    </tr>\n",
              "  </thead>\n",
              "  <tbody>\n",
              "    <tr>\n",
              "      <th>count</th>\n",
              "      <td>92102.000000</td>\n",
              "      <td>92102.000000</td>\n",
              "      <td>92102.000000</td>\n",
              "      <td>92102.000000</td>\n",
              "      <td>92102.000000</td>\n",
              "      <td>92102.000000</td>\n",
              "      <td>92102.000000</td>\n",
              "      <td>92102.000000</td>\n",
              "      <td>92102.000000</td>\n",
              "      <td>92102.000000</td>\n",
              "      <td>92102.000000</td>\n",
              "      <td>92102.000000</td>\n",
              "      <td>92102.000000</td>\n",
              "    </tr>\n",
              "    <tr>\n",
              "      <th>mean</th>\n",
              "      <td>181.086338</td>\n",
              "      <td>24.723737</td>\n",
              "      <td>18.143378</td>\n",
              "      <td>16.708392</td>\n",
              "      <td>16.312647</td>\n",
              "      <td>15.991780</td>\n",
              "      <td>15.433421</td>\n",
              "      <td>9.459875</td>\n",
              "      <td>0.036092</td>\n",
              "      <td>-1.830732</td>\n",
              "      <td>0.089651</td>\n",
              "      <td>0.326225</td>\n",
              "      <td>0.584124</td>\n",
              "    </tr>\n",
              "    <tr>\n",
              "      <th>std</th>\n",
              "      <td>61.177151</td>\n",
              "      <td>18.853785</td>\n",
              "      <td>46.690487</td>\n",
              "      <td>46.684358</td>\n",
              "      <td>1.092588</td>\n",
              "      <td>1.151259</td>\n",
              "      <td>57.168725</td>\n",
              "      <td>5.248708</td>\n",
              "      <td>0.008435</td>\n",
              "      <td>46.686363</td>\n",
              "      <td>0.285682</td>\n",
              "      <td>0.468833</td>\n",
              "      <td>0.492875</td>\n",
              "    </tr>\n",
              "    <tr>\n",
              "      <th>min</th>\n",
              "      <td>0.008745</td>\n",
              "      <td>-11.202394</td>\n",
              "      <td>-9999.000000</td>\n",
              "      <td>-9999.000000</td>\n",
              "      <td>11.524090</td>\n",
              "      <td>11.220580</td>\n",
              "      <td>-9999.000000</td>\n",
              "      <td>0.842248</td>\n",
              "      <td>0.020001</td>\n",
              "      <td>-13.484570</td>\n",
              "      <td>0.000000</td>\n",
              "      <td>0.000000</td>\n",
              "      <td>0.000000</td>\n",
              "    </tr>\n",
              "    <tr>\n",
              "      <th>25%</th>\n",
              "      <td>150.287271</td>\n",
              "      <td>9.115292</td>\n",
              "      <td>17.725203</td>\n",
              "      <td>16.251015</td>\n",
              "      <td>15.562648</td>\n",
              "      <td>15.197173</td>\n",
              "      <td>14.910782</td>\n",
              "      <td>6.117609</td>\n",
              "      <td>0.029082</td>\n",
              "      <td>-2.510555</td>\n",
              "      <td>0.000000</td>\n",
              "      <td>0.000000</td>\n",
              "      <td>0.000000</td>\n",
              "    </tr>\n",
              "    <tr>\n",
              "      <th>50%</th>\n",
              "      <td>183.219954</td>\n",
              "      <td>23.111344</td>\n",
              "      <td>18.442490</td>\n",
              "      <td>17.082385</td>\n",
              "      <td>16.491180</td>\n",
              "      <td>16.171225</td>\n",
              "      <td>15.934050</td>\n",
              "      <td>8.361149</td>\n",
              "      <td>0.036321</td>\n",
              "      <td>-1.994779</td>\n",
              "      <td>0.000000</td>\n",
              "      <td>0.000000</td>\n",
              "      <td>1.000000</td>\n",
              "    </tr>\n",
              "    <tr>\n",
              "      <th>75%</th>\n",
              "      <td>222.722975</td>\n",
              "      <td>38.982500</td>\n",
              "      <td>19.028265</td>\n",
              "      <td>17.720817</td>\n",
              "      <td>17.209298</td>\n",
              "      <td>16.928400</td>\n",
              "      <td>16.736465</td>\n",
              "      <td>11.345535</td>\n",
              "      <td>0.043620</td>\n",
              "      <td>-1.606971</td>\n",
              "      <td>0.000000</td>\n",
              "      <td>1.000000</td>\n",
              "      <td>1.000000</td>\n",
              "    </tr>\n",
              "    <tr>\n",
              "      <th>max</th>\n",
              "      <td>359.965567</td>\n",
              "      <td>70.133213</td>\n",
              "      <td>28.787190</td>\n",
              "      <td>25.526970</td>\n",
              "      <td>27.911470</td>\n",
              "      <td>25.657780</td>\n",
              "      <td>26.923540</td>\n",
              "      <td>231.121800</td>\n",
              "      <td>0.050000</td>\n",
              "      <td>10015.860000</td>\n",
              "      <td>1.000000</td>\n",
              "      <td>1.000000</td>\n",
              "      <td>1.000000</td>\n",
              "    </tr>\n",
              "  </tbody>\n",
              "</table>\n",
              "</div>"
            ],
            "text/plain": [
              "                 ra           dec         Mag_u         Mag_g         Mag_r  \\\n",
              "count  92102.000000  92102.000000  92102.000000  92102.000000  92102.000000   \n",
              "mean     181.086338     24.723737     18.143378     16.708392     16.312647   \n",
              "std       61.177151     18.853785     46.690487     46.684358      1.092588   \n",
              "min        0.008745    -11.202394  -9999.000000  -9999.000000     11.524090   \n",
              "25%      150.287271      9.115292     17.725203     16.251015     15.562648   \n",
              "50%      183.219954     23.111344     18.442490     17.082385     16.491180   \n",
              "75%      222.722975     38.982500     19.028265     17.720817     17.209298   \n",
              "max      359.965567     70.133213     28.787190     25.526970     27.911470   \n",
              "\n",
              "              Mag_i         Mag_z             R             z         color  \\\n",
              "count  92102.000000  92102.000000  92102.000000  92102.000000  92102.000000   \n",
              "mean      15.991780     15.433421      9.459875      0.036092     -1.830732   \n",
              "std        1.151259     57.168725      5.248708      0.008435     46.686363   \n",
              "min       11.220580  -9999.000000      0.842248      0.020001    -13.484570   \n",
              "25%       15.197173     14.910782      6.117609      0.029082     -2.510555   \n",
              "50%       16.171225     15.934050      8.361149      0.036321     -1.994779   \n",
              "75%       16.928400     16.736465     11.345535      0.043620     -1.606971   \n",
              "max       25.657780     26.923540    231.121800      0.050000  10015.860000   \n",
              "\n",
              "           eliptica       espiral     irregular  \n",
              "count  92102.000000  92102.000000  92102.000000  \n",
              "mean       0.089651      0.326225      0.584124  \n",
              "std        0.285682      0.468833      0.492875  \n",
              "min        0.000000      0.000000      0.000000  \n",
              "25%        0.000000      0.000000      0.000000  \n",
              "50%        0.000000      0.000000      1.000000  \n",
              "75%        0.000000      1.000000      1.000000  \n",
              "max        1.000000      1.000000      1.000000  "
            ]
          },
          "metadata": {
            "tags": []
          }
        }
      ]
    },
    {
      "cell_type": "markdown",
      "metadata": {
        "id": "qFmdyt_zWAZZ"
      },
      "source": [
        "# Funciones"
      ]
    },
    {
      "cell_type": "code",
      "metadata": {
        "id": "BZ3FciZ7WAZa"
      },
      "source": [
        "def contar_galaxias(data):\n",
        "    galaxias_irregulares = data[data.clase == \"I\"]\n",
        "    galaxias_espirales = data[data.clase == \"S\"]\n",
        "    galaxias_elipticas = data[data.clase == \"E\"]\n",
        "    len_galaxias_irregulares = len(galaxias_irregulares.clase)\n",
        "    len_galaxias_espirales = len(galaxias_espirales.clase)\n",
        "    len_galaxias_elipticas = len(galaxias_elipticas.clase)\n",
        "    print(\"\\nGALAXIAS IRREGULARES\")\n",
        "    print(\"Cantidad: \" + str(len_galaxias_irregulares))\n",
        "    prob_irregulares = probabilidad_galaxia(data,'irregular')\n",
        "    print(\"Probabilidad: \" + str(prob_irregulares) + \" %\")\n",
        "    print(\"\\nGALAXIAS ESPIRALES\")\n",
        "    print(\"Cantidad: \" + str(len_galaxias_espirales))\n",
        "    prob_espirales = probabilidad_galaxia(data,'espiral')\n",
        "    print(\"Probabilidad: \" + str(prob_espirales) + \" %\")\n",
        "    print(\"\\nGALAXIAS ELÍPTICAS\")\n",
        "    print(\"Cantidad: \" + str(len_galaxias_elipticas))\n",
        "    prob_elipticas = probabilidad_galaxia(data,'eliptica')\n",
        "    print(\"Probabilidad: \" + str(prob_elipticas) + \" %\")\n",
        "    print(\"\\nCantidad total de galaxias: \" + str(len_galaxias_irregulares+len_galaxias_espirales+len_galaxias_elipticas))"
      ],
      "execution_count": null,
      "outputs": []
    },
    {
      "cell_type": "code",
      "metadata": {
        "id": "4F9gt_TgWAZb"
      },
      "source": [
        "def probabilidad_galaxia(data,tipo_galaxia):\n",
        "    df_tipo_galaxia = data[data[tipo_galaxia] == 1]\n",
        "    cantidad_tipo_galaxia = len(df_tipo_galaxia)\n",
        "    cantidad_total = len(data)\n",
        "    return (( cantidad_tipo_galaxia / cantidad_total ) * 100)"
      ],
      "execution_count": null,
      "outputs": []
    },
    {
      "cell_type": "markdown",
      "metadata": {
        "id": "qooiXUqsWAZc"
      },
      "source": [
        "# Clases"
      ]
    },
    {
      "cell_type": "markdown",
      "metadata": {
        "id": "tvRs1U-sWAZc"
      },
      "source": [
        "Defino una nueva columna de tipo categórico para concatenar la clase o tipo morfologíco de las galaxias."
      ]
    },
    {
      "cell_type": "code",
      "metadata": {
        "scrolled": false,
        "id": "p0JjVi2_WAZd",
        "outputId": "abe6b9f9-7921-4529-bb13-d20068211f53"
      },
      "source": [
        "clase=[]\n",
        "for i in range(0,data.shape[0]):\n",
        "    if data.eliptica[i]==1:\n",
        "        clase.append('E')\n",
        "    elif data.espiral[i]==1:\n",
        "        clase.append('S')\n",
        "    elif data.irregular[i]==1:\n",
        "        clase.append('I')\n",
        "data['clase']=clase\n",
        "data.head(5)"
      ],
      "execution_count": null,
      "outputs": [
        {
          "output_type": "execute_result",
          "data": {
            "text/html": [
              "<div>\n",
              "<style scoped>\n",
              "    .dataframe tbody tr th:only-of-type {\n",
              "        vertical-align: middle;\n",
              "    }\n",
              "\n",
              "    .dataframe tbody tr th {\n",
              "        vertical-align: top;\n",
              "    }\n",
              "\n",
              "    .dataframe thead th {\n",
              "        text-align: right;\n",
              "    }\n",
              "</style>\n",
              "<table border=\"1\" class=\"dataframe\">\n",
              "  <thead>\n",
              "    <tr style=\"text-align: right;\">\n",
              "      <th></th>\n",
              "      <th>ra</th>\n",
              "      <th>dec</th>\n",
              "      <th>Mag_u</th>\n",
              "      <th>Mag_g</th>\n",
              "      <th>Mag_r</th>\n",
              "      <th>Mag_i</th>\n",
              "      <th>Mag_z</th>\n",
              "      <th>R</th>\n",
              "      <th>z</th>\n",
              "      <th>color</th>\n",
              "      <th>eliptica</th>\n",
              "      <th>espiral</th>\n",
              "      <th>irregular</th>\n",
              "      <th>clase</th>\n",
              "    </tr>\n",
              "  </thead>\n",
              "  <tbody>\n",
              "    <tr>\n",
              "      <th>0</th>\n",
              "      <td>124.681690</td>\n",
              "      <td>51.782638</td>\n",
              "      <td>18.88496</td>\n",
              "      <td>17.75081</td>\n",
              "      <td>17.43881</td>\n",
              "      <td>17.23038</td>\n",
              "      <td>17.13276</td>\n",
              "      <td>6.112216</td>\n",
              "      <td>0.042512</td>\n",
              "      <td>-1.446144</td>\n",
              "      <td>0</td>\n",
              "      <td>0</td>\n",
              "      <td>1</td>\n",
              "      <td>I</td>\n",
              "    </tr>\n",
              "    <tr>\n",
              "      <th>1</th>\n",
              "      <td>128.676351</td>\n",
              "      <td>51.973910</td>\n",
              "      <td>20.20252</td>\n",
              "      <td>18.14648</td>\n",
              "      <td>17.51353</td>\n",
              "      <td>17.13207</td>\n",
              "      <td>16.83231</td>\n",
              "      <td>6.618816</td>\n",
              "      <td>0.049901</td>\n",
              "      <td>-2.688982</td>\n",
              "      <td>0</td>\n",
              "      <td>1</td>\n",
              "      <td>0</td>\n",
              "      <td>S</td>\n",
              "    </tr>\n",
              "    <tr>\n",
              "      <th>2</th>\n",
              "      <td>131.396389</td>\n",
              "      <td>53.550571</td>\n",
              "      <td>18.85028</td>\n",
              "      <td>17.48945</td>\n",
              "      <td>16.96463</td>\n",
              "      <td>16.68431</td>\n",
              "      <td>16.50479</td>\n",
              "      <td>10.350600</td>\n",
              "      <td>0.045041</td>\n",
              "      <td>-1.885653</td>\n",
              "      <td>0</td>\n",
              "      <td>1</td>\n",
              "      <td>0</td>\n",
              "      <td>S</td>\n",
              "    </tr>\n",
              "    <tr>\n",
              "      <th>3</th>\n",
              "      <td>129.384163</td>\n",
              "      <td>55.251341</td>\n",
              "      <td>19.29007</td>\n",
              "      <td>17.38153</td>\n",
              "      <td>16.52590</td>\n",
              "      <td>16.11502</td>\n",
              "      <td>15.78828</td>\n",
              "      <td>5.981402</td>\n",
              "      <td>0.045485</td>\n",
              "      <td>-2.764166</td>\n",
              "      <td>0</td>\n",
              "      <td>0</td>\n",
              "      <td>1</td>\n",
              "      <td>I</td>\n",
              "    </tr>\n",
              "    <tr>\n",
              "      <th>4</th>\n",
              "      <td>129.945145</td>\n",
              "      <td>55.628530</td>\n",
              "      <td>18.08747</td>\n",
              "      <td>16.73876</td>\n",
              "      <td>16.16752</td>\n",
              "      <td>15.83606</td>\n",
              "      <td>15.55770</td>\n",
              "      <td>8.978182</td>\n",
              "      <td>0.035336</td>\n",
              "      <td>-1.919950</td>\n",
              "      <td>0</td>\n",
              "      <td>1</td>\n",
              "      <td>0</td>\n",
              "      <td>S</td>\n",
              "    </tr>\n",
              "  </tbody>\n",
              "</table>\n",
              "</div>"
            ],
            "text/plain": [
              "           ra        dec     Mag_u     Mag_g     Mag_r     Mag_i     Mag_z  \\\n",
              "0  124.681690  51.782638  18.88496  17.75081  17.43881  17.23038  17.13276   \n",
              "1  128.676351  51.973910  20.20252  18.14648  17.51353  17.13207  16.83231   \n",
              "2  131.396389  53.550571  18.85028  17.48945  16.96463  16.68431  16.50479   \n",
              "3  129.384163  55.251341  19.29007  17.38153  16.52590  16.11502  15.78828   \n",
              "4  129.945145  55.628530  18.08747  16.73876  16.16752  15.83606  15.55770   \n",
              "\n",
              "           R         z     color  eliptica  espiral  irregular clase  \n",
              "0   6.112216  0.042512 -1.446144         0        0          1     I  \n",
              "1   6.618816  0.049901 -2.688982         0        1          0     S  \n",
              "2  10.350600  0.045041 -1.885653         0        1          0     S  \n",
              "3   5.981402  0.045485 -2.764166         0        0          1     I  \n",
              "4   8.978182  0.035336 -1.919950         0        1          0     S  "
            ]
          },
          "metadata": {
            "tags": []
          },
          "execution_count": 6
        }
      ]
    },
    {
      "cell_type": "markdown",
      "metadata": {
        "id": "Alw63Y0sWAZe"
      },
      "source": [
        "# Visualización"
      ]
    },
    {
      "cell_type": "markdown",
      "metadata": {
        "id": "AUvqAUbzWAZe"
      },
      "source": [
        "Encuentre una forma adecuada para exhibir el balance de las clase eliptica (E), espiral (S) e irregular (I) usando la nueva columna clase."
      ]
    },
    {
      "cell_type": "code",
      "metadata": {
        "id": "o7kgjPN7WAZf",
        "outputId": "b6cd2c93-7934-4c37-bd96-73ab859af3d6"
      },
      "source": [
        "plt.rcParams[\"figure.figsize\"] = [8, 5]\n",
        "plt.rcParams[\"figure.autolayout\"] = True\n",
        "#seaborn.set_theme(style=\"darkgrid\")\n",
        "seaborn.countplot(x=\"clase\", data=data)\n",
        "plt.title(\"Cantidad de cada tipo de galaxia\")\n",
        "plt.xlabel(\"Clases de galaxias\")\n",
        "plt.ylabel(\"Cantidad de galaxias\")\n",
        "plt.show()"
      ],
      "execution_count": null,
      "outputs": [
        {
          "output_type": "display_data",
          "data": {
            "image/png": "[encoded data removed]",
            "text/plain": [
              "<Figure size 576x360 with 1 Axes>"
            ]
          },
          "metadata": {
            "tags": [],
            "needs_background": "light"
          }
        }
      ]
    },
    {
      "cell_type": "markdown",
      "metadata": {
        "id": "4YlIR2g0WAZg"
      },
      "source": [
        "Use histogramas y boxplots para visualizar intervalos de confianza, mediana, media, intercuartiles y *outliers* de la posición **z** y del tamaño **R** para algun tipo morfologíco."
      ]
    },
    {
      "cell_type": "markdown",
      "metadata": {
        "id": "cZpuZaF6WAZh"
      },
      "source": [
        "### Análisis variable z"
      ]
    },
    {
      "cell_type": "code",
      "metadata": {
        "scrolled": true,
        "id": "-iS2bnBNWAZh",
        "outputId": "3b9f47b9-abfb-40e6-9cac-49b3f750def3"
      },
      "source": [
        "plt.rcParams[\"figure.figsize\"] = [10, 3]\n",
        "plt.rcParams[\"figure.autolayout\"] = True\n",
        "seaborn.boxplot(data=data, x=\"z\")\n",
        "plt.title(\"Boxplot de z sobre todas las galaxias\")\n",
        "plt.xlabel(\"Distancia hasta la galaxia (z)\")\n",
        "plt.show()"
      ],
      "execution_count": null,
      "outputs": [
        {
          "output_type": "display_data",
          "data": {
            "image/png": "[encoded data removed]",
            "text/plain": [
              "<Figure size 720x216 with 1 Axes>"
            ]
          },
          "metadata": {
            "tags": [],
            "needs_background": "light"
          }
        }
      ]
    },
    {
      "cell_type": "code",
      "metadata": {
        "id": "xFOqqoDQWAZi",
        "outputId": "99c36d7a-bf20-4304-99a9-929735ab8064"
      },
      "source": [
        "seaborn.boxplot(data=data, x=\"z\", y=\"clase\")\n",
        "plt.title(\"Boxplot sobre z de cada tipo de galaxia\")\n",
        "plt.xlabel(\"Distancia hasta la galaxia (z)\")\n",
        "plt.ylabel(\"Clases de galaxias\")\n",
        "plt.show()"
      ],
      "execution_count": null,
      "outputs": [
        {
          "output_type": "display_data",
          "data": {
            "image/png": "[encoded data removed]",
            "text/plain": [
              "<Figure size 720x216 with 1 Axes>"
            ]
          },
          "metadata": {
            "tags": [],
            "needs_background": "light"
          }
        }
      ]
    },
    {
      "cell_type": "code",
      "metadata": {
        "id": "wXLsrcqvWAZj",
        "outputId": "c774b49f-d147-4e3e-8a41-e4e7f3bc8fa9"
      },
      "source": [
        "fig, ax = plt.subplots(ncols=3, figsize=(12,3))\n",
        "print(\"Histogramas de cada galaxia sobre la variable z\")\n",
        "seaborn.histplot(data=data[data.clase == \"I\"]['z'], ax=ax[0])\n",
        "seaborn.histplot(data=data[data.clase == \"S\"]['z'], ax=ax[1])\n",
        "seaborn.histplot(data=data[data.clase == \"E\"]['z'], ax=ax[2])\n",
        "plt.show()"
      ],
      "execution_count": null,
      "outputs": [
        {
          "output_type": "stream",
          "text": [
            "Histogramas de cada galaxia sobre la variable z\n"
          ],
          "name": "stdout"
        },
        {
          "output_type": "display_data",
          "data": {
            "image/png": "[encoded data removed]",
            "text/plain": [
              "<Figure size 864x216 with 3 Axes>"
            ]
          },
          "metadata": {
            "tags": [],
            "needs_background": "light"
          }
        }
      ]
    },
    {
      "cell_type": "code",
      "metadata": {
        "scrolled": true,
        "id": "-V8HKiBZWAZk",
        "outputId": "0f11d68f-1547-4442-a378-a2aa44bf81ab"
      },
      "source": [
        "plt.rcParams[\"figure.figsize\"] = [12, 4]\n",
        "plt.rcParams[\"figure.autolayout\"] = True\n",
        "ax = seaborn.histplot(data=data[['z','clase']], kde=True, x=\"z\", hue=\"clase\")\n",
        "plt.axvline(data[data.clase == \"I\"].z.median(), color='green', linestyle='solid', label='Mediana Galaxias Irregular')\n",
        "plt.axvline(data[data.clase == \"S\"].z.median(), color='black', linestyle='solid', label='Mediana Galaxias Espiral')\n",
        "plt.axvline(data[data.clase == \"E\"].z.median(), color='orange', linestyle='solid', label='Mediana Galaxia Elíptica')\n",
        "plt.title(\"Histograma de la distancia de las galaxias separado por clases, indicando la media de cada clase\")\n",
        "plt.legend()\n",
        "plt.show()"
      ],
      "execution_count": null,
      "outputs": [
        {
          "output_type": "display_data",
          "data": {
            "image/png": "[encoded data removed]",
            "text/plain": [
              "<Figure size 864x288 with 1 Axes>"
            ]
          },
          "metadata": {
            "tags": [],
            "needs_background": "light"
          }
        }
      ]
    },
    {
      "cell_type": "markdown",
      "metadata": {
        "id": "3IJvsygWWAZm"
      },
      "source": [
        "##### Conclusión\n",
        "La variable z no se encuentra muy dispersa, la mediana y la media de cada tipo de galaxia respecto a z son similares."
      ]
    },
    {
      "cell_type": "markdown",
      "metadata": {
        "id": "u0rrhQUaWAZn"
      },
      "source": [
        "### Análisis variable R"
      ]
    },
    {
      "cell_type": "code",
      "metadata": {
        "id": "veqgaZBOWAZn",
        "outputId": "a0da2fca-f11c-4644-c7e9-0e364e9db4b5"
      },
      "source": [
        "plt.rcParams[\"figure.figsize\"] = [10, 3]\n",
        "plt.rcParams[\"figure.autolayout\"] = True\n",
        "seaborn.boxplot(data=data, x=\"R\")\n",
        "plt.title(\"Boxplot del tamaño de las galaxias\")\n",
        "plt.xlabel(\"Tamaño de las galaxias (R)\")\n",
        "plt.show()"
      ],
      "execution_count": null,
      "outputs": [
        {
          "output_type": "display_data",
          "data": {
            "image/png": "[encoded data removed]",
            "text/plain": [
              "<Figure size 720x216 with 1 Axes>"
            ]
          },
          "metadata": {
            "tags": [],
            "needs_background": "light"
          }
        }
      ]
    },
    {
      "cell_type": "code",
      "metadata": {
        "scrolled": true,
        "id": "3zjY-4HmWAZo",
        "outputId": "9e7689dd-24c9-4f86-a71c-3fcda244ae38"
      },
      "source": [
        "seaborn.boxplot(data=data, x=\"R\", y=\"clase\")\n",
        "plt.title(\"Boxplot sobre R de cada tipo de galaxia\")\n",
        "plt.xlabel(\"Tamaño de las galaxias (R)\")\n",
        "plt.ylabel(\"Clases de galaxias\")\n",
        "plt.show()"
      ],
      "execution_count": null,
      "outputs": [
        {
          "output_type": "display_data",
          "data": {
            "image/png": "[encoded data removed]",
            "text/plain": [
              "<Figure size 720x216 with 1 Axes>"
            ]
          },
          "metadata": {
            "tags": [],
            "needs_background": "light"
          }
        }
      ]
    },
    {
      "cell_type": "code",
      "metadata": {
        "scrolled": true,
        "id": "1y9fHnchWAZp",
        "outputId": "4d67edd4-64c5-4e5c-bd73-d424280572c5"
      },
      "source": [
        "fig, ax = plt.subplots(ncols=3, figsize=(12,3), sharex='col')\n",
        "print(\"Histogramas de cada galaxia sobre la variable R\")\n",
        "seaborn.histplot(data=data[data.clase == \"I\"]['R'], ax=ax[0])\n",
        "seaborn.histplot(data=data[data.clase == \"S\"]['R'], ax=ax[1])\n",
        "seaborn.histplot(data=data[data.clase == \"E\"]['R'], ax=ax[2])\n",
        "\n",
        "plt.show()"
      ],
      "execution_count": null,
      "outputs": [
        {
          "output_type": "stream",
          "text": [
            "Histogramas de cada galaxia sobre la variable R\n"
          ],
          "name": "stdout"
        },
        {
          "output_type": "display_data",
          "data": {
            "image/png": "[encoded data removed]",
            "text/plain": [
              "<Figure size 864x216 with 3 Axes>"
            ]
          },
          "metadata": {
            "tags": [],
            "needs_background": "light"
          }
        }
      ]
    },
    {
      "cell_type": "markdown",
      "metadata": {
        "id": "lcb1K8YGWAZq"
      },
      "source": [
        "##### Conclusión\n",
        "La variable R tiene valores extremos."
      ]
    },
    {
      "cell_type": "markdown",
      "metadata": {
        "id": "TgMbvj5QWAZs"
      },
      "source": [
        "Mostrar si los valores de las medianas de las distribuciones de z para cada clase (E,S e I) son estadśticamente diferentes."
      ]
    },
    {
      "cell_type": "code",
      "metadata": {
        "id": "6x9gKi-OWAZt",
        "outputId": "6bd2a22b-6ee9-4f27-8669-cf9732bb8be3"
      },
      "source": [
        "print(\"MEDIANA GALAXIAS IRREGULAR: \" + str(data[data.clase == \"I\"].z.median()))\n",
        "print(\"MEDIANA GALAXIAS ESPIRAL: \" + str(data[data.clase == \"S\"].z.median()))\n",
        "print(\"MEDIANA GALAXIAS ELÍPTICA: \" + str(data[data.clase == \"E\"].z.median()))"
      ],
      "execution_count": null,
      "outputs": [
        {
          "output_type": "stream",
          "text": [
            "MEDIANA GALAXIAS IRREGULAR: 0.03651552\n",
            "MEDIANA GALAXIAS ESPIRAL: 0.03624282\n",
            "MEDIANA GALAXIAS ELÍPTICA: 0.0353871\n"
          ],
          "name": "stdout"
        }
      ]
    },
    {
      "cell_type": "markdown",
      "metadata": {
        "id": "l4hdb4_cWAZu"
      },
      "source": [
        "#Test de hipotesis\n",
        "#Articulo: https://ichi.pro/es/pruebas-estadisticas-parametricas-vs-no-parametricas-en-python-172050829186378\n",
        "#Si la mediana del grupo es la medida preferida de tendencia central para los datos, opte por pruebas no \n",
        "#paramétricas independientemente del tamaño de la muestra.\n",
        "\n",
        "\n"
      ]
    },
    {
      "cell_type": "markdown",
      "metadata": {
        "id": "QUd6MX5TWAZv"
      },
      "source": [
        "Se utiliza una prueba de Kruskal-Wallis para determinar si existe o no una diferencia estadísticamente significativa entre las medianas de tres o más grupos independientes. Se considera el equivalente no paramétrico del ANOVA de una vía .\n",
        "La prueba de Kruskal-Wallis utiliza las siguientes hipótesis nulas y alternativas:\n",
        "\n",
        "La hipótesis nula (H 0 ): la mediana es igual en todos los grupos.\n",
        "\n",
        "La hipótesis alternativa: (Ha): la mediana no es igual en todos los grupos."
      ]
    },
    {
      "cell_type": "code",
      "metadata": {
        "id": "IdQXCM56WAZv",
        "outputId": "b388f6cb-478d-4a38-fa6a-9411e0d5c412"
      },
      "source": [
        "data.columns"
      ],
      "execution_count": null,
      "outputs": [
        {
          "output_type": "execute_result",
          "data": {
            "text/plain": [
              "Index(['ra', 'dec', 'Mag_u', 'Mag_g', 'Mag_r', 'Mag_i', 'Mag_z', 'R', 'z',\n",
              "       'color', 'eliptica', 'espiral', 'irregular', 'clase'],\n",
              "      dtype='object')"
            ]
          },
          "metadata": {
            "tags": []
          },
          "execution_count": 16
        }
      ]
    },
    {
      "cell_type": "code",
      "metadata": {
        "id": "PYdrQ0aIWAZw",
        "outputId": "f6f88e4a-4399-4058-fb8f-6698774f71b4"
      },
      "source": [
        "sp.stats.kruskal(data['eliptica'], data['espiral'], data['irregular'])"
      ],
      "execution_count": null,
      "outputs": [
        {
          "output_type": "execute_result",
          "data": {
            "text/plain": [
              "KruskalResult(statistic=50699.68123433925, pvalue=0.0)"
            ]
          },
          "metadata": {
            "tags": []
          },
          "execution_count": 17
        }
      ]
    },
    {
      "cell_type": "markdown",
      "metadata": {
        "id": "r2PFkR2oWAZx"
      },
      "source": [
        "El valor p es muy pequeño"
      ]
    },
    {
      "cell_type": "markdown",
      "metadata": {
        "id": "JoQvg7zpWAZx"
      },
      "source": [
        "# Valores característicos "
      ]
    },
    {
      "cell_type": "code",
      "metadata": {
        "id": "6-FnzF1nWAZy"
      },
      "source": [
        ""
      ],
      "execution_count": null,
      "outputs": []
    },
    {
      "cell_type": "markdown",
      "metadata": {
        "id": "ZbqDj9gRWAZy"
      },
      "source": [
        "Mostrar los valores explícitos característicos de la distribución **z** de las galaxias elípticas, espirales, irregulares."
      ]
    },
    {
      "cell_type": "code",
      "metadata": {
        "id": "16v-T96vWAZz",
        "outputId": "00240239-9309-4b47-e509-924afc11c729"
      },
      "source": [
        "data.groupby('clase').z.describe()"
      ],
      "execution_count": null,
      "outputs": [
        {
          "output_type": "execute_result",
          "data": {
            "text/html": [
              "<div>\n",
              "<style scoped>\n",
              "    .dataframe tbody tr th:only-of-type {\n",
              "        vertical-align: middle;\n",
              "    }\n",
              "\n",
              "    .dataframe tbody tr th {\n",
              "        vertical-align: top;\n",
              "    }\n",
              "\n",
              "    .dataframe thead th {\n",
              "        text-align: right;\n",
              "    }\n",
              "</style>\n",
              "<table border=\"1\" class=\"dataframe\">\n",
              "  <thead>\n",
              "    <tr style=\"text-align: right;\">\n",
              "      <th></th>\n",
              "      <th>count</th>\n",
              "      <th>mean</th>\n",
              "      <th>std</th>\n",
              "      <th>min</th>\n",
              "      <th>25%</th>\n",
              "      <th>50%</th>\n",
              "      <th>75%</th>\n",
              "      <th>max</th>\n",
              "    </tr>\n",
              "    <tr>\n",
              "      <th>clase</th>\n",
              "      <th></th>\n",
              "      <th></th>\n",
              "      <th></th>\n",
              "      <th></th>\n",
              "      <th></th>\n",
              "      <th></th>\n",
              "      <th></th>\n",
              "      <th></th>\n",
              "    </tr>\n",
              "  </thead>\n",
              "  <tbody>\n",
              "    <tr>\n",
              "      <th>E</th>\n",
              "      <td>8257.0</td>\n",
              "      <td>0.035441</td>\n",
              "      <td>0.008377</td>\n",
              "      <td>0.020001</td>\n",
              "      <td>0.028338</td>\n",
              "      <td>0.035387</td>\n",
              "      <td>0.042901</td>\n",
              "      <td>0.049999</td>\n",
              "    </tr>\n",
              "    <tr>\n",
              "      <th>I</th>\n",
              "      <td>53799.0</td>\n",
              "      <td>0.036198</td>\n",
              "      <td>0.008473</td>\n",
              "      <td>0.020002</td>\n",
              "      <td>0.029136</td>\n",
              "      <td>0.036516</td>\n",
              "      <td>0.043803</td>\n",
              "      <td>0.050000</td>\n",
              "    </tr>\n",
              "    <tr>\n",
              "      <th>S</th>\n",
              "      <td>30046.0</td>\n",
              "      <td>0.036080</td>\n",
              "      <td>0.008375</td>\n",
              "      <td>0.020001</td>\n",
              "      <td>0.029204</td>\n",
              "      <td>0.036243</td>\n",
              "      <td>0.043443</td>\n",
              "      <td>0.049999</td>\n",
              "    </tr>\n",
              "  </tbody>\n",
              "</table>\n",
              "</div>"
            ],
            "text/plain": [
              "         count      mean       std       min       25%       50%       75%  \\\n",
              "clase                                                                        \n",
              "E       8257.0  0.035441  0.008377  0.020001  0.028338  0.035387  0.042901   \n",
              "I      53799.0  0.036198  0.008473  0.020002  0.029136  0.036516  0.043803   \n",
              "S      30046.0  0.036080  0.008375  0.020001  0.029204  0.036243  0.043443   \n",
              "\n",
              "            max  \n",
              "clase            \n",
              "E      0.049999  \n",
              "I      0.050000  \n",
              "S      0.049999  "
            ]
          },
          "metadata": {
            "tags": []
          },
          "execution_count": 18
        }
      ]
    },
    {
      "cell_type": "markdown",
      "metadata": {
        "id": "F7RuqXRYWAZ0"
      },
      "source": [
        "# Distribución Normal"
      ]
    },
    {
      "cell_type": "markdown",
      "metadata": {
        "id": "rBtdsBnsWAZ0"
      },
      "source": [
        "- Grafique la distribución Normal variando sus estadísticos. Realice una breve descripción de los cambios que nota en estos."
      ]
    },
    {
      "cell_type": "code",
      "metadata": {
        "id": "dyE8x3dHWAZ1"
      },
      "source": [
        "def clean_outliers_sd(dataset, column_name):\n",
        "    interesting_col = dataset[column_name]\n",
        "    mask_outlier = (np.abs(interesting_col - interesting_col.mean()) <= (2.5 * interesting_col.std()))\n",
        "    return dataset[mask_outlier]\n",
        "\n",
        "def clean_outliers_q3(dataset, column_name):\n",
        "    interesting_col = dataset[column_name]\n",
        "    mask_outlier = (interesting_col <= (2.5 * interesting_col.quantile(.75)))\n",
        "    return dataset[mask_outlier]\n",
        "\n",
        "def remove_outlier(df_in, col_name, iqr_factor):\n",
        "    \"\"\"\n",
        "    IQR outliers removal (https://machinelearningmastery.com/how-to-use-statistics-to-identify-outliers-in-data/)\n",
        "    accept a dataframe, remove outliers, return cleaned data in a new dataframe\n",
        "    see http://www.itl.nist.gov/div898/handbook/prc/section1/prc16.htm\n",
        "    \"\"\"\n",
        "    q1 = df_in[col_name].quantile(0.25)\n",
        "    q3 = df_in[col_name].quantile(0.75)\n",
        "    iqr = q3 - q1  # interquartile range\n",
        "    fence_low = q1 - iqr_factor * iqr\n",
        "    fence_high = q3 + iqr_factor * iqr\n",
        "    df_inliers = df_in.loc[\n",
        "        (df_in[col_name] > fence_low) & (df_in[col_name] < fence_high)\n",
        "    ]\n",
        "    df_outliers = df_in.loc[\n",
        "        (df_in[col_name] < fence_low) | (df_in[col_name] > fence_high)\n",
        "    ]\n",
        "    return df_inliers, df_outliers\n",
        "\n",
        "def calcular_estadistico(data,column):\n",
        "    return ((data[column] - data[column].mean()) / (data[column].std() / np.square(len(data[column]))))"
      ],
      "execution_count": null,
      "outputs": []
    },
    {
      "cell_type": "markdown",
      "metadata": {
        "id": "r5vhEwbgWAZ2"
      },
      "source": [
        "### Análisis variable R"
      ]
    },
    {
      "cell_type": "code",
      "metadata": {
        "id": "Ed50muKoWAZ3"
      },
      "source": [
        "data_inliers_R, data_outliers_R = remove_outlier(data,'R',2.5)"
      ],
      "execution_count": null,
      "outputs": []
    },
    {
      "cell_type": "code",
      "metadata": {
        "id": "LxPQrVegWAZ3",
        "outputId": "c86af6a7-301a-4d1f-9d1c-f957720be1fd"
      },
      "source": [
        "sp.stats.mode(data_inliers_R.R)"
      ],
      "execution_count": null,
      "outputs": [
        {
          "output_type": "execute_result",
          "data": {
            "text/plain": [
              "ModeResult(mode=array([10.49015]), count=array([20]))"
            ]
          },
          "metadata": {
            "tags": []
          },
          "execution_count": 21
        }
      ]
    },
    {
      "cell_type": "code",
      "metadata": {
        "id": "jTTUCHtpWAZ4",
        "outputId": "61aa2cc2-3d43-40df-b52e-c12cbf029e66"
      },
      "source": [
        "mediana = np.median(data_inliers_R.R)\n",
        "percentil_50 = np.percentile(data_inliers_R.R,50)\n",
        "print(f\"La mediana: {mediana}\\nEl percentil 50: {percentil_50}\")"
      ],
      "execution_count": null,
      "outputs": [
        {
          "output_type": "stream",
          "text": [
            "La mediana: 8.2745285\n",
            "El percentil 50: 8.2745285\n"
          ],
          "name": "stdout"
        }
      ]
    },
    {
      "cell_type": "code",
      "metadata": {
        "id": "TBcgq7a5WAZ4",
        "outputId": "303e95dc-614e-413d-e765-95cc375a005f"
      },
      "source": [
        "print(\"Percentil 75 = \" + str(np.percentile(data_inliers_R.R,75)))\n",
        "print(\"Percentil 90 = \" + str(np.percentile(data_inliers_R.R,90)))\n",
        "print(\"Percentil 95 = \" + str(np.percentile(data_inliers_R.R,95)))\n",
        "print(\"El 95% de la muestra equivale a un R de 17.329334999999997\")\n",
        "print(\"El 50% de la muestra equivale a un R de 8.2745285. El 75% y el 90% se representan en 11.1509025 y 14.70774\")"
      ],
      "execution_count": null,
      "outputs": [
        {
          "output_type": "stream",
          "text": [
            "Percentil 75 = 11.1509025\n",
            "Percentil 90 = 14.70774\n",
            "Percentil 95 = 17.329334999999997\n",
            "El 95% de la muestra equivale a un R de 17.329334999999997\n",
            "El 50% de la muestra equivale a un R de 8.2745285. El 75% y el 90% se representan en 11.1509025 y 14.70774\n"
          ],
          "name": "stdout"
        }
      ]
    },
    {
      "cell_type": "code",
      "metadata": {
        "scrolled": true,
        "id": "pttbFHtQWAZ5",
        "outputId": "699829fe-1517-4922-8c46-fbcc9d579881"
      },
      "source": [
        "varianza = np.var(data_inliers_R.R)\n",
        "print(f\"La varianza es {varianza}\")"
      ],
      "execution_count": null,
      "outputs": [
        {
          "output_type": "stream",
          "text": [
            "La varianza es 16.81309521180666\n"
          ],
          "name": "stdout"
        }
      ]
    },
    {
      "cell_type": "code",
      "metadata": {
        "scrolled": true,
        "id": "aAAXIcePWAZ6",
        "outputId": "071d38ec-d58f-4b8a-d694-849a7dad342a"
      },
      "source": [
        "\"Desvío Estándar\", np.std(data_inliers_R.R)"
      ],
      "execution_count": null,
      "outputs": [
        {
          "output_type": "execute_result",
          "data": {
            "text/plain": [
              "('Desvío Estándar', 4.100377447480495)"
            ]
          },
          "metadata": {
            "tags": []
          },
          "execution_count": 25
        }
      ]
    },
    {
      "cell_type": "code",
      "metadata": {
        "id": "NS0B3sOOWAZ6",
        "outputId": "77352b42-d534-42ad-fb5b-58de2972e6ca"
      },
      "source": [
        "print(\"El R tiene un valor promedio de \" + str(np.mean(data_inliers_R.R)) + \" con una varianza de \" + str(np.var(data_inliers_R.R)))"
      ],
      "execution_count": null,
      "outputs": [
        {
          "output_type": "stream",
          "text": [
            "El R tiene un valor promedio de 9.069292574156497 con una varianza de 16.81309521180666\n"
          ],
          "name": "stdout"
        }
      ]
    },
    {
      "cell_type": "code",
      "metadata": {
        "id": "i6J1nT4XWAZ7",
        "outputId": "fa193eb2-0a1e-45a5-a2ed-92d1938ee26b"
      },
      "source": [
        "\"Rango\", np.ptp(data_inliers_R.R)"
      ],
      "execution_count": null,
      "outputs": [
        {
          "output_type": "execute_result",
          "data": {
            "text/plain": [
              "('Rango', 23.5707816)"
            ]
          },
          "metadata": {
            "tags": []
          },
          "execution_count": 27
        }
      ]
    },
    {
      "cell_type": "code",
      "metadata": {
        "scrolled": true,
        "id": "NUc33IeaWAZ7",
        "outputId": "c5ada7ab-585f-499c-bb0c-5d351f5e677c"
      },
      "source": [
        "plt.rcParams[\"figure.figsize\"] = [10, 3]\n",
        "plt.rcParams[\"figure.autolayout\"] = True\n",
        "ax = seaborn.boxplot(data=data_inliers_R, x=\"R\")\n",
        "plt.title(\"Boxplot del tamaño sobre los inliers de R de las galaxias\")\n",
        "plt.show()"
      ],
      "execution_count": null,
      "outputs": [
        {
          "output_type": "display_data",
          "data": {
            "image/png": "[encoded data removed]",
            "text/plain": [
              "<Figure size 720x216 with 1 Axes>"
            ]
          },
          "metadata": {
            "tags": [],
            "needs_background": "light"
          }
        }
      ]
    },
    {
      "cell_type": "code",
      "metadata": {
        "id": "h1bcuxpjWAZ8",
        "outputId": "a75ba271-86b5-497c-b4e7-98458c08338e"
      },
      "source": [
        "plt.rcParams[\"figure.figsize\"] = [10, 3]\n",
        "plt.rcParams[\"figure.autolayout\"] = True\n",
        "ax = seaborn.displot(data=data_inliers_R, x=\"R\")\n",
        "plt.title(\"Boxplot del tamaño sobre los outliers de R de las galaxias\")\n",
        "plt.show()"
      ],
      "execution_count": null,
      "outputs": [
        {
          "output_type": "display_data",
          "data": {
            "image/png": "[encoded data removed]",
            "text/plain": [
              "<Figure size 360x360 with 1 Axes>"
            ]
          },
          "metadata": {
            "tags": [],
            "needs_background": "light"
          }
        }
      ]
    },
    {
      "cell_type": "code",
      "metadata": {
        "scrolled": true,
        "id": "C4YzCt4jWAZ9",
        "outputId": "b37122d5-b147-458b-ceb5-7c1397085004"
      },
      "source": [
        "seaborn.boxplot(data=data_inliers_R, x=\"R\", y=\"clase\")\n",
        "plt.title(\"Boxplot sobre los inliers de R de cada tipo de galaxia\")\n",
        "plt.ylabel(\"Clases de galaxias\")\n",
        "plt.show()"
      ],
      "execution_count": null,
      "outputs": [
        {
          "output_type": "display_data",
          "data": {
            "image/png": "[encoded data removed]",
            "text/plain": [
              "<Figure size 720x216 with 1 Axes>"
            ]
          },
          "metadata": {
            "tags": [],
            "needs_background": "light"
          }
        }
      ]
    },
    {
      "cell_type": "code",
      "metadata": {
        "id": "MzcST1ZjWAZ-",
        "outputId": "cdc2a430-d2b5-4aec-87b4-9d392a843c74"
      },
      "source": [
        "plt.rcParams[\"figure.figsize\"] = [10, 4]\n",
        "plt.rcParams[\"figure.autolayout\"] = True\n",
        "ax = seaborn.histplot(data=data_inliers_R[['R','clase']], kde=True, x=\"R\", hue=\"clase\", stat=\"probability\")\n",
        "plt.axvline(data_inliers_R[data_inliers_R.clase == \"I\"].R.median(), color='green', linestyle='solid', label='Mediana Galaxias Irregular')\n",
        "plt.axvline(data_inliers_R[data_inliers_R.clase == \"I\"].R.mean(), color='green', linestyle='dashed', label='Media Galaxias Irregular')\n",
        "plt.axvline(data_inliers_R[data_inliers_R.clase == \"S\"].R.median(), color='black', linestyle='solid', label='Mediana Galaxias Espiral')\n",
        "plt.axvline(data_inliers_R[data_inliers_R.clase == \"S\"].R.mean(), color='black', linestyle='dashed', label='Media Galaxias Espiral')\n",
        "plt.axvline(data_inliers_R[data_inliers_R.clase == \"E\"].R.median(), color='orange', linestyle='solid', label='Mediana Galaxia Elíptica')\n",
        "plt.axvline(data_inliers_R[data_inliers_R.clase == \"E\"].R.mean(), color='orange', linestyle='dashed', label='Media Galaxia Elíptica')\n",
        "plt.title(\"Histograma del tamaño de las galaxias separado por clases y la media de cada clase\")\n",
        "plt.legend()\n",
        "plt.show()"
      ],
      "execution_count": null,
      "outputs": [
        {
          "output_type": "display_data",
          "data": {
            "image/png": "[encoded data removed]",
            "text/plain": [
              "<Figure size 720x288 with 1 Axes>"
            ]
          },
          "metadata": {
            "tags": [],
            "needs_background": "light"
          }
        }
      ]
    },
    {
      "cell_type": "markdown",
      "metadata": {
        "id": "00a4EjiEWAZ_"
      },
      "source": [
        "Algunos valores físicos de las galaxias no pueden ser determinados. Muchas veces la alternativa al usual *NaN* es llenar la celda del valor faltante con cero o con números de valor muy grande o muy chico discordantes a los valores usuales que toma la cantidad física. \n",
        "\n",
        "Se puede optar por ignorar dicho número o remplazarlo por cero, el valor medio o eliminarlo en el caso que el dataset sea de una gran dimensión."
      ]
    },
    {
      "cell_type": "markdown",
      "metadata": {
        "id": "KcNT2oX1WAZ_"
      },
      "source": [
        "El caso anteriormente se observa con la variable *color* donde dos de las galaxias no tienen su color determinado. \n",
        "\n",
        "- Dele solución \n",
        "- Ajuste la distribución de la variable **color** con el tamaño del bin=0.1 a una Normal usando *sns.distplot* \n",
        "- Explique que observa"
      ]
    },
    {
      "cell_type": "code",
      "metadata": {
        "id": "xwH7kJqFWAaA",
        "outputId": "c144744b-8132-4f39-f2ae-23e543766b5c"
      },
      "source": [
        "data.color.describe()"
      ],
      "execution_count": null,
      "outputs": [
        {
          "output_type": "execute_result",
          "data": {
            "text/plain": [
              "count    92102.000000\n",
              "mean        -1.830732\n",
              "std         46.686363\n",
              "min        -13.484570\n",
              "25%         -2.510555\n",
              "50%         -1.994779\n",
              "75%         -1.606971\n",
              "max      10015.860000\n",
              "Name: color, dtype: float64"
            ]
          },
          "metadata": {
            "tags": []
          },
          "execution_count": 32
        }
      ]
    },
    {
      "cell_type": "code",
      "metadata": {
        "id": "DJIhNqTNWAaA"
      },
      "source": [
        "data_color_filtered = data[data.color < data.color.max()]"
      ],
      "execution_count": null,
      "outputs": []
    },
    {
      "cell_type": "code",
      "metadata": {
        "id": "RKZ1XyJ5WAaB",
        "outputId": "70136a99-1427-4d7f-c539-ff5dd77b6d49"
      },
      "source": [
        "seaborn.boxplot(x=data_color_filtered.color)"
      ],
      "execution_count": null,
      "outputs": [
        {
          "output_type": "execute_result",
          "data": {
            "text/plain": [
              "<AxesSubplot:xlabel='color'>"
            ]
          },
          "metadata": {
            "tags": []
          },
          "execution_count": 34
        },
        {
          "output_type": "display_data",
          "data": {
            "image/png": "[encoded data removed]",
            "text/plain": [
              "<Figure size 720x288 with 1 Axes>"
            ]
          },
          "metadata": {
            "tags": [],
            "needs_background": "light"
          }
        }
      ]
    },
    {
      "cell_type": "code",
      "metadata": {
        "id": "m5lwrTxOWAaB"
      },
      "source": [
        "df_inliers_color, df_outliers_color = remove_outlier(data,'color',2.5)"
      ],
      "execution_count": null,
      "outputs": []
    },
    {
      "cell_type": "code",
      "metadata": {
        "scrolled": false,
        "id": "cS0rdtbyWAaB",
        "outputId": "a226a965-e029-40ef-be1f-e80ee9592dee"
      },
      "source": [
        "seaborn.histplot(x=df_inliers_color[df_inliers_color.clase == \"I\"].color)"
      ],
      "execution_count": null,
      "outputs": [
        {
          "output_type": "execute_result",
          "data": {
            "text/plain": [
              "<AxesSubplot:xlabel='color', ylabel='Count'>"
            ]
          },
          "metadata": {
            "tags": []
          },
          "execution_count": 43
        },
        {
          "output_type": "display_data",
          "data": {
            "image/png": "[encoded data removed]",
            "text/plain": [
              "<Figure size 720x288 with 1 Axes>"
            ]
          },
          "metadata": {
            "tags": [],
            "needs_background": "light"
          }
        }
      ]
    },
    {
      "cell_type": "code",
      "metadata": {
        "id": "Q-dEbsI4WAaC",
        "outputId": "4e581545-c668-4c0b-c323-55a758d91ad0"
      },
      "source": [
        "estadistico_color_irregular = calcular_estadistico(df_inliers_color[df_inliers_color.clase == \"I\"],'color')\n",
        "seaborn.histplot(data=estadistico_color_irregular)"
      ],
      "execution_count": null,
      "outputs": [
        {
          "output_type": "execute_result",
          "data": {
            "text/plain": [
              "<AxesSubplot:xlabel='color', ylabel='Count'>"
            ]
          },
          "metadata": {
            "tags": []
          },
          "execution_count": 44
        },
        {
          "output_type": "display_data",
          "data": {
            "image/png": "[encoded data removed]",
            "text/plain": [
              "<Figure size 720x288 with 1 Axes>"
            ]
          },
          "metadata": {
            "tags": [],
            "needs_background": "light"
          }
        }
      ]
    },
    {
      "cell_type": "code",
      "metadata": {
        "id": "E5xeUx8CWAaD",
        "outputId": "783fcc0e-1d5b-4fb2-d15e-320a0fc899a4"
      },
      "source": [
        "seaborn.distplot(estadistico_color_irregular, bins=50)"
      ],
      "execution_count": null,
      "outputs": [
        {
          "output_type": "stream",
          "text": [
            "C:\\Users\\Rafael\\anaconda3\\lib\\site-packages\\seaborn\\distributions.py:2557: FutureWarning: `distplot` is a deprecated function and will be removed in a future version. Please adapt your code to use either `displot` (a figure-level function with similar flexibility) or `histplot` (an axes-level function for histograms).\n",
            "  warnings.warn(msg, FutureWarning)\n"
          ],
          "name": "stderr"
        },
        {
          "output_type": "execute_result",
          "data": {
            "text/plain": [
              "<AxesSubplot:xlabel='color', ylabel='Density'>"
            ]
          },
          "metadata": {
            "tags": []
          },
          "execution_count": 45
        },
        {
          "output_type": "display_data",
          "data": {
            "image/png": "[encoded data removed]",
            "text/plain": [
              "<Figure size 720x288 with 1 Axes>"
            ]
          },
          "metadata": {
            "tags": [],
            "needs_background": "light"
          }
        }
      ]
    },
    {
      "cell_type": "code",
      "metadata": {
        "id": "1N5K4NcIWAaE",
        "outputId": "2ae88838-cf63-48f6-b3cd-80fb26db1321"
      },
      "source": [
        "seaborn.distplot(estadistico_color_irregular, bins=25)"
      ],
      "execution_count": null,
      "outputs": [
        {
          "output_type": "stream",
          "text": [
            "C:\\Users\\Rafael\\anaconda3\\lib\\site-packages\\seaborn\\distributions.py:2557: FutureWarning: `distplot` is a deprecated function and will be removed in a future version. Please adapt your code to use either `displot` (a figure-level function with similar flexibility) or `histplot` (an axes-level function for histograms).\n",
            "  warnings.warn(msg, FutureWarning)\n"
          ],
          "name": "stderr"
        },
        {
          "output_type": "execute_result",
          "data": {
            "text/plain": [
              "<AxesSubplot:xlabel='color', ylabel='Density'>"
            ]
          },
          "metadata": {
            "tags": []
          },
          "execution_count": 46
        },
        {
          "output_type": "display_data",
          "data": {
            "image/png": "[encoded data removed]",
            "text/plain": [
              "<Figure size 720x288 with 1 Axes>"
            ]
          },
          "metadata": {
            "tags": [],
            "needs_background": "light"
          }
        }
      ]
    },
    {
      "cell_type": "code",
      "metadata": {
        "id": "S6muzNKuWAaE",
        "outputId": "5c55c0e6-6d9f-4f07-eba3-5269a2ca9f4a"
      },
      "source": [
        "seaborn.distplot(estadistico_color_irregular, bins=5)"
      ],
      "execution_count": null,
      "outputs": [
        {
          "output_type": "stream",
          "text": [
            "C:\\Users\\Rafael\\anaconda3\\lib\\site-packages\\seaborn\\distributions.py:2557: FutureWarning: `distplot` is a deprecated function and will be removed in a future version. Please adapt your code to use either `displot` (a figure-level function with similar flexibility) or `histplot` (an axes-level function for histograms).\n",
            "  warnings.warn(msg, FutureWarning)\n"
          ],
          "name": "stderr"
        },
        {
          "output_type": "execute_result",
          "data": {
            "text/plain": [
              "<AxesSubplot:xlabel='color', ylabel='Density'>"
            ]
          },
          "metadata": {
            "tags": []
          },
          "execution_count": 47
        },
        {
          "output_type": "display_data",
          "data": {
            "image/png": "[encoded data removed]",
            "text/plain": [
              "<Figure size 720x288 with 1 Axes>"
            ]
          },
          "metadata": {
            "tags": [],
            "needs_background": "light"
          }
        }
      ]
    },
    {
      "cell_type": "code",
      "metadata": {
        "id": "sU2DggBzWAaF",
        "outputId": "79c2d73e-87bb-426f-f7c4-5728cdd4ff42"
      },
      "source": [
        "seaborn.distplot(estadistico_color_irregular, bins=1)"
      ],
      "execution_count": null,
      "outputs": [
        {
          "output_type": "stream",
          "text": [
            "C:\\Users\\Rafael\\anaconda3\\lib\\site-packages\\seaborn\\distributions.py:2557: FutureWarning: `distplot` is a deprecated function and will be removed in a future version. Please adapt your code to use either `displot` (a figure-level function with similar flexibility) or `histplot` (an axes-level function for histograms).\n",
            "  warnings.warn(msg, FutureWarning)\n"
          ],
          "name": "stderr"
        },
        {
          "output_type": "execute_result",
          "data": {
            "text/plain": [
              "<AxesSubplot:xlabel='color', ylabel='Density'>"
            ]
          },
          "metadata": {
            "tags": []
          },
          "execution_count": 48
        },
        {
          "output_type": "display_data",
          "data": {
            "image/png": "[encoded data removed]",
            "text/plain": [
              "<Figure size 720x288 with 1 Axes>"
            ]
          },
          "metadata": {
            "tags": [],
            "needs_background": "light"
          }
        }
      ]
    },
    {
      "cell_type": "markdown",
      "metadata": {
        "id": "qwezPE-JWAaG"
      },
      "source": [
        "# Probabilidad"
      ]
    },
    {
      "cell_type": "markdown",
      "metadata": {
        "id": "wK_02rqQWAaG"
      },
      "source": [
        "- Calcule la Probabilidad marginal de cada tipo morfologico y grafiquela."
      ]
    },
    {
      "cell_type": "code",
      "metadata": {
        "id": "XGD2tp1RWAaG",
        "outputId": "730c766b-11b3-4ef7-b1eb-aa98a80cc0b4"
      },
      "source": [
        "#numero de cada tipo galaxia\n",
        "(sum(data['eliptica']), sum(data['espiral']), sum(data['irregular']))"
      ],
      "execution_count": null,
      "outputs": [
        {
          "output_type": "execute_result",
          "data": {
            "text/plain": [
              "(8257, 30046, 53799)"
            ]
          },
          "metadata": {
            "tags": []
          },
          "execution_count": 59
        }
      ]
    },
    {
      "cell_type": "code",
      "metadata": {
        "id": "9zimA52cWAaH",
        "outputId": "c6750311-9abe-4d36-8bf2-3cb32d95cfc5"
      },
      "source": [
        "#probabilidades\n",
        "prob_marg_elip = sum(data['eliptica'])/len(data['eliptica'])\n",
        "prob_marg_espi = sum(data['espiral'])/len(data['espiral'])\n",
        "prob_marg_irreg = sum(data['irregular'])/len(data['irregular'])\n",
        "print(prob_marg_elip, prob_marg_espi, prob_marg_irreg)"
      ],
      "execution_count": null,
      "outputs": [
        {
          "output_type": "stream",
          "text": [
            "0.08965060476428308 0.3262252719810645 0.5841241232546525\n"
          ],
          "name": "stdout"
        }
      ]
    },
    {
      "cell_type": "code",
      "metadata": {
        "id": "TC3xSCQvWAaH",
        "outputId": "271d3c0a-65aa-46e2-df6e-3a14cb03a656"
      },
      "source": [
        "#hago un dictionario \n",
        "prob_marginales={'eliptica':str(prob_marg_elip), 'espiral': str(prob_marg_espi), 'irregular':str(prob_marg_irreg)}\n",
        "print(prob_marginales)"
      ],
      "execution_count": null,
      "outputs": [
        {
          "output_type": "stream",
          "text": [
            "{'eliptica': '0.08965060476428308', 'espiral': '0.3262252719810645', 'irregular': '0.5841241232546525'}\n"
          ],
          "name": "stdout"
        }
      ]
    },
    {
      "cell_type": "code",
      "metadata": {
        "id": "O-rGHxTZWAaI",
        "outputId": "4465574c-dc8e-4893-d61b-70f6ad471c9d"
      },
      "source": [
        "import seaborn as sns\n",
        "my_dict = {'eliptica':str(prob_marg_elip), 'espiral': str(prob_marg_espi), 'irregular':str(prob_marg_irreg)}\n",
        "prob =  [float(i[:-1]) for i in my_dict.values()]\n",
        "\n",
        "sns.barplot(x=list(my_dict.keys()),y=prob)\n",
        "plt.xlabel(\"Tipo de galaxias\")\n",
        "plt.ylabel(\"Probabilidad marginal\")\n",
        "plt.title(\"Probabilidad marginal por tipo de galaxias\") \n"
      ],
      "execution_count": null,
      "outputs": [
        {
          "output_type": "execute_result",
          "data": {
            "text/plain": [
              "Text(0.5, 1.0, 'Probabilidad marginal por tipo de galaxias')"
            ]
          },
          "metadata": {
            "tags": []
          },
          "execution_count": 89
        },
        {
          "output_type": "display_data",
          "data": {
            "image/png": "[encoded data removed]",
            "text/plain": [
              "<Figure size 720x288 with 1 Axes>"
            ]
          },
          "metadata": {
            "tags": [],
            "needs_background": "light"
          }
        }
      ]
    },
    {
      "cell_type": "markdown",
      "metadata": {
        "id": "kBG9ZEl3WAaJ"
      },
      "source": [
        ""
      ]
    },
    {
      "cell_type": "markdown",
      "metadata": {
        "id": "AmYaSYW3WAaJ"
      },
      "source": [
        "- Calcule la probabilida conjunta las galaxias de clase = E con el color  mayor a -2.1"
      ]
    },
    {
      "cell_type": "code",
      "metadata": {
        "id": "ATi6LS2tWAaK"
      },
      "source": [
        ""
      ],
      "execution_count": null,
      "outputs": []
    },
    {
      "cell_type": "markdown",
      "metadata": {
        "id": "Se4bVzFnWAaK"
      },
      "source": [
        "- Analice la correlación entre dos de las variables a través de chi-cuadrado. Muestre esta correlación a través de mapas de calor."
      ]
    },
    {
      "cell_type": "code",
      "metadata": {
        "id": "YLfaXX1SWAaL"
      },
      "source": [
        ""
      ],
      "execution_count": null,
      "outputs": []
    },
    {
      "cell_type": "markdown",
      "metadata": {
        "id": "AhIoIPt_WAaL"
      },
      "source": [
        "# Conclusiones:"
      ]
    }
  ]
}